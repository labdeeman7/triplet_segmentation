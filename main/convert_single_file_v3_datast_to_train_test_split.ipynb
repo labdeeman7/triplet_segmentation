{
 "cells": [
  {
   "cell_type": "code",
   "execution_count": 1,
   "metadata": {},
   "outputs": [],
   "source": [
    "%load_ext autoreload\n",
    "%autoreload 2\n",
    "\n",
    "import sys\n",
    "sys.path.append('../')"
   ]
  },
  {
   "cell_type": "code",
   "execution_count": 2,
   "metadata": {},
   "outputs": [],
   "source": [
    "from utils.dataset_format_conversions.dataset_conversion_split_partition import check_if_dir_exists_if_not_create_it, dataset_seqs_to_dataset_split\n",
    "from utils.dataset_format_conversions.dataset_conversion_split_partition import dataset_split_to_standard_mmdetection_form, standard_mmdetection_form_to_dataset_seqs\n",
    "from utils.dataset_format_conversions.dataset_conversion_split_partition import move_files_to_seq_folder_not_worrying_about_sparse_or_full\n",
    "\n",
    "from utils.general.dataset_variables import TripletSegmentationVariables\n",
    "import os, shutil"
   ]
  },
  {
   "cell_type": "code",
   "execution_count": 7,
   "metadata": {},
   "outputs": [],
   "source": [
    "target_dir = '../../datasets/my_triplet_seg_datasets/triplet_segmentation_dataset_v3'\n",
    "source_dir = '../../datasets/my_triplet_seg_datasets/triplet_segmentation_dataset_v3/ann_dir'\n",
    "file_type = 'ann'"
   ]
  },
  {
   "cell_type": "code",
   "execution_count": 8,
   "metadata": {},
   "outputs": [],
   "source": [
    "move_files_to_seq_folder_not_worrying_about_sparse_or_full(target_dir, source_dir, file_type)"
   ]
  },
  {
   "cell_type": "code",
   "execution_count": 9,
   "metadata": {},
   "outputs": [],
   "source": [
    "seq_to_split_dict = TripletSegmentationVariables.seq_to_split_dict_v3_gt_plus_prototype"
   ]
  },
  {
   "cell_type": "code",
   "execution_count": 10,
   "metadata": {},
   "outputs": [],
   "source": [
    "dataset_dir = '../../datasets/my_triplet_seg_datasets/triplet_segmentation_dataset_v3'"
   ]
  },
  {
   "cell_type": "code",
   "execution_count": 11,
   "metadata": {},
   "outputs": [
    {
     "name": "stdout",
     "output_type": "stream",
     "text": [
      "dataset_seqs_to_dataset_split completed\n"
     ]
    }
   ],
   "source": [
    "dataset_seqs_to_dataset_split(dataset_dir, seq_to_split_dict)"
   ]
  },
  {
   "cell_type": "code",
   "execution_count": 12,
   "metadata": {},
   "outputs": [
    {
     "name": "stdout",
     "output_type": "stream",
     "text": [
      "Files have been successfully moved.\n"
     ]
    }
   ],
   "source": [
    "dataset_split_to_standard_mmdetection_form(dataset_dir, seq_to_split_dict) "
   ]
  },
  {
   "cell_type": "code",
   "execution_count": 13,
   "metadata": {},
   "outputs": [
    {
     "data": {
      "text/plain": [
       "{'VID14': 'test',\n",
       " 'VID15': 'test',\n",
       " 'VID22': 'test',\n",
       " 'VID49': 'test',\n",
       " 'VID50': 'test',\n",
       " 'VID51': 'test',\n",
       " 'VID65': 'test',\n",
       " 'VID66': 'test',\n",
       " 'VID29': 'val',\n",
       " 'VID110': 'val',\n",
       " 'VID111': 'val',\n",
       " 'VID23': 'train',\n",
       " 'VID01': 'train',\n",
       " 'VID02': 'train',\n",
       " 'VID04': 'train',\n",
       " 'VID05': 'train',\n",
       " 'VID06': 'train',\n",
       " 'VID08': 'train',\n",
       " 'VID103': 'train',\n",
       " 'VID10': 'train',\n",
       " 'VID12': 'train',\n",
       " 'VID13': 'train',\n",
       " 'VID18': 'train',\n",
       " 'VID25': 'train',\n",
       " 'VID26': 'train',\n",
       " 'VID27': 'train',\n",
       " 'VID31': 'train',\n",
       " 'VID32': 'train',\n",
       " 'VID35': 'train',\n",
       " 'VID36': 'train',\n",
       " 'VID40': 'train',\n",
       " 'VID42': 'train',\n",
       " 'VID43': 'train',\n",
       " 'VID47': 'train',\n",
       " 'VID48': 'train',\n",
       " 'VID52': 'train',\n",
       " 'VID56': 'train',\n",
       " 'VID57': 'train',\n",
       " 'VID60': 'train',\n",
       " 'VID62': 'train',\n",
       " 'VID68': 'train',\n",
       " 'VID70': 'train',\n",
       " 'VID73': 'train',\n",
       " 'VID74': 'train',\n",
       " 'VID75': 'train',\n",
       " 'VID78': 'train',\n",
       " 'VID79': 'train',\n",
       " 'VID80': 'train',\n",
       " 'VID92': 'train',\n",
       " 'VID96': 'train'}"
      ]
     },
     "execution_count": 13,
     "metadata": {},
     "output_type": "execute_result"
    }
   ],
   "source": [
    "seq_to_split_dict"
   ]
  },
  {
   "cell_type": "markdown",
   "metadata": {},
   "source": [
    "# DO not go past here, unless you want to reorganize"
   ]
  },
  {
   "cell_type": "code",
   "execution_count": 22,
   "metadata": {},
   "outputs": [
    {
     "name": "stdout",
     "output_type": "stream",
     "text": [
      "all folders can be found\n",
      "Files have been successfully reorganized into sequence folders.\n"
     ]
    }
   ],
   "source": [
    "standard_mmdetection_form_to_dataset_seqs(dataset_dir, seq_to_split_dict)"
   ]
  },
  {
   "cell_type": "code",
   "execution_count": 6,
   "metadata": {},
   "outputs": [],
   "source": [
    "a =   {\n",
    "                'train': [1, 2, 4, 5, 6, 8, 10, 12, 13, 18, 23, 25, 26, 27, 31, 32, 35,\n",
    "                          36, 40, 42, 43, 47, 48, 52, 56, 57, 60, 62, 68, 70, 73, 74,\n",
    "                          75, 78, 79, 80, 92, 96, 103],\n",
    "                'val': [29, 110, 111],\n",
    "                'test': [14, 15, 22, 49, 50, 51, 65, 66]\n",
    "            }"
   ]
  },
  {
   "cell_type": "code",
   "execution_count": 7,
   "metadata": {},
   "outputs": [
    {
     "data": {
      "text/plain": [
       "50"
      ]
     },
     "execution_count": 7,
     "metadata": {},
     "output_type": "execute_result"
    }
   ],
   "source": [
    "len(a['test']) + len(a['train']) + len(a['val'])"
   ]
  },
  {
   "cell_type": "code",
   "execution_count": 5,
   "metadata": {},
   "outputs": [
    {
     "data": {
      "text/plain": [
       "52"
      ]
     },
     "execution_count": 5,
     "metadata": {},
     "output_type": "execute_result"
    }
   ],
   "source": [
    "41+3+8"
   ]
  },
  {
   "cell_type": "code",
   "execution_count": null,
   "metadata": {},
   "outputs": [],
   "source": []
  }
 ],
 "metadata": {
  "kernelspec": {
   "display_name": ".tripletsegmentation",
   "language": "python",
   "name": "python3"
  },
  "language_info": {
   "codemirror_mode": {
    "name": "ipython",
    "version": 3
   },
   "file_extension": ".py",
   "mimetype": "text/x-python",
   "name": "python",
   "nbconvert_exporter": "python",
   "pygments_lexer": "ipython3",
   "version": "3.12.1"
  }
 },
 "nbformat": 4,
 "nbformat_minor": 2
}
