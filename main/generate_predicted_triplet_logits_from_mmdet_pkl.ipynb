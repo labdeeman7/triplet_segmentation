{
 "cells": [
  {
   "cell_type": "code",
   "execution_count": 20,
   "metadata": {},
   "outputs": [
    {
     "name": "stdout",
     "output_type": "stream",
     "text": [
      "The autoreload extension is already loaded. To reload it, use:\n",
      "  %reload_ext autoreload\n"
     ]
    }
   ],
   "source": [
    "%load_ext autoreload\n",
    "%autoreload 2\n",
    "\n",
    "import sys\n",
    "sys.path.append('../')\n",
    "\n",
    "import pickle\n",
    "import os\n",
    "import numpy as np\n",
    "import torch\n",
    "import torch.nn.functional as F\n",
    "import pickle\n",
    "import json\n",
    "import os\n",
    "from PIL import Image\n",
    "from pycocotools import mask as coco_mask\n",
    "\n",
    "from utils.general.dataset_variables import TripletSegmentationVariables \n",
    "\n",
    "TRIPLET_DICT = TripletSegmentationVariables.categories['triplet']\n"
   ]
  },
  {
   "cell_type": "code",
   "execution_count": 21,
   "metadata": {},
   "outputs": [],
   "source": [
    "pickle_file_path = '../results/mask2former_direct_triplet_prediction/mask2former_direct_triplet_prediction_best_coco_bbox_mAP_iter_60000.pkl'\n",
    "output_json_path  = '../results/mask2former_direct_triplet_prediction/predicted_logits.json'\n",
    "# output_mask_dir = '../../datasets/my_triplet_seg_datasets/triplet_segmentation_dataset_v2_second_stage/test_soft_labels/predicted_instance_masks'\n",
    "\n",
    "# temperature = 2"
   ]
  },
  {
   "cell_type": "code",
   "execution_count": 22,
   "metadata": {},
   "outputs": [],
   "source": [
    "with open(pickle_file_path, 'rb') as file:\n",
    "        # Load the object from the file\n",
    "        mmdet_results = pickle.load(file)"
   ]
  },
  {
   "cell_type": "code",
   "execution_count": 24,
   "metadata": {},
   "outputs": [
    {
     "data": {
      "text/plain": [
       "tensor([17, 19,  7, 12, 17, 19, 29, 94, 17,  7, 17,  7, 12, 17, 19, 22, 94, 17,\n",
       "        17, 17, 17, 17, 17, 17, 60, 82, 96,  7, 17, 19, 22, 29, 94, 17, 17, 17,\n",
       "        22,  7, 12, 16, 17, 19, 20, 94, 97, 96, 17, 17, 17, 17, 17,  7, 12, 16,\n",
       "        17, 18, 19, 60, 94,  7, 12, 17, 19, 22, 29, 94, 17, 17, 17, 17, 17,  7,\n",
       "        12, 16, 17, 19, 29, 60, 94, 17, 17, 17, 17, 17, 17, 17, 19, 94, 17, 17,\n",
       "        17, 17, 17, 17,  7, 17,  7, 17, 17, 16])"
      ]
     },
     "execution_count": 24,
     "metadata": {},
     "output_type": "execute_result"
    }
   ],
   "source": [
    "mmdet_results[100]['pred_instances']['labels']"
   ]
  },
  {
   "cell_type": "code",
   "execution_count": 30,
   "metadata": {},
   "outputs": [
    {
     "data": {
      "text/plain": [
       "100"
      ]
     },
     "execution_count": 30,
     "metadata": {},
     "output_type": "execute_result"
    }
   ],
   "source": [
    "len(mmdet_results[0]['pred_instances']['logits'][0])"
   ]
  },
  {
   "cell_type": "code",
   "execution_count": null,
   "metadata": {},
   "outputs": [
    {
     "name": "stdout",
     "output_type": "stream",
     "text": [
      "✅ Saved softmax JSON to: ../results/mask2former_direct_triplet_prediction/predicted_logits.json\n"
     ]
    }
   ],
   "source": [
    "# Initialize output dictionary\n",
    "final_json = {}\n",
    "\n",
    "for result  in mmdet_results:\n",
    "    img_filename = os.path.basename(result ['img_path'])\n",
    "    img_id = os.path.splitext(img_filename)[0]\n",
    "\n",
    "    pred_instances = result['pred_instances']\n",
    "    masks = pred_instances['masks']\n",
    "    scores = pred_instances['scores']\n",
    "    logits = pred_instances['logits']\n",
    "    labels = pred_instances['labels']\n",
    "    \n",
    "    # Convert to numpy if needed\n",
    "    if isinstance(masks, torch.Tensor):\n",
    "        masks = masks.cpu().numpy()\n",
    "    if isinstance(logits, torch.Tensor):\n",
    "        logits = logits.cpu().numpy()\n",
    "    if isinstance(scores, torch.Tensor):\n",
    "        scores = scores.cpu().numpy()\n",
    "    if isinstance(labels, torch.Tensor):\n",
    "        labels = labels.cpu().numpy()\n",
    "\n",
    "    image_instances = []\n",
    "    \n",
    "    if isinstance(masks, torch.Tensor):\n",
    "        masks = masks.cpu().numpy()\n",
    "\n",
    "    for i, (score, logit, label) in enumerate(zip(scores, logits, labels)):\n",
    "        if score < 0.5:\n",
    "            continue\n",
    "        \n",
    "        rle = masks[i]\n",
    "        instance_mask = coco_mask.decode(rle).astype(np.uint8) * 255  # Binary mask\n",
    "        \n",
    "        # Remove snare class from logits\n",
    "        softmax = torch.nn.functional.softmax(torch.tensor(logit), dim=0).numpy()\n",
    "        predicted_class_name = TRIPLET_DICT[str(label + 1)]\n",
    "\n",
    "        \n",
    "        # Save binary mask\n",
    "        mask_filename = f\"{img_id}_instance_{i}.png\"\n",
    "        # mask_path = os.path.join(output_mask_dir, mask_filename)\n",
    "        # Image.fromarray(instance_mask).save(mask_path)\n",
    "        \n",
    "        image_instances.append({\n",
    "            \"instance_id\": i,\n",
    "            \"predicted_class_name\": predicted_class_name,\n",
    "            \"softmax\": softmax.tolist(),\n",
    "            \"mask_path\": mask_filename\n",
    "        })\n",
    "        \n",
    "    # Save None if no valid detections\n",
    "    final_json[img_id] = image_instances if image_instances else None\n",
    "        \n",
    "\n",
    "\n",
    "# Save\n",
    "with open(output_json_path, 'w') as f:\n",
    "    json.dump(final_json, f, indent=4)\n",
    "\n",
    "print(f\"✅ Saved softmax JSON to: {output_json_path}\")\n",
    "# print(f\"✅ Masks saved to: {output_mask_dir}\")            \n",
    "        "
   ]
  }
 ],
 "metadata": {
  "kernelspec": {
   "display_name": ".tripletsegmentation",
   "language": "python",
   "name": "python3"
  },
  "language_info": {
   "codemirror_mode": {
    "name": "ipython",
    "version": 3
   },
   "file_extension": ".py",
   "mimetype": "text/x-python",
   "name": "python",
   "nbconvert_exporter": "python",
   "pygments_lexer": "ipython3",
   "version": "3.12.1"
  }
 },
 "nbformat": 4,
 "nbformat_minor": 2
}
