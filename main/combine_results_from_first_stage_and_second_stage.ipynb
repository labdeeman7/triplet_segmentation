{
 "cells": [
  {
   "cell_type": "code",
   "execution_count": 1,
   "metadata": {},
   "outputs": [],
   "source": [
    "%load_ext autoreload\n",
    "%autoreload 2\n",
    "\n",
    "import sys\n",
    "sys.path.append('../')"
   ]
  },
  {
   "cell_type": "code",
   "execution_count": 2,
   "metadata": {},
   "outputs": [],
   "source": [
    "import os\n",
    "import json\n",
    "import shutil"
   ]
  },
  {
   "cell_type": "code",
   "execution_count": 16,
   "metadata": {},
   "outputs": [],
   "source": [
    "\n",
    "# # Paths to the folder of first-stage JSONs and the second-stage JSON\n",
    "# first_stage_results_folder = \"../resnet_model/results/combine_first_and_second_stage_results/mask2former_test_triplet_segmentation_v2_dataset_on_full\"\n",
    "# second_stage_file = \"../resnet_model/results/verb_target_prediction/predict_mask2former_test_triplet_segmentation_v2_results_full.json\""
   ]
  },
  {
   "cell_type": "code",
   "execution_count": 3,
   "metadata": {},
   "outputs": [],
   "source": [
    "first_stage_results_source_folder = \"../data/triplet_segmentation_dataset_v2_second_stage/mask2former_instrument_prediction/ann_dir\"\n",
    "first_stage_results_destination_folder = \"../resnet_model/work_dirs/multitask_resnet_standard/combine_first_and_second_stage_results\"\n",
    "second_stage_results_file = \"../resnet_model/work_dirs/multitask_resnet_standard/results.json\""
   ]
  },
  {
   "cell_type": "code",
   "execution_count": 4,
   "metadata": {},
   "outputs": [
    {
     "data": {
      "text/plain": [
       "'../resnet_model/work_dirs/multitask_resnet_standard/combine_first_and_second_stage_results'"
      ]
     },
     "execution_count": 4,
     "metadata": {},
     "output_type": "execute_result"
    }
   ],
   "source": [
    "shutil.copytree(first_stage_results_source_folder, first_stage_results_destination_folder)"
   ]
  },
  {
   "cell_type": "code",
   "execution_count": 5,
   "metadata": {},
   "outputs": [],
   "source": [
    "from utils.general.dataset_variables import TripletSegmentationVariables\n",
    "\n",
    "VERB_ID_TO_CLASS_DICT = TripletSegmentationVariables.categories['verb']\n",
    "TARGET_ID_TO_CLASS_DICT = TripletSegmentationVariables.categories['target']"
   ]
  },
  {
   "cell_type": "code",
   "execution_count": 6,
   "metadata": {},
   "outputs": [
    {
     "name": "stdout",
     "output_type": "stream",
     "text": [
      "Updated all first-stage JSONs with second-stage results.\n"
     ]
    }
   ],
   "source": [
    "# Load the second-stage results\n",
    "with open(second_stage_results_file, 'r') as f:\n",
    "    second_stage_results = json.load(f)\n",
    "\n",
    "# Iterate through all JSON files in the first-stage folder\n",
    "for file_name in os.listdir(first_stage_results_destination_folder):\n",
    "    file_name_no_ext = file_name.split('.')[0]\n",
    "    if file_name.endswith(\".json\"):\n",
    "        first_stage_path = os.path.join(first_stage_results_destination_folder, file_name)\n",
    "        \n",
    "        # Load the first-stage JSON\n",
    "        with open(first_stage_path, 'r') as f:\n",
    "            first_stage_data = json.load(f)\n",
    "\n",
    "        # Iterate through each shape in the first-stage JSON\n",
    "        for shape in first_stage_data['shapes']:\n",
    "            # Construct the unique key used in the second-stage results\n",
    "            \n",
    "            image_key = f\"{file_name_no_ext},{shape['label']},{shape['group_id']},{shape['verb']},{shape['target']}\"\n",
    "            \n",
    "            # If the key exists in the second-stage results, update the shape\n",
    "            if image_key in second_stage_results:\n",
    "                second_stage_info = second_stage_results[image_key]\n",
    "                shape['verb'] =  VERB_ID_TO_CLASS_DICT[str(second_stage_info['verb'] + 1)]\n",
    "                shape['target'] = TARGET_ID_TO_CLASS_DICT[str(second_stage_info['target'] + 1)]\n",
    "                shape['verb_score'] = second_stage_info.get('verb_score', None)\n",
    "                shape['target_score'] = second_stage_info.get('target_score', None)\n",
    "            else: \n",
    "                print(f'imagekey does not exist {image_key}')    \n",
    "\n",
    "        # Save the updated JSON back to the folder\n",
    "        with open(first_stage_path, 'w') as f:\n",
    "            json.dump(first_stage_data, f, indent=4)\n",
    "\n",
    "print(\"Updated all first-stage JSONs with second-stage results.\")\n"
   ]
  },
  {
   "cell_type": "code",
   "execution_count": null,
   "metadata": {},
   "outputs": [],
   "source": []
  }
 ],
 "metadata": {
  "kernelspec": {
   "display_name": ".tripletsegmentation",
   "language": "python",
   "name": "python3"
  },
  "language_info": {
   "codemirror_mode": {
    "name": "ipython",
    "version": 3
   },
   "file_extension": ".py",
   "mimetype": "text/x-python",
   "name": "python",
   "nbconvert_exporter": "python",
   "pygments_lexer": "ipython3",
   "version": "3.12.1"
  }
 },
 "nbformat": 4,
 "nbformat_minor": 2
}
