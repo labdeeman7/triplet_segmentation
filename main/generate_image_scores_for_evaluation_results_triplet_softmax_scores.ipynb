{
 "cells": [
  {
   "cell_type": "markdown",
   "metadata": {},
   "source": [
    "## Logits of second model and classification results"
   ]
  },
  {
   "cell_type": "markdown",
   "metadata": {},
   "source": [
    "Assuming confidence of the first model is one at all instances, Which Is exactly what I did, then we do not even need the first stage to calculate the second stage. We can just use the logits directly. "
   ]
  },
  {
   "cell_type": "markdown",
   "metadata": {},
   "source": [
    "Wrong!!!! YOu did not get the logits output correctly. "
   ]
  },
  {
   "cell_type": "code",
   "execution_count": 1,
   "metadata": {},
   "outputs": [],
   "source": [
    "%load_ext autoreload\n",
    "%autoreload 2\n",
    "\n",
    "import sys\n",
    "sys.path.append('../')\n",
    "sys.path.append('../resnet_model')\n",
    "\n",
    "import pickle\n",
    "import os\n",
    "import numpy as np\n",
    "import json\n",
    "import torch\n",
    "\n",
    "from utils.general.dataset_variables import TripletSegmentationVariables \n",
    "from utils.general.read_files import read_from_json\n",
    "from utils.general.save_files import save_to_json\n",
    "\n",
    "INSTRUMENT_ID_TO_CLASS_DICT = TripletSegmentationVariables.categories['instrument']\n",
    "INSTRUMENT_CLASS_TO_ID_DICT = {instrument_class: instrument_id for instrument_id, instrument_class in INSTRUMENT_ID_TO_CLASS_DICT.items()}\n",
    "TRIPLET_ID_TO_CLASS_DICT = TripletSegmentationVariables.categories['triplet']\n",
    "TRIPLET_NAME_TO_ID_DICT = {triplet_class: triplet_id for triplet_id, triplet_class in TRIPLET_ID_TO_CLASS_DICT.items()}\n",
    "VERBTARGET_DICT = TripletSegmentationVariables.categories['verbtarget'] \n",
    "\n",
    "INSTRUMENT_TO_VERBTARGET_CLASSES = TripletSegmentationVariables.instrument_to_verbtarget_classes\n",
    "INSTRUMENT_TO_TRIPLET_CLASSES = TripletSegmentationVariables.instrument_to_triplet_classes\n"
   ]
  },
  {
   "cell_type": "markdown",
   "metadata": {},
   "source": [
    "# Softmax needed"
   ]
  },
  {
   "cell_type": "code",
   "execution_count": 2,
   "metadata": {},
   "outputs": [],
   "source": [
    "def softmax(x):\n",
    "    x = np.array(x)\n",
    "    e_x = np.exp(x - np.max(x))  # for numerical stability\n",
    "    return e_x / e_x.sum()"
   ]
  },
  {
   "cell_type": "markdown",
   "metadata": {},
   "source": [
    "## My verbtargets and verb and targets - I use softmax"
   ]
  },
  {
   "cell_type": "code",
   "execution_count": 3,
   "metadata": {},
   "outputs": [],
   "source": [
    "def load_valid_triplets(path=\"maps.txt\"):\n",
    "    triplets = []\n",
    "    with open(path, 'r') as f:\n",
    "        for line in f:\n",
    "            if line.strip().startswith('# IVT'):\n",
    "                continue  # skip header\n",
    "            ivt, i, v, t, _, _ = line.strip().split(',')\n",
    "            triplets.append((int(ivt), int(i), int(v), int(t)))\n",
    "    return triplets"
   ]
  },
  {
   "cell_type": "code",
   "execution_count": 4,
   "metadata": {},
   "outputs": [
    {
     "data": {
      "text/plain": [
       "100"
      ]
     },
     "execution_count": 4,
     "metadata": {},
     "output_type": "execute_result"
    }
   ],
   "source": [
    "len(load_valid_triplets(path=\"../utils/general/maps.txt\"))"
   ]
  },
  {
   "cell_type": "code",
   "execution_count": null,
   "metadata": {},
   "outputs": [],
   "source": [
    "# # multitask instrument verb and target\n",
    "# def generate_softmax_score_for_detected_objects_from_multitask_instrument_verb_and_target_logit(logits_instrument, logits_verb, logits_target, tool_id, triplet_map):   \n",
    "    \n",
    "#     instrument_logits = np.array(logits_instrument) \n",
    "#     verb_logits = np.array(logits_verb)\n",
    "#     target_logits =  np.array(logits_target)\n",
    "    \n",
    "#     instrument_probs = softmax(verb_logits)\n",
    "#     verb_probs = softmax(verb_logits)\n",
    "#     target_probs = softmax(target_logits)\n",
    "    \n",
    "   \n",
    "#     triplet_softmax = np.zeros(len(triplet_map))\n",
    "    \n",
    "#     for idx, (ivt, i, v, t) in enumerate(triplet_map):\n",
    "#         if i == tool_id:\n",
    "#             triplet_softmax[ivt] = instrument_probs[i] * verb_probs[v] * target_probs[t]\n",
    "    \n",
    "#     triplet_softmax = triplet_softmax / triplet_softmax.sum()      \n",
    "\n",
    "#     predicted_triplet_index = int(np.argmax(triplet_softmax)) + 1  # if triplet_dict is 1-based\n",
    "#     predicted_triplet_name = TRIPLET_ID_TO_CLASS_DICT[str(predicted_triplet_index)]\n",
    "\n",
    "#     return triplet_softmax, predicted_triplet_name"
   ]
  },
  {
   "cell_type": "code",
   "execution_count": 6,
   "metadata": {},
   "outputs": [],
   "source": [
    "# multitask verb and target\n",
    "def generate_softmax_score_for_detected_objects_from_multitask_verb_and_target_logit(logits_verb, logits_target, tool_id, triplet_map):   \n",
    "    verb_logits = np.array(logits_verb)\n",
    "    target_logits =  np.array(logits_target)\n",
    "\n",
    "    verb_probs = softmax(verb_logits)\n",
    "    target_probs = softmax(target_logits)\n",
    "    \n",
    "    triplet_softmax = np.zeros(len(triplet_map))\n",
    "    \n",
    "    for idx, (ivt, i, v, t) in enumerate(triplet_map):\n",
    "        if i == tool_id:\n",
    "            triplet_softmax[ivt] = verb_probs[v] * target_probs[t]\n",
    "    \n",
    "    triplet_softmax = triplet_softmax / triplet_softmax.sum()      \n",
    "\n",
    "    predicted_triplet_index = int(np.argmax(triplet_softmax)) + 1  # if triplet_dict is 1-based\n",
    "    predicted_triplet_name = TRIPLET_ID_TO_CLASS_DICT[str(predicted_triplet_index)]\n",
    "\n",
    "    return triplet_softmax, predicted_triplet_name"
   ]
  },
  {
   "cell_type": "code",
   "execution_count": 7,
   "metadata": {},
   "outputs": [],
   "source": [
    "# single task verb_target\n",
    "def generate_softmax_score_for_detected_objects_from_verbtarget_logit(logits_for_instance, tool_id):\n",
    "    amount = len(INSTRUMENT_TO_VERBTARGET_CLASSES[tool_id])\n",
    "    logits = logits_for_instance[:amount]\n",
    "\n",
    "    assert not np.isinf(logits).any()\n",
    "\n",
    "    triplet_indices = INSTRUMENT_TO_TRIPLET_CLASSES[tool_id]\n",
    "    assert len(logits) == len(triplet_indices)\n",
    "\n",
    "    triplet_logits = np.full(100, -np.inf)\n",
    "    for idx, logit in zip(triplet_indices, logits):\n",
    "        triplet_logits[idx] = logit\n",
    "\n",
    "    triplet_softmax = softmax(triplet_logits)\n",
    "    predicted_triplet_index = int(np.argmax(triplet_softmax)) + 1  # if triplet_dict is 1-based\n",
    "    predicted_triplet_name = TRIPLET_ID_TO_CLASS_DICT[str(predicted_triplet_index)]\n",
    "\n",
    "    return triplet_softmax, predicted_triplet_name\n"
   ]
  },
  {
   "cell_type": "code",
   "execution_count": 8,
   "metadata": {},
   "outputs": [],
   "source": [
    "def get_ivt_scores_from_my_logits(logits_file_path, task='verbtarget', triplet_map_path=\"../utils/general/maps.txt\"):\n",
    "    '''\n",
    "    options would be \n",
    "    \n",
    "    '''\n",
    "    second_stage_logits = read_from_json(logits_file_path)\n",
    "\n",
    "    results = {}\n",
    "\n",
    "    for instance_key, logit_dict in second_stage_logits.items():\n",
    "        image_name, tool_name, *_ = instance_key.split(',')\n",
    "        image_name = image_name.replace('t50_', '')\n",
    "        tool_id = int(INSTRUMENT_CLASS_TO_ID_DICT[tool_name]) - 1\n",
    "\n",
    "        if task == 'verbtarget':\n",
    "            logits = logit_dict['logits_verbtarget']\n",
    "            softmax_vector, predicted_triplet_name = generate_softmax_score_for_detected_objects_from_verbtarget_logit(logits, tool_id)\n",
    "        elif task ==  'verb_and_target_multitask':  \n",
    "            logits_verb = logit_dict['logits_verb']\n",
    "            logits_target = logit_dict['logits_target']\n",
    "            triplet_map = load_valid_triplets(path=triplet_map_path)\n",
    "            softmax_vector, predicted_triplet_name = generate_softmax_score_for_detected_objects_from_multitask_verb_and_target_logit(logits_verb, logits_target, tool_id, triplet_map)\n",
    "        elif task ==  'instrument_verb_and_target_multitask': \n",
    "            logits_instrument = logit_dict['logits_instrument']\n",
    "            logits_verb = logit_dict['logits_verb']\n",
    "            logits_target = logit_dict['logits_target']\n",
    "            triplet_map = load_valid_triplets(path=triplet_map_path)\n",
    "            softmax_vector, predicted_triplet_name = generate_softmax_score_for_detected_objects_from_multitask_instrument_verb_and_target_logit(logits_instrument, logits_verb, logits_target, tool_id, triplet_map)   \n",
    "             \n",
    "              \n",
    "\n",
    "        if image_name not in results:\n",
    "            results[image_name] = {\n",
    "                'triplet_prediction': softmax_vector,\n",
    "                'triplet_name': [predicted_triplet_name]  # list of per-instance predictions\n",
    "            }\n",
    "        else:\n",
    "            results[image_name]['triplet_prediction'] = np.maximum(\n",
    "                results[image_name]['triplet_prediction'],\n",
    "                softmax_vector\n",
    "            )\n",
    "            results[image_name]['triplet_name'].append(predicted_triplet_name)\n",
    "\n",
    "    # Convert prediction vector to list for JSON\n",
    "    for image_name in results:\n",
    "        results[image_name]['triplet_prediction'] = results[image_name]['triplet_prediction'].tolist()\n",
    "\n",
    "    return results\n"
   ]
  },
  {
   "cell_type": "code",
   "execution_count": 15,
   "metadata": {},
   "outputs": [],
   "source": [
    "# work_dir = '../resnet_model/results_from_dgx/v3/multitask_resnet_fpn' \n",
    "# second_stage_logits_file_path = f'{work_dir}/results_logits.json'\n",
    "# save_path_for_softmax_scores = f'{work_dir}/results_triplet_softmax_scores.json'\n",
    "\n",
    "\n",
    "# work_dir = '../resnet_model/results_from_dgx/v3/multitask_resnet_fpn_transformer_decoder' \n",
    "# second_stage_logits_file_path = f'{work_dir}/results_logits.json'\n",
    "# save_path_for_softmax_scores = f'{work_dir}/results_triplet_softmax_scores.json'\n",
    "\n",
    "\n",
    "work_dir = '../resnet_model/results_from_dgx/v3/singletask_resnet_fpn_verbtarget' \n",
    "second_stage_logits_file_path = f'{work_dir}/results_logits.json'\n",
    "save_path_for_softmax_scores = f'{work_dir}/results_triplet_softmax_scores.json'\n",
    "\n"
   ]
  },
  {
   "cell_type": "code",
   "execution_count": 16,
   "metadata": {},
   "outputs": [],
   "source": [
    "triplet_sigmoid_for_all_results = get_ivt_scores_from_my_logits(logits_file_path = second_stage_logits_file_path,\n",
    "                                                                task = 'verbtarget' )\n",
    "\n",
    "save_to_json(data=triplet_sigmoid_for_all_results,\n",
    "             json_file_path=save_path_for_softmax_scores)"
   ]
  },
  {
   "cell_type": "markdown",
   "metadata": {},
   "source": [
    "## Four task prediction"
   ]
  },
  {
   "cell_type": "code",
   "execution_count": 21,
   "metadata": {},
   "outputs": [],
   "source": [
    "def generate_softmax_score_for_detected_objects_from_logit_ivt(triplet_logits):\n",
    "    \n",
    "    triplet_softmax = softmax(triplet_logits)\n",
    "    predicted_triplet_index = int(np.argmax(triplet_softmax)) + 1  # if triplet_dict is 1-based\n",
    "    predicted_triplet_name = TRIPLET_ID_TO_CLASS_DICT[str(predicted_triplet_index)]\n",
    "\n",
    "    return triplet_softmax, predicted_triplet_name\n"
   ]
  },
  {
   "cell_type": "code",
   "execution_count": 24,
   "metadata": {},
   "outputs": [],
   "source": [
    "def get_scores_from_my_second_stage_logits_ivt(second_stage_logits_file_path):\n",
    "    second_stage_logits = read_from_json(second_stage_logits_file_path)\n",
    "\n",
    "    results = {}\n",
    "\n",
    "    for instance_key, logit_dict in second_stage_logits.items():\n",
    "        image_name, instance_name, = instance_key.split('_instance_')\n",
    "        image_name = image_name.replace('t50_', '')\n",
    "\n",
    "        triplet_logits = logit_dict['logits_ivt']\n",
    "        softmax_vector, predicted_triplet_name = generate_softmax_score_for_detected_objects_from_logit_ivt(triplet_logits)\n",
    "\n",
    "        if image_name not in results:\n",
    "            results[image_name] = {\n",
    "                'triplet_prediction': softmax_vector,\n",
    "                'triplet_name': [predicted_triplet_name]  # list of per-instance predictions\n",
    "            }\n",
    "        else:\n",
    "            results[image_name]['triplet_prediction'] = np.maximum(\n",
    "                results[image_name]['triplet_prediction'],\n",
    "                softmax_vector\n",
    "            )\n",
    "            results[image_name]['triplet_name'].append(predicted_triplet_name)\n",
    "\n",
    "    # Convert prediction vector to list for JSON\n",
    "    for image_name in results:\n",
    "        results[image_name]['triplet_prediction'] = results[image_name]['triplet_prediction'].tolist()\n",
    "\n",
    "    return results\n"
   ]
  },
  {
   "cell_type": "code",
   "execution_count": 25,
   "metadata": {},
   "outputs": [],
   "source": [
    "second_stage_logits_file_path = '../resnet_model/work_dirs/fourtask_moe/results_logits.json'\n",
    "triplet_sigmoid_for_all_results = get_scores_from_my_second_stage_logits_ivt(second_stage_logits_file_path)\n",
    "\n",
    "save_path_for_sigmoid_scores = '../resnet_model/work_dirs/fourtask_moe/results_triplet_softmax_scores.json'\n",
    "save_to_json(data=triplet_sigmoid_for_all_results,\n",
    "             json_file_path=save_path_for_sigmoid_scores)"
   ]
  },
  {
   "cell_type": "code",
   "execution_count": null,
   "metadata": {},
   "outputs": [],
   "source": []
  },
  {
   "cell_type": "markdown",
   "metadata": {},
   "source": [
    "## For Triplet from MMdet"
   ]
  },
  {
   "cell_type": "code",
   "execution_count": 3,
   "metadata": {},
   "outputs": [
    {
     "name": "stdout",
     "output_type": "stream",
     "text": [
      "The autoreload extension is already loaded. To reload it, use:\n",
      "  %reload_ext autoreload\n"
     ]
    }
   ],
   "source": [
    "%load_ext autoreload\n",
    "%autoreload 2\n",
    "\n",
    "import sys\n",
    "sys.path.append('../')\n",
    "sys.path.append('../resnet_model')\n",
    "\n",
    "import pickle\n",
    "import os\n",
    "import numpy as np\n",
    "import json\n",
    "\n",
    "from utils.general.dataset_variables import TripletSegmentationVariables \n",
    "from utils.general.read_files import read_from_json\n",
    "from utils.general.save_files import save_to_json\n",
    "\n"
   ]
  },
  {
   "cell_type": "code",
   "execution_count": 4,
   "metadata": {},
   "outputs": [],
   "source": [
    "def get_scores_from_my_mmdet_logits(mmdet_logits_file_path):\n",
    "    mmdet_logits = read_from_json(mmdet_logits_file_path)\n",
    "\n",
    "    results = {}\n",
    "\n",
    "    for image_name, logit_dict_for_all_instances in mmdet_logits.items():\n",
    "        image_name = image_name.replace('t50_', '')\n",
    "        \n",
    "        if logit_dict_for_all_instances is None:\n",
    "            continue\n",
    "        \n",
    "        for  logit_dict_per_instance in logit_dict_for_all_instances:\n",
    "            softmax_vector = logit_dict_per_instance['softmax']\n",
    "            predicted_triplet_name = logit_dict_per_instance['predicted_class_name']\n",
    "            \n",
    "            if image_name not in results:\n",
    "                results[image_name] = {\n",
    "                    'triplet_prediction': np.array(softmax_vector),\n",
    "                    'triplet_name': [predicted_triplet_name] \n",
    "                }\n",
    "            else:\n",
    "                results[image_name]['triplet_prediction'] = np.maximum(\n",
    "                    results[image_name]['triplet_prediction'],\n",
    "                    softmax_vector\n",
    "                )\n",
    "                results[image_name]['triplet_name'].append(predicted_triplet_name)\n",
    "\n",
    "    # Convert prediction vector to list for JSON\n",
    "    for image_name in results:\n",
    "        results[image_name]['triplet_prediction'] = results[image_name]['triplet_prediction'].tolist()\n",
    "\n",
    "    return results\n"
   ]
  },
  {
   "cell_type": "code",
   "execution_count": 7,
   "metadata": {},
   "outputs": [],
   "source": [
    "# mmdet_logits_file_path = '../results/mask2former_direct_triplet_prediction/predicted_logits.json'\n",
    "# mmdet_logits_file_path = '../results/triplet_direct_v2/predicted_logits.json'\n",
    "# save_path_for_scores = '../results/triplet_direct_v2/results_triplet_softmax_scores.json'\n",
    "\n",
    "mmdet_logits_file_path = '../results/multiple_heads_v2/predicted_logits.json'\n",
    "save_path_for_scores = '../results/multiple_heads_v2/results_triplet_softmax_scores.json'\n",
    "triplet_sigmoid_for_all_results = get_scores_from_my_mmdet_logits(mmdet_logits_file_path)\n",
    "\n",
    "\n",
    "save_to_json(data=triplet_sigmoid_for_all_results,\n",
    "             json_file_path=save_path_for_scores)"
   ]
  },
  {
   "cell_type": "markdown",
   "metadata": {},
   "source": []
  }
 ],
 "metadata": {
  "kernelspec": {
   "display_name": ".tripletsegmentation",
   "language": "python",
   "name": "python3"
  },
  "language_info": {
   "codemirror_mode": {
    "name": "ipython",
    "version": 3
   },
   "file_extension": ".py",
   "mimetype": "text/x-python",
   "name": "python",
   "nbconvert_exporter": "python",
   "pygments_lexer": "ipython3",
   "version": "3.12.1"
  }
 },
 "nbformat": 4,
 "nbformat_minor": 2
}
