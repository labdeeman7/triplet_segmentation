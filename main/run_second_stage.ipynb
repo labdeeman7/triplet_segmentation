{
 "cells": [
  {
   "cell_type": "code",
   "execution_count": 1,
   "metadata": {},
   "outputs": [],
   "source": [
    "%load_ext autoreload\n",
    "%autoreload 2\n",
    "\n",
    "import sys\n",
    "sys.path.append('../')"
   ]
  },
  {
   "cell_type": "code",
   "execution_count": 2,
   "metadata": {},
   "outputs": [],
   "source": [
    "import os\n",
    "import json\n",
    "import shutil"
   ]
  },
  {
   "cell_type": "code",
   "execution_count": 3,
   "metadata": {},
   "outputs": [],
   "source": [
    "from utils.general.save_files import save_to_json"
   ]
  },
  {
   "cell_type": "markdown",
   "metadata": {},
   "source": [
    "# Multitask "
   ]
  },
  {
   "cell_type": "code",
   "execution_count": 4,
   "metadata": {},
   "outputs": [],
   "source": [
    "# %run ../resnet_model/main_multitask.py --config config.triplet_segmentation_test_folder.multitask_resnet_fpn_masked_embeddings_shared_transformer_decoder"
   ]
  },
  {
   "cell_type": "markdown",
   "metadata": {},
   "source": [
    "# Singletask "
   ]
  },
  {
   "cell_type": "code",
   "execution_count": 7,
   "metadata": {},
   "outputs": [
    {
     "name": "stderr",
     "output_type": "stream",
     "text": [
      "[autoreload of model_utils failed: Traceback (most recent call last):\n",
      "  File \"c:\\Users\\tal22\\Documents\\repositories\\triplet_segmentation\\.tripletsegmentation\\Lib\\site-packages\\IPython\\extensions\\autoreload.py\", line 276, in check\n",
      "    superreload(m, reload, self.old_objects)\n",
      "  File \"c:\\Users\\tal22\\Documents\\repositories\\triplet_segmentation\\.tripletsegmentation\\Lib\\site-packages\\IPython\\extensions\\autoreload.py\", line 475, in superreload\n",
      "    module = reload(module)\n",
      "             ^^^^^^^^^^^^^^\n",
      "  File \"C:\\Users\\tal22\\AppData\\Local\\Programs\\Python\\Python312\\Lib\\importlib\\__init__.py\", line 130, in reload\n",
      "    raise ModuleNotFoundError(f\"spec not found for the module {name!r}\", name=name)\n",
      "ModuleNotFoundError: spec not found for the module 'model_utils'\n",
      "]\n"
     ]
    },
    {
     "name": "stdout",
     "output_type": "stream",
     "text": [
      "Getting dataset train label ids {config.task_name}\n",
      "length of dataset train is 66261\n"
     ]
    },
    {
     "ename": "ValueError",
     "evalue": "stop here",
     "output_type": "error",
     "traceback": [
      "\u001b[1;31m---------------------------------------------------------------------------\u001b[0m",
      "\u001b[1;31mValueError\u001b[0m                                Traceback (most recent call last)",
      "File \u001b[1;32m~\\Documents\\repositories\\triplet_segmentation\\resnet_model\\main.py:223\u001b[0m\n\u001b[0;32m    212\u001b[0m         _test_model(\n\u001b[0;32m    213\u001b[0m             config\u001b[38;5;241m=\u001b[39mconfig,\n\u001b[0;32m    214\u001b[0m             model\u001b[38;5;241m=\u001b[39mmodel,\n\u001b[1;32m   (...)\u001b[0m\n\u001b[0;32m    218\u001b[0m             verbose\u001b[38;5;241m=\u001b[39m\u001b[38;5;28;01mTrue\u001b[39;00m,\n\u001b[0;32m    219\u001b[0m         )\n\u001b[0;32m    222\u001b[0m \u001b[38;5;28;01mif\u001b[39;00m \u001b[38;5;18m__name__\u001b[39m \u001b[38;5;241m==\u001b[39m \u001b[38;5;124m'\u001b[39m\u001b[38;5;124m__main__\u001b[39m\u001b[38;5;124m'\u001b[39m:\n\u001b[1;32m--> 223\u001b[0m     \u001b[43mmain\u001b[49m\u001b[43m(\u001b[49m\u001b[43m)\u001b[49m\n",
      "File \u001b[1;32m~\\Documents\\repositories\\triplet_segmentation\\resnet_model\\main.py:91\u001b[0m, in \u001b[0;36mmain\u001b[1;34m()\u001b[0m\n\u001b[0;32m     89\u001b[0m min_freq \u001b[38;5;241m=\u001b[39m \u001b[38;5;241m1\u001b[39m\n\u001b[0;32m     90\u001b[0m class_weights \u001b[38;5;241m=\u001b[39m {\u001b[38;5;28mcls\u001b[39m: (\u001b[38;5;241m1\u001b[39m \u001b[38;5;241m/\u001b[39m \u001b[38;5;28mmax\u001b[39m(freq, min_freq) \u001b[38;5;241m*\u001b[39m\u001b[38;5;241m*\u001b[39m config\u001b[38;5;241m.\u001b[39mdataset_weight_scaling_factor )  \u001b[38;5;28;01mfor\u001b[39;00m \u001b[38;5;28mcls\u001b[39m, freq \u001b[38;5;129;01min\u001b[39;00m config\u001b[38;5;241m.\u001b[39mtask_class_frequencies\u001b[38;5;241m.\u001b[39mitems()}     \n\u001b[1;32m---> 91\u001b[0m dataset_label_ids \u001b[38;5;241m=\u001b[39m \u001b[43mget_dataset_label_ids\u001b[49m\u001b[43m(\u001b[49m\u001b[43mconfig\u001b[49m\u001b[43m,\u001b[49m\u001b[43m \u001b[49m\u001b[43m_SurgicalDataset\u001b[49m\u001b[43m)\u001b[49m   \n\u001b[0;32m     93\u001b[0m \u001b[38;5;28;01mif\u001b[39;00m task_name \u001b[38;5;241m==\u001b[39m \u001b[38;5;124m'\u001b[39m\u001b[38;5;124mverb\u001b[39m\u001b[38;5;124m'\u001b[39m:\n\u001b[0;32m     94\u001b[0m     num_task_class \u001b[38;5;241m=\u001b[39m num_verbs\n",
      "File \u001b[1;32mc:\\Users\\tal22\\Documents\\repositories\\triplet_segmentation\\main\\..\\resnet_model\\model_utils.py:24\u001b[0m, in \u001b[0;36mget_dataset_label_ids\u001b[1;34m(config, _SurgicalDataset)\u001b[0m\n\u001b[0;32m     22\u001b[0m     \u001b[38;5;28mprint\u001b[39m(\u001b[38;5;124mf\u001b[39m\u001b[38;5;124m'\u001b[39m\u001b[38;5;124mlength of dataset train is \u001b[39m\u001b[38;5;132;01m{\u001b[39;00m\u001b[38;5;28mlen\u001b[39m(label_ids)\u001b[38;5;132;01m}\u001b[39;00m\u001b[38;5;124m'\u001b[39m)\n\u001b[0;32m     23\u001b[0m     save_to_json(label_ids, \u001b[38;5;124mf\u001b[39m\u001b[38;5;124m'\u001b[39m\u001b[38;5;132;01m{\u001b[39;00mconfig\u001b[38;5;241m.\u001b[39mdataset_path\u001b[38;5;132;01m}\u001b[39;00m\u001b[38;5;124m/label_ids/label_ids_\u001b[39m\u001b[38;5;132;01m{\u001b[39;00mconfig\u001b[38;5;241m.\u001b[39mtask_name\u001b[38;5;132;01m}\u001b[39;00m\u001b[38;5;124m_train_v3.json\u001b[39m\u001b[38;5;124m'\u001b[39m)\n\u001b[1;32m---> 24\u001b[0m     \u001b[38;5;28;01mraise\u001b[39;00m \u001b[38;5;167;01mValueError\u001b[39;00m(\u001b[38;5;124m'\u001b[39m\u001b[38;5;124mstop here\u001b[39m\u001b[38;5;124m'\u001b[39m)\n\u001b[0;32m     27\u001b[0m \u001b[38;5;28;01mreturn\u001b[39;00m label_ids\n",
      "\u001b[1;31mValueError\u001b[0m: stop here"
     ]
    }
   ],
   "source": [
    "%run ../resnet_model/main.py --config config.triplet_segmentation_test_folder.singletask_resnet_fpn_verbtarget_class_imbalance_addressed"
   ]
  },
  {
   "cell_type": "code",
   "execution_count": null,
   "metadata": {},
   "outputs": [],
   "source": []
  }
 ],
 "metadata": {
  "kernelspec": {
   "display_name": ".tripletsegmentation",
   "language": "python",
   "name": "python3"
  },
  "language_info": {
   "codemirror_mode": {
    "name": "ipython",
    "version": 3
   },
   "file_extension": ".py",
   "mimetype": "text/x-python",
   "name": "python",
   "nbconvert_exporter": "python",
   "pygments_lexer": "ipython3",
   "version": "3.12.1"
  }
 },
 "nbformat": 4,
 "nbformat_minor": 2
}
