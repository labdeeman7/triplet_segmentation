{
 "cells": [
  {
   "cell_type": "code",
   "execution_count": null,
   "metadata": {},
   "outputs": [
    {
     "name": "stdout",
     "output_type": "stream",
     "text": [
      "class names ['dissect,cystic_plate', 'dissect,gallbladder', 'dissect,omentum', 'grasp,cystic_artery', 'grasp,cystic_duct', 'grasp,cystic_pedicle', 'grasp,cystic_plate', 'grasp,gallbladder', 'grasp,gut', 'grasp,liver', 'grasp,omentum', 'grasp,peritoneum', 'grasp,specimen_bag', 'pack,gallbladder', 'retract,cystic_duct', 'retract,cystic_pedicle', 'retract,cystic_plate', 'retract,gallbladder', 'retract,gut', 'retract,liver', 'retract,omentum', 'retract,peritoneum', 'coagulate,abdominal_wall_cavity', 'coagulate,blood_vessel', 'coagulate,cystic_artery', 'coagulate,cystic_duct', 'coagulate,cystic_pedicle', 'coagulate,cystic_plate', 'coagulate,gallbladder', 'coagulate,liver', 'coagulate,omentum', 'coagulate,peritoneum', 'dissect,adhesion', 'dissect,cystic_artery', 'dissect,cystic_duct', 'cut,blood_vessel', 'cut,peritoneum', 'dissect,blood_vessel', 'dissect,peritoneum', 'cut,adhesion', 'cut,cystic_artery', 'cut,cystic_duct', 'cut,cystic_plate', 'cut,liver', 'cut,omentum', 'clip,blood_vessel', 'clip,cystic_artery', 'clip,cystic_duct', 'clip,cystic_pedicle', 'clip,cystic_plate', 'aspirate,fluid', 'dissect,cystic_pedicle', 'irrigate,abdominal_wall_cavity', 'irrigate,cystic_pedicle', 'irrigate,liver', 'null_verb,null_target']\n"
     ]
    },
    {
     "name": "stderr",
     "output_type": "stream",
     "text": [
      "c:\\Users\\tal22\\Documents\\repositories\\triplet_segmentation\\.tripletsegmentation\\Lib\\site-packages\\torchvision\\models\\_utils.py:208: UserWarning: The parameter 'pretrained' is deprecated since 0.13 and may be removed in the future, please use 'weights' instead.\n",
      "  warnings.warn(\n",
      "c:\\Users\\tal22\\Documents\\repositories\\triplet_segmentation\\.tripletsegmentation\\Lib\\site-packages\\torchvision\\models\\_utils.py:223: UserWarning: Arguments other than a weight enum or `None` for 'weights' are deprecated since 0.13 and may be removed in the future. The current behavior is equivalent to passing `weights=ResNet50_Weights.IMAGENET1K_V1`. You can also use `weights=ResNet50_Weights.DEFAULT` to get the most up-to-date weights.\n",
      "  warnings.warn(msg)\n"
     ]
    },
    {
     "name": "stdout",
     "output_type": "stream",
     "text": [
      "config {'batch_size': 64, 'num_epochs': 1, 'learning_rate': 1e-05, 'experiment_name': 'singletask_resnet_fpn_verbtarget_parallel_decoders_spatial_tokens', 'model_name': 'SingleTaskResNetFPNWithParallelTransformersSpatialFeatures', 'task_name': 'verbtarget', 'description': 'predict verbtargets with parrallel transformers and fcs, and spatial transformers', 'architecture': 'singletask_parrallel_fc', 'dataset_path': 'C:/Users/tal22/Documents/repositories/datasets/my_triplet_seg_datasets/triplet_segmentation_dataset_v2_second_stage', 'verb_and_target_gt_present_for_test': False, 'train_image_dir': 'C:/Users/tal22/Documents/repositories/datasets/my_triplet_seg_datasets/triplet_segmentation_dataset_v2_second_stage\\\\train/img_dir', 'train_ann_dir': 'C:/Users/tal22/Documents/repositories/datasets/my_triplet_seg_datasets/triplet_segmentation_dataset_v2_second_stage\\\\train/ann_second_stage', 'val_image_dir': 'C:/Users/tal22/Documents/repositories/datasets/my_triplet_seg_datasets/triplet_segmentation_dataset_v2_second_stage\\\\val/img_dir', 'val_ann_dir': 'C:/Users/tal22/Documents/repositories/datasets/my_triplet_seg_datasets/triplet_segmentation_dataset_v2_second_stage\\\\val/ann_second_stage', 'test_image_dir': 'C:/Users/tal22/Documents/repositories/datasets/my_triplet_seg_datasets/triplet_segmentation_dataset_v2_second_stage\\\\mask2former_instrument_prediction/img_dir', 'test_ann_dir': 'C:/Users/tal22/Documents/repositories/datasets/my_triplet_seg_datasets/triplet_segmentation_dataset_v2_second_stage\\\\mask2former_instrument_prediction/ann_second_stage', 'work_dir': '../resnet_model/work_dirs/singletask_resnet_fpn_verbtarget_parallel_decoders_spatial_tokens', 'save_results_path': '../resnet_model/work_dirs/singletask_resnet_fpn_verbtarget_parallel_decoders_spatial_tokens\\\\results.json', 'save_logits_path': '../resnet_model/work_dirs/singletask_resnet_fpn_verbtarget_parallel_decoders_spatial_tokens\\\\results_logits.json', 'vis_dir': '../resnet_model/work_dirs/singletask_resnet_fpn_verbtarget_parallel_decoders_spatial_tokens\\\\vis_dir/', 'allow_resume': True, 'load_from_checkpoint': None, 'predict_only_mode': False, 'image_size': (256, 448), 'model_input_size': (256, 448), 'use_wce': False, 'instrument_to_task_classes': {0: [0, 1, 2, 3, 4, 5, 6, 7, 8, 9, 10, 11, 12, 13, 14, 15, 16, 17, 18, 19, 20, 21, 55], 1: [0, 1, 2, 6, 9, 12, 14, 15, 17, 19, 20, 22, 23, 24, 25, 26, 27, 28, 29, 30, 31, 32, 33, 34, 55], 2: [0, 1, 2, 17, 19, 23, 24, 25, 26, 27, 28, 29, 30, 33, 34, 35, 36, 37, 38, 55], 3: [0, 1, 2, 30, 35, 36, 39, 40, 41, 42, 43, 44, 55], 4: [45, 46, 47, 48, 49, 55], 5: [0, 1, 2, 17, 19, 20, 34, 50, 51, 52, 53, 54, 55]}}\n"
     ]
    },
    {
     "name": "stderr",
     "output_type": "stream",
     "text": [
      "wandb: Using wandb-core as the SDK backend.  Please refer to https://wandb.me/wandb-core for more information.\n",
      "wandb: Currently logged in as: labdeeman77 (labdeeman77-king-s-college-london). Use `wandb login --relogin` to force relogin\n"
     ]
    },
    {
     "data": {
      "text/html": [
       "Tracking run with wandb version 0.18.7"
      ],
      "text/plain": [
       "<IPython.core.display.HTML object>"
      ]
     },
     "metadata": {},
     "output_type": "display_data"
    },
    {
     "data": {
      "text/html": [
       "Run data is saved locally in <code>c:\\Users\\tal22\\Documents\\repositories\\triplet_segmentation\\main\\wandb\\run-20250402_001333-on9q3k66</code>"
      ],
      "text/plain": [
       "<IPython.core.display.HTML object>"
      ]
     },
     "metadata": {},
     "output_type": "display_data"
    },
    {
     "data": {
      "text/html": [
       "Syncing run <strong><a href='https://wandb.ai/labdeeman77-king-s-college-london/triplet_segmentation/runs/on9q3k66' target=\"_blank\">azure-breeze-223</a></strong> to <a href='https://wandb.ai/labdeeman77-king-s-college-london/triplet_segmentation' target=\"_blank\">Weights & Biases</a> (<a href='https://wandb.me/developer-guide' target=\"_blank\">docs</a>)<br/>"
      ],
      "text/plain": [
       "<IPython.core.display.HTML object>"
      ]
     },
     "metadata": {},
     "output_type": "display_data"
    },
    {
     "data": {
      "text/html": [
       " View project at <a href='https://wandb.ai/labdeeman77-king-s-college-london/triplet_segmentation' target=\"_blank\">https://wandb.ai/labdeeman77-king-s-college-london/triplet_segmentation</a>"
      ],
      "text/plain": [
       "<IPython.core.display.HTML object>"
      ]
     },
     "metadata": {},
     "output_type": "display_data"
    },
    {
     "data": {
      "text/html": [
       " View run at <a href='https://wandb.ai/labdeeman77-king-s-college-london/triplet_segmentation/runs/on9q3k66' target=\"_blank\">https://wandb.ai/labdeeman77-king-s-college-london/triplet_segmentation/runs/on9q3k66</a>"
      ],
      "text/plain": [
       "<IPython.core.display.HTML object>"
      ]
     },
     "metadata": {},
     "output_type": "display_data"
    },
    {
     "name": "stdout",
     "output_type": "stream",
     "text": [
      "started epoch 1, best_val_accuracy, -1.0\n"
     ]
    },
    {
     "name": "stderr",
     "output_type": "stream",
     "text": [
      "c:\\Users\\tal22\\Documents\\repositories\\triplet_segmentation\\.tripletsegmentation\\Lib\\site-packages\\torch\\nn\\functional.py:5476: UserWarning: 1Torch was not compiled with flash attention. (Triggered internally at ..\\aten\\src\\ATen\\native\\transformers\\cuda\\sdp_utils.cpp:263.)\n",
      "  attn_output = scaled_dot_product_attention(q, k, v, attn_mask, dropout_p, is_causal)\n"
     ]
    }
   ],
   "source": [
    "%load_ext autoreload\n",
    "%autoreload 2\n",
    "\n",
    "import sys\n",
    "sys.path.append('..')\n",
    "\n",
    "%run ../resnet_model/main.py --config config.triplet_segmentation_test_folder.singletask_resnet_fpn_verbtarget_parallel_decoders_spatial_tokens"
   ]
  },
  {
   "cell_type": "code",
   "execution_count": 3,
   "metadata": {},
   "outputs": [
    {
     "data": {
      "text/plain": [
       "torch.Size([8])"
      ]
     },
     "execution_count": 3,
     "metadata": {},
     "output_type": "execute_result"
    }
   ],
   "source": [
    "import torch\n",
    "torch.zeros((8,)).shape"
   ]
  },
  {
   "cell_type": "code",
   "execution_count": null,
   "metadata": {},
   "outputs": [],
   "source": []
  }
 ],
 "metadata": {
  "kernelspec": {
   "display_name": ".tripletsegmentation",
   "language": "python",
   "name": "python3"
  },
  "language_info": {
   "codemirror_mode": {
    "name": "ipython",
    "version": 3
   },
   "file_extension": ".py",
   "mimetype": "text/x-python",
   "name": "python",
   "nbconvert_exporter": "python",
   "pygments_lexer": "ipython3",
   "version": "3.12.1"
  }
 },
 "nbformat": 4,
 "nbformat_minor": 2
}
