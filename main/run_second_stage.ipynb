{
 "cells": [
  {
   "cell_type": "code",
   "execution_count": 1,
   "metadata": {},
   "outputs": [],
   "source": [
    "%load_ext autoreload\n",
    "%autoreload 2\n",
    "\n",
    "import sys\n",
    "sys.path.append('../')"
   ]
  },
  {
   "cell_type": "code",
   "execution_count": 2,
   "metadata": {},
   "outputs": [],
   "source": [
    "import os\n",
    "import json\n",
    "import shutil"
   ]
  },
  {
   "cell_type": "code",
   "execution_count": null,
   "metadata": {},
   "outputs": [
    {
     "name": "stderr",
     "output_type": "stream",
     "text": [
      "c:\\Users\\tal22\\Documents\\repositories\\triplet_segmentation\\.tripletsegmentation\\Lib\\site-packages\\torchvision\\models\\_utils.py:208: UserWarning: The parameter 'pretrained' is deprecated since 0.13 and may be removed in the future, please use 'weights' instead.\n",
      "  warnings.warn(\n",
      "c:\\Users\\tal22\\Documents\\repositories\\triplet_segmentation\\.tripletsegmentation\\Lib\\site-packages\\torchvision\\models\\_utils.py:223: UserWarning: Arguments other than a weight enum or `None` for 'weights' are deprecated since 0.13 and may be removed in the future. The current behavior is equivalent to passing `weights=ResNet50_Weights.IMAGENET1K_V1`. You can also use `weights=ResNet50_Weights.DEFAULT` to get the most up-to-date weights.\n",
      "  warnings.warn(msg)\n"
     ]
    },
    {
     "name": "stdout",
     "output_type": "stream",
     "text": [
      "started epoch 0\n",
      "layer1 - shape torch.Size([64, 256, 56, 56]) - pool - torch.Size([64, 256, 1, 1])  \n",
      "layer2 - shape torch.Size([64, 256, 28, 28]) - pool - torch.Size([64, 256, 1, 1])  \n",
      "layer3 - shape torch.Size([64, 256, 14, 14]) - pool - torch.Size([64, 256, 1, 1])  \n",
      "layer4 - shape torch.Size([64, 256, 7, 7]) - pool - torch.Size([64, 256, 1, 1])  \n"
     ]
    },
    {
     "name": "stderr",
     "output_type": "stream",
     "text": [
      "c:\\Users\\tal22\\Documents\\repositories\\triplet_segmentation\\.tripletsegmentation\\Lib\\site-packages\\torch\\nn\\functional.py:5476: UserWarning: 1Torch was not compiled with flash attention. (Triggered internally at ..\\aten\\src\\ATen\\native\\transformers\\cuda\\sdp_utils.cpp:263.)\n",
      "  attn_output = scaled_dot_product_attention(q, k, v, attn_mask, dropout_p, is_causal)\n"
     ]
    },
    {
     "name": "stdout",
     "output_type": "stream",
     "text": [
      "layer1 - shape torch.Size([64, 256, 56, 56]) - pool - torch.Size([64, 256, 1, 1])  \n",
      "layer2 - shape torch.Size([64, 256, 28, 28]) - pool - torch.Size([64, 256, 1, 1])  \n",
      "layer3 - shape torch.Size([64, 256, 14, 14]) - pool - torch.Size([64, 256, 1, 1])  \n",
      "layer4 - shape torch.Size([64, 256, 7, 7]) - pool - torch.Size([64, 256, 1, 1])  \n"
     ]
    }
   ],
   "source": [
    "%run ../resnet_model/main.py --config config.triplet_segmentation_test_folder.multitask_resnet_fpn_learnable_embeddings"
   ]
  },
  {
   "cell_type": "code",
   "execution_count": null,
   "metadata": {},
   "outputs": [],
   "source": []
  },
  {
   "cell_type": "code",
   "execution_count": null,
   "metadata": {},
   "outputs": [],
   "source": []
  }
 ],
 "metadata": {
  "kernelspec": {
   "display_name": ".tripletsegmentation",
   "language": "python",
   "name": "python3"
  },
  "language_info": {
   "codemirror_mode": {
    "name": "ipython",
    "version": 3
   },
   "file_extension": ".py",
   "mimetype": "text/x-python",
   "name": "python",
   "nbconvert_exporter": "python",
   "pygments_lexer": "ipython3",
   "version": "3.12.1"
  }
 },
 "nbformat": 4,
 "nbformat_minor": 2
}
