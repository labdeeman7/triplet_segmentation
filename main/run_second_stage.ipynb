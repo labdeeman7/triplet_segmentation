{
 "cells": [
  {
   "cell_type": "code",
   "execution_count": 1,
   "metadata": {},
   "outputs": [],
   "source": [
    "%load_ext autoreload\n",
    "%autoreload 2\n",
    "\n",
    "import sys\n",
    "sys.path.append('../')"
   ]
  },
  {
   "cell_type": "code",
   "execution_count": 2,
   "metadata": {},
   "outputs": [
    {
     "name": "stdout",
     "output_type": "stream",
     "text": [
      "class names ['gallbladder', 'cystic_plate', 'cystic_duct', 'cystic_artery', 'cystic_pedicle', 'blood_vessel', 'fluid', 'abdominal_wall_cavity', 'liver', 'adhesion', 'omentum', 'peritoneum', 'gut', 'specimen_bag', 'null_target']\n"
     ]
    },
    {
     "name": "stderr",
     "output_type": "stream",
     "text": [
      "c:\\Users\\tal22\\Documents\\repositories\\triplet_segmentation\\.tripletsegmentation\\Lib\\site-packages\\torchvision\\models\\_utils.py:208: UserWarning: The parameter 'pretrained' is deprecated since 0.13 and may be removed in the future, please use 'weights' instead.\n",
      "  warnings.warn(\n",
      "c:\\Users\\tal22\\Documents\\repositories\\triplet_segmentation\\.tripletsegmentation\\Lib\\site-packages\\torchvision\\models\\_utils.py:223: UserWarning: Arguments other than a weight enum or `None` for 'weights' are deprecated since 0.13 and may be removed in the future. The current behavior is equivalent to passing `weights=ResNet50_Weights.IMAGENET1K_V1`. You can also use `weights=ResNet50_Weights.DEFAULT` to get the most up-to-date weights.\n",
      "  warnings.warn(msg)\n"
     ]
    },
    {
     "name": "stdout",
     "output_type": "stream",
     "text": [
      "Checkpoint loaded from ../resnet_model/work_dirs/singletask_resnet_fpn_target_parallel_fc\\epoch_20.pth, starting from epoch 19\n",
      "resuming from epoch, 20, best_val_accuracy 1.0\n",
      "config {'batch_size': 5, 'num_epochs': 20, 'learning_rate': 0.0005, 'experiment_name': 'singletask_resnet_fpn_target_parallel_fc', 'model_name': 'SingleTaskResNetFPNForParallelFCLayers', 'task_name': 'target', 'description': 'testing target prediction parrallel FC', 'architecture': 'singletask_parrallel_fc', 'dataset_path': 'C:/Users/tal22/Documents/repositories/triplet_segmentation/data/triplet_segmentation_dataset_v2_second_stage', 'verb_and_target_gt_present_for_test': False, 'train_image_dir': 'C:/Users/tal22/Documents/repositories/triplet_segmentation/data/triplet_segmentation_dataset_v2_second_stage\\\\train/img_dir', 'train_ann_dir': 'C:/Users/tal22/Documents/repositories/triplet_segmentation/data/triplet_segmentation_dataset_v2_second_stage\\\\train/ann_second_stage', 'val_image_dir': 'C:/Users/tal22/Documents/repositories/triplet_segmentation/data/triplet_segmentation_dataset_v2_second_stage\\\\val/img_dir', 'val_ann_dir': 'C:/Users/tal22/Documents/repositories/triplet_segmentation/data/triplet_segmentation_dataset_v2_second_stage\\\\val/ann_second_stage', 'test_image_dir': 'C:/Users/tal22/Documents/repositories/triplet_segmentation/data/triplet_segmentation_dataset_v2_second_stage\\\\mask2former_instrument_prediction/img_dir', 'test_ann_dir': 'C:/Users/tal22/Documents/repositories/triplet_segmentation/data/triplet_segmentation_dataset_v2_second_stage\\\\mask2former_instrument_prediction/ann_second_stage', 'work_dir': '../resnet_model/work_dirs/singletask_resnet_fpn_target_parallel_fc', 'save_results_path': '../resnet_model/work_dirs/singletask_resnet_fpn_target_parallel_fc\\\\results.json', 'save_logits_path': '../resnet_model/work_dirs/singletask_resnet_fpn_target_parallel_fc\\\\results_logits.json', 'allow_resume': True, 'load_from_checkpoint': None, 'predict_only_mode': False, 'image_size': (224, 224), 'model_input_size': (224, 224), 'use_wce': False, 'instrument_to_task_classes': {0: [0, 1, 2, 3, 4, 8, 10, 11, 12, 13, 14], 1: [0, 1, 2, 3, 4, 5, 7, 8, 9, 10, 11, 13, 14], 2: [0, 1, 2, 3, 4, 5, 8, 10, 11, 14], 3: [0, 1, 2, 3, 5, 8, 9, 10, 11, 14], 4: [1, 2, 3, 4, 5, 14], 5: [0, 1, 2, 4, 6, 7, 8, 10, 14]}}\n"
     ]
    },
    {
     "name": "stderr",
     "output_type": "stream",
     "text": [
      "wandb: Using wandb-core as the SDK backend.  Please refer to https://wandb.me/wandb-core for more information.\n",
      "wandb: Currently logged in as: labdeeman77 (labdeeman77-king-s-college-london). Use `wandb login --relogin` to force relogin\n"
     ]
    },
    {
     "data": {
      "text/html": [
       "Tracking run with wandb version 0.18.7"
      ],
      "text/plain": [
       "<IPython.core.display.HTML object>"
      ]
     },
     "metadata": {},
     "output_type": "display_data"
    },
    {
     "data": {
      "text/html": [
       "Run data is saved locally in <code>c:\\Users\\tal22\\Documents\\repositories\\triplet_segmentation\\main\\wandb\\run-20250205_231537-b63i3z1q</code>"
      ],
      "text/plain": [
       "<IPython.core.display.HTML object>"
      ]
     },
     "metadata": {},
     "output_type": "display_data"
    },
    {
     "data": {
      "text/html": [
       "Syncing run <strong><a href='https://wandb.ai/labdeeman77-king-s-college-london/triplet_segmentation/runs/b63i3z1q' target=\"_blank\">denim-fire-156</a></strong> to <a href='https://wandb.ai/labdeeman77-king-s-college-london/triplet_segmentation' target=\"_blank\">Weights & Biases</a> (<a href='https://wandb.me/developer-guide' target=\"_blank\">docs</a>)<br/>"
      ],
      "text/plain": [
       "<IPython.core.display.HTML object>"
      ]
     },
     "metadata": {},
     "output_type": "display_data"
    },
    {
     "data": {
      "text/html": [
       " View project at <a href='https://wandb.ai/labdeeman77-king-s-college-london/triplet_segmentation' target=\"_blank\">https://wandb.ai/labdeeman77-king-s-college-london/triplet_segmentation</a>"
      ],
      "text/plain": [
       "<IPython.core.display.HTML object>"
      ]
     },
     "metadata": {},
     "output_type": "display_data"
    },
    {
     "data": {
      "text/html": [
       " View run at <a href='https://wandb.ai/labdeeman77-king-s-college-london/triplet_segmentation/runs/b63i3z1q' target=\"_blank\">https://wandb.ai/labdeeman77-king-s-college-london/triplet_segmentation/runs/b63i3z1q</a>"
      ],
      "text/plain": [
       "<IPython.core.display.HTML object>"
      ]
     },
     "metadata": {},
     "output_type": "display_data"
    },
    {
     "name": "stdout",
     "output_type": "stream",
     "text": [
      "started epoch 20, best_val_accuracy, 1.0\n",
      "Epoch 20/20, Train Loss: 0.0001\n",
      "Train target Accuracy: 1.00\n",
      "Train target mean Accuracy: 1.00\n",
      "Validation\n",
      "  target Accuracy: 0.20\n",
      "Val target Accuracy: 0.20\n",
      "Val target mean Accuracy: 0.17\n",
      "Checkpoint saved to ../resnet_model/work_dirs/singletask_resnet_fpn_target_parallel_fc\\epoch_20.pth\n",
      "Checkpoint loaded from ../resnet_model/work_dirs/singletask_resnet_fpn_target_parallel_fc\\best_model.pth, starting from epoch 10\n",
      "Began prediction...\n",
      "Predictions saved to ../resnet_model/work_dirs/singletask_resnet_fpn_target_parallel_fc\\results.json\n",
      "Logits saved to ../resnet_model/work_dirs/singletask_resnet_fpn_target_parallel_fc\\results_logits.json\n"
     ]
    }
   ],
   "source": [
    "%run ../resnet_model/main.py --config config.triplet_segmentation_test_folder.singletask_resnet_fpn_target_parallel_fc"
   ]
  },
  {
   "cell_type": "code",
   "execution_count": null,
   "metadata": {},
   "outputs": [],
   "source": []
  }
 ],
 "metadata": {
  "kernelspec": {
   "display_name": ".tripletsegmentation",
   "language": "python",
   "name": "python3"
  },
  "language_info": {
   "codemirror_mode": {
    "name": "ipython",
    "version": 3
   },
   "file_extension": ".py",
   "mimetype": "text/x-python",
   "name": "python",
   "nbconvert_exporter": "python",
   "pygments_lexer": "ipython3",
   "version": "3.12.1"
  }
 },
 "nbformat": 4,
 "nbformat_minor": 2
}
