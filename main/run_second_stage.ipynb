{
 "cells": [
  {
   "cell_type": "code",
   "execution_count": 1,
   "metadata": {},
   "outputs": [],
   "source": [
    "%load_ext autoreload\n",
    "%autoreload 2\n",
    "\n",
    "import sys\n",
    "sys.path.append('../')"
   ]
  },
  {
   "cell_type": "code",
   "execution_count": null,
   "metadata": {},
   "outputs": [
    {
     "name": "stdout",
     "output_type": "stream",
     "text": [
      "class names ['dissect,cystic_plate', 'dissect,gallbladder', 'dissect,omentum', 'grasp,cystic_artery', 'grasp,cystic_duct', 'grasp,cystic_pedicle', 'grasp,cystic_plate', 'grasp,gallbladder', 'grasp,gut', 'grasp,liver', 'grasp,omentum', 'grasp,peritoneum', 'grasp,specimen_bag', 'pack,gallbladder', 'retract,cystic_duct', 'retract,cystic_pedicle', 'retract,cystic_plate', 'retract,gallbladder', 'retract,gut', 'retract,liver', 'retract,omentum', 'retract,peritoneum', 'coagulate,abdominal_wall_cavity', 'coagulate,blood_vessel', 'coagulate,cystic_artery', 'coagulate,cystic_duct', 'coagulate,cystic_pedicle', 'coagulate,cystic_plate', 'coagulate,gallbladder', 'coagulate,liver', 'coagulate,omentum', 'coagulate,peritoneum', 'dissect,adhesion', 'dissect,cystic_artery', 'dissect,cystic_duct', 'cut,blood_vessel', 'cut,peritoneum', 'dissect,blood_vessel', 'dissect,peritoneum', 'cut,adhesion', 'cut,cystic_artery', 'cut,cystic_duct', 'cut,cystic_plate', 'cut,liver', 'cut,omentum', 'clip,blood_vessel', 'clip,cystic_artery', 'clip,cystic_duct', 'clip,cystic_pedicle', 'clip,cystic_plate', 'aspirate,fluid', 'dissect,cystic_pedicle', 'irrigate,abdominal_wall_cavity', 'irrigate,cystic_pedicle', 'irrigate,liver', 'null_verb,null_target']\n",
      "loss_verb_class_weights_normalized\n",
      "[0.09660054144626594, 0.06430976772056857, 0.06375683837773968, 0.10620478707171638, 0.12617971637947525, 0.14169793023091382, 0.12617971637947525, 0.1722610660426848, 0.0, 0.10280963635116042]\n",
      "loss_target_class_weights_normalized\n",
      "[0.027915838779440497, 0.05561096594110756, 0.039227241135586635, 0.052514694051005666, 0.10229289272329982, 0.08777210502330213, 0.05889032863374101, 0.07900517827735298, 0.038484895930815895, 0.09529712028827166, 0.049096147838304585, 0.1061597671865083, 0.09529712028827166, 0.06445260927289423, 0.047983094630097645]\n"
     ]
    },
    {
     "name": "stderr",
     "output_type": "stream",
     "text": [
      "c:\\Users\\tal22\\Documents\\repositories\\triplet_segmentation\\.tripletsegmentation\\Lib\\site-packages\\torchvision\\models\\_utils.py:208: UserWarning: The parameter 'pretrained' is deprecated since 0.13 and may be removed in the future, please use 'weights' instead.\n",
      "  warnings.warn(\n",
      "c:\\Users\\tal22\\Documents\\repositories\\triplet_segmentation\\.tripletsegmentation\\Lib\\site-packages\\torchvision\\models\\_utils.py:223: UserWarning: Arguments other than a weight enum or `None` for 'weights' are deprecated since 0.13 and may be removed in the future. The current behavior is equivalent to passing `weights=ResNet50_Weights.IMAGENET1K_V1`. You can also use `weights=ResNet50_Weights.DEFAULT` to get the most up-to-date weights.\n",
      "  warnings.warn(msg)\n"
     ]
    },
    {
     "name": "stdout",
     "output_type": "stream",
     "text": [
      "config {'batch_size': 64, 'num_epochs': 20, 'learning_rate': 0.0005, 'experiment_name': 'multitask_resnet_fpn_transformer_decoder_wce', 'model_name': 'MultiTaskResNetFPNTransformerDecoder', 'task_name': 'standard_multitask_verb_and_target', 'description': 'multitask ResnetFPNWithTransformerDecoder predicting verb and targets with wce', 'architecture': 'multitask', 'dataset_path': 'C:/Users/tal22/Documents/repositories/triplet_segmentation/data/triplet_segmentation_dataset_v2_second_stage', 'verb_and_target_gt_present_for_test': False, 'train_image_dir': 'C:/Users/tal22/Documents/repositories/triplet_segmentation/data/triplet_segmentation_dataset_v2_second_stage\\\\train/img_dir', 'train_ann_dir': 'C:/Users/tal22/Documents/repositories/triplet_segmentation/data/triplet_segmentation_dataset_v2_second_stage\\\\train/ann_second_stage', 'val_image_dir': 'C:/Users/tal22/Documents/repositories/triplet_segmentation/data/triplet_segmentation_dataset_v2_second_stage\\\\val/img_dir', 'val_ann_dir': 'C:/Users/tal22/Documents/repositories/triplet_segmentation/data/triplet_segmentation_dataset_v2_second_stage\\\\val/ann_second_stage', 'test_image_dir': 'C:/Users/tal22/Documents/repositories/triplet_segmentation/data/triplet_segmentation_dataset_v2_second_stage\\\\mask2former_instrument_prediction/img_dir', 'test_ann_dir': 'C:/Users/tal22/Documents/repositories/triplet_segmentation/data/triplet_segmentation_dataset_v2_second_stage\\\\mask2former_instrument_prediction/ann_second_stage', 'work_dir': '../resnet_model/work_dirs/multitask_resnet_fpn_transformer_decoder_wce', 'save_results_path': '../resnet_model/work_dirs/multitask_resnet_fpn_transformer_decoder_wce\\\\results.json', 'save_logits_path': '../resnet_model/work_dirs/multitask_resnet_fpn_transformer_decoder_wce\\\\results_logits.json', 'allow_resume': True, 'load_from_checkpoint': None, 'predict_only_mode': False, 'image_size': (224, 224), 'model_input_size': (224, 224), 'task_class_frequencies': {'retract,gallbladder': 4986, 'dissect,gallbladder': 4429, 'retract,liver': 1944, 'dissect,cystic_duct': 1807, 'null_verb,null_target': 1198, 'grasp,gallbladder': 1011, 'coagulate,liver': 745, 'dissect,omentum': 622, 'dissect,cystic_artery': 583, 'dissect,cystic_plate': 578, 'aspirate,fluid': 528, 'retract,omentum': 453, 'clip,cystic_duct': 384, 'grasp,specimen_bag': 368, 'retract,cystic_duct': 333, 'cut,cystic_duct': 155, 'clip,cystic_artery': 130, 'coagulate,blood_vessel': 105, 'irrigate,abdominal_wall_cavity': 100, 'cut,cystic_artery': 96, 'grasp,liver': 90, 'retract,gut': 75, 'dissect,adhesion': 70, 'cut,liver': 68, 'coagulate,abdominal_wall_cavity': 63, 'irrigate,liver': 48, 'coagulate,cystic_plate': 42, 'coagulate,gallbladder': 31, 'grasp,peritoneum': 27, 'coagulate,cystic_artery': 24, 'coagulate,cystic_pedicle': 24, 'grasp,cystic_plate': 22, 'retract,cystic_plate': 22, 'coagulate,omentum': 16, 'clip,cystic_pedicle': 13, 'grasp,cystic_pedicle': 12, 'retract,peritoneum': 11, 'dissect,peritoneum': 7, 'cut,adhesion': 7, 'cut,peritoneum': 5, 'dissect,cystic_pedicle': 4, 'irrigate,cystic_pedicle': 4, 'grasp,cystic_artery': 2, 'grasp,gut': 2, 'grasp,omentum': 2, 'coagulate,cystic_duct': 2, 'grasp,cystic_duct': 1, 'retract,cystic_pedicle': 1, 'cut,blood_vessel': 1, 'clip,blood_vessel': 1, 'pack,gallbladder': 0, 'coagulate,peritoneum': 0, 'dissect,blood_vessel': 0, 'cut,cystic_plate': 0, 'cut,omentum': 0, 'clip,cystic_plate': 0}, 'use_wce': True, 'dataset_weight_scaling_factor': 0.25}\n"
     ]
    },
    {
     "name": "stderr",
     "output_type": "stream",
     "text": [
      "wandb: Using wandb-core as the SDK backend.  Please refer to https://wandb.me/wandb-core for more information.\n",
      "wandb: Currently logged in as: labdeeman77 (labdeeman77-king-s-college-london). Use `wandb login --relogin` to force relogin\n"
     ]
    },
    {
     "data": {
      "text/html": [
       "Tracking run with wandb version 0.18.7"
      ],
      "text/plain": [
       "<IPython.core.display.HTML object>"
      ]
     },
     "metadata": {},
     "output_type": "display_data"
    },
    {
     "data": {
      "text/html": [
       "Run data is saved locally in <code>c:\\Users\\tal22\\Documents\\repositories\\triplet_segmentation\\main\\wandb\\run-20250205_162613-f7lfwuwl</code>"
      ],
      "text/plain": [
       "<IPython.core.display.HTML object>"
      ]
     },
     "metadata": {},
     "output_type": "display_data"
    },
    {
     "data": {
      "text/html": [
       "Syncing run <strong><a href='https://wandb.ai/labdeeman77-king-s-college-london/triplet_segmentation/runs/f7lfwuwl' target=\"_blank\">comfy-wood-151</a></strong> to <a href='https://wandb.ai/labdeeman77-king-s-college-london/triplet_segmentation' target=\"_blank\">Weights & Biases</a> (<a href='https://wandb.me/developer-guide' target=\"_blank\">docs</a>)<br/>"
      ],
      "text/plain": [
       "<IPython.core.display.HTML object>"
      ]
     },
     "metadata": {},
     "output_type": "display_data"
    },
    {
     "data": {
      "text/html": [
       " View project at <a href='https://wandb.ai/labdeeman77-king-s-college-london/triplet_segmentation' target=\"_blank\">https://wandb.ai/labdeeman77-king-s-college-london/triplet_segmentation</a>"
      ],
      "text/plain": [
       "<IPython.core.display.HTML object>"
      ]
     },
     "metadata": {},
     "output_type": "display_data"
    },
    {
     "data": {
      "text/html": [
       " View run at <a href='https://wandb.ai/labdeeman77-king-s-college-london/triplet_segmentation/runs/f7lfwuwl' target=\"_blank\">https://wandb.ai/labdeeman77-king-s-college-london/triplet_segmentation/runs/f7lfwuwl</a>"
      ],
      "text/plain": [
       "<IPython.core.display.HTML object>"
      ]
     },
     "metadata": {},
     "output_type": "display_data"
    },
    {
     "name": "stdout",
     "output_type": "stream",
     "text": [
      "started epoch 1, best_val_accuracy, 0.0\n"
     ]
    },
    {
     "name": "stderr",
     "output_type": "stream",
     "text": [
      "c:\\Users\\tal22\\Documents\\repositories\\triplet_segmentation\\.tripletsegmentation\\Lib\\site-packages\\torch\\nn\\functional.py:5476: UserWarning: 1Torch was not compiled with flash attention. (Triggered internally at ..\\aten\\src\\ATen\\native\\transformers\\cuda\\sdp_utils.cpp:263.)\n",
      "  attn_output = scaled_dot_product_attention(q, k, v, attn_mask, dropout_p, is_causal)\n"
     ]
    },
    {
     "name": "stdout",
     "output_type": "stream",
     "text": [
      "Epoch 1/20, Train Loss: 0.0162\n",
      "Train Verb Accuracy: 0.00\n",
      "Train Target Accuracy: 0.09\n",
      "Validation\n",
      "  Verb Accuracy: 0.16\n",
      "  Target Accuracy: 0.38\n",
      "Val Verb Accuracy: 0.16\n",
      "Val Verb mean Accuracy: 0.17\n",
      "Val Target Accuracy: 0.38\n",
      "Val Target mean Accuracy: 0.34\n",
      "Checkpoint saved to ../resnet_model/work_dirs/multitask_resnet_fpn_transformer_decoder_wce\\best_model.pth\n",
      "New best model saved to ../resnet_model/work_dirs/multitask_resnet_fpn_transformer_decoder_wce\\best_model.pth with accuracy 0.53\n",
      "Checkpoint saved to ../resnet_model/work_dirs/multitask_resnet_fpn_transformer_decoder_wce\\epoch_1.pth\n",
      "started epoch 2, best_val_accuracy, 0.53125\n",
      "Epoch 2/20, Train Loss: 0.0139\n",
      "Train Verb Accuracy: 0.38\n",
      "Train Target Accuracy: 0.41\n",
      "Validation\n",
      "  Verb Accuracy: 0.53\n",
      "  Target Accuracy: 0.55\n",
      "Val Verb Accuracy: 0.53\n",
      "Val Verb mean Accuracy: 0.33\n",
      "Val Target Accuracy: 0.55\n",
      "Val Target mean Accuracy: 0.40\n",
      "Checkpoint saved to ../resnet_model/work_dirs/multitask_resnet_fpn_transformer_decoder_wce\\best_model.pth\n",
      "New best model saved to ../resnet_model/work_dirs/multitask_resnet_fpn_transformer_decoder_wce\\best_model.pth with accuracy 1.08\n",
      "Checkpoint saved to ../resnet_model/work_dirs/multitask_resnet_fpn_transformer_decoder_wce\\epoch_2.pth\n",
      "started epoch 3, best_val_accuracy, 1.078125\n"
     ]
    }
   ],
   "source": [
    "%run ../resnet_model/main.py --config config.triplet_segmentation_test_folder.multitask_resnet_fpn_transformer_decoder_wce"
   ]
  },
  {
   "cell_type": "code",
   "execution_count": null,
   "metadata": {},
   "outputs": [],
   "source": []
  }
 ],
 "metadata": {
  "kernelspec": {
   "display_name": ".tripletsegmentation",
   "language": "python",
   "name": "python3"
  },
  "language_info": {
   "codemirror_mode": {
    "name": "ipython",
    "version": 3
   },
   "file_extension": ".py",
   "mimetype": "text/x-python",
   "name": "python",
   "nbconvert_exporter": "python",
   "pygments_lexer": "ipython3",
   "version": "3.12.1"
  }
 },
 "nbformat": 4,
 "nbformat_minor": 2
}
