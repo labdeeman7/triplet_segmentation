{
 "cells": [
  {
   "cell_type": "code",
   "execution_count": 1,
   "metadata": {},
   "outputs": [],
   "source": [
    "%load_ext autoreload\n",
    "%autoreload 2\n",
    "\n",
    "import sys\n",
    "sys.path.append('../')"
   ]
  },
  {
   "cell_type": "code",
   "execution_count": 2,
   "metadata": {},
   "outputs": [
    {
     "name": "stderr",
     "output_type": "stream",
     "text": [
      "c:\\Users\\tal22\\Documents\\repositories\\triplet_segmentation\\.tripletsegmentation\\Lib\\site-packages\\torchvision\\models\\_utils.py:208: UserWarning: The parameter 'pretrained' is deprecated since 0.13 and may be removed in the future, please use 'weights' instead.\n",
      "  warnings.warn(\n",
      "c:\\Users\\tal22\\Documents\\repositories\\triplet_segmentation\\.tripletsegmentation\\Lib\\site-packages\\torchvision\\models\\_utils.py:223: UserWarning: Arguments other than a weight enum or `None` for 'weights' are deprecated since 0.13 and may be removed in the future. The current behavior is equivalent to passing `weights=ResNet50_Weights.IMAGENET1K_V1`. You can also use `weights=ResNet50_Weights.DEFAULT` to get the most up-to-date weights.\n",
      "  warnings.warn(msg)\n"
     ]
    },
    {
     "name": "stdout",
     "output_type": "stream",
     "text": [
      "config {'batch_size': 2, 'num_epochs': 5, 'learning_rate': 0.0005, 'experiment_name': 'multitask_resnet_fpn_class_imbalance', 'model_name': 'MultiTaskResNetFPN', 'task_name': 'standard_multitask_verb_and_target', 'architecture': 'multitask', 'description': 'resnet_fpn predicting verb target standard multitask way', 'dataset_path': 'C:/Users/tal22/Documents/repositories/triplet_segmentation/data/triplet_segmentation_v3_final', 'label_id_json_file_path': 'C:/Users/tal22/Documents/repositories/triplet_segmentation/data/triplet_segmentation_v3_final\\\\label_ids/label_ids_verbtarget_train_v3.json', 'verb_and_target_gt_present_for_test': False, 'train_image_dir': 'C:/Users/tal22/Documents/repositories/triplet_segmentation/data/triplet_segmentation_v3_final\\\\train/img_dir', 'train_ann_dir': 'C:/Users/tal22/Documents/repositories/triplet_segmentation/data/triplet_segmentation_v3_final\\\\train/ann_second_stage', 'val_image_dir': 'C:/Users/tal22/Documents/repositories/triplet_segmentation/data/triplet_segmentation_v3_final\\\\val/img_dir', 'val_ann_dir': 'C:/Users/tal22/Documents/repositories/triplet_segmentation/data/triplet_segmentation_v3_final\\\\val/ann_second_stage', 'test_image_dir': 'C:/Users/tal22/Documents/repositories/triplet_segmentation/data/triplet_segmentation_v3_final\\\\mask2former_instrument_prediction/img_dir', 'test_ann_dir': 'C:/Users/tal22/Documents/repositories/triplet_segmentation/data/triplet_segmentation_v3_final\\\\mask2former_instrument_prediction/ann_second_stage', 'work_dir': '../resnet_model/work_dirs/multitask_resnet_fpn_class_imbalance', 'save_results_path': '../resnet_model/work_dirs/multitask_resnet_fpn_class_imbalance\\\\results.json', 'allow_resume': True, 'load_from_checkpoint': None, 'predict_only_mode': False, 'image_size': (480, 854), 'model_input_size': (448, 800), 'task_class_frequencies': {'retract,gallbladder': 17791, 'dissect,gallbladder': 16358, 'dissect,cystic_duct': 4846, 'retract,liver': 4531, 'null_verb,null_target': 3462, 'grasp,gallbladder': 3066, 'dissect,omentum': 1944, 'dissect,cystic_artery': 1917, 'retract,omentum': 1508, 'coagulate,liver': 1501, 'dissect,cystic_plate': 1303, 'aspirate,fluid': 1215, 'clip,cystic_duct': 1115, 'grasp,specimen_bag': 1088, 'clip,cystic_artery': 556, 'cut,cystic_duct': 385, 'cut,cystic_artery': 338, 'retract,cystic_duct': 334, 'retract,cystic_plate': 296, 'grasp,peritoneum': 243, 'coagulate,gallbladder': 242, 'coagulate,blood_vessel': 211, 'retract,gut': 183, 'irrigate,abdominal_wall_cavity': 163, 'coagulate,cystic_plate': 149, 'coagulate,omentum': 147, 'coagulate,abdominal_wall_cavity': 144, 'cut,peritoneum': 126, 'grasp,liver': 106, 'grasp,cystic_plate': 95, 'dissect,peritoneum': 95, 'retract,peritoneum': 76, 'cut,adhesion': 75, 'dissect,adhesion': 70, 'cut,liver': 68, 'irrigate,liver': 66, 'coagulate,cystic_pedicle': 61, 'coagulate,cystic_artery': 57, 'dissect,cystic_pedicle': 47, 'grasp,cystic_duct': 44, 'grasp,omentum': 36, 'coagulate,cystic_duct': 34, 'grasp,gut': 28, 'grasp,cystic_artery': 19, 'cut,blood_vessel': 18, 'irrigate,cystic_pedicle': 18, 'coagulate,peritoneum': 14, 'clip,cystic_plate': 14, 'clip,cystic_pedicle': 13, 'grasp,cystic_pedicle': 12, 'pack,gallbladder': 11, 'retract,cystic_pedicle': 11, 'cut,omentum': 6, 'clip,blood_vessel': 5, 'dissect,blood_vessel': 0, 'cut,cystic_plate': 0}, 'dataset_weight_scaling_factor': 0.5}\n"
     ]
    },
    {
     "name": "stderr",
     "output_type": "stream",
     "text": [
      "wandb: Using wandb-core as the SDK backend.  Please refer to https://wandb.me/wandb-core for more information.\n",
      "wandb: Currently logged in as: labdeeman77 (labdeeman77-king-s-college-london). Use `wandb login --relogin` to force relogin\n"
     ]
    },
    {
     "data": {
      "text/html": [
       "Tracking run with wandb version 0.18.7"
      ],
      "text/plain": [
       "<IPython.core.display.HTML object>"
      ]
     },
     "metadata": {},
     "output_type": "display_data"
    },
    {
     "data": {
      "text/html": [
       "Run data is saved locally in <code>c:\\Users\\tal22\\Documents\\repositories\\triplet_segmentation\\main\\wandb\\run-20250202_190739-10fy4i5v</code>"
      ],
      "text/plain": [
       "<IPython.core.display.HTML object>"
      ]
     },
     "metadata": {},
     "output_type": "display_data"
    },
    {
     "data": {
      "text/html": [
       "Syncing run <strong><a href='https://wandb.ai/labdeeman77-king-s-college-london/triplet_segmentation/runs/10fy4i5v' target=\"_blank\">solar-sound-120</a></strong> to <a href='https://wandb.ai/labdeeman77-king-s-college-london/triplet_segmentation' target=\"_blank\">Weights & Biases</a> (<a href='https://wandb.me/developer-guide' target=\"_blank\">docs</a>)<br/>"
      ],
      "text/plain": [
       "<IPython.core.display.HTML object>"
      ]
     },
     "metadata": {},
     "output_type": "display_data"
    },
    {
     "data": {
      "text/html": [
       " View project at <a href='https://wandb.ai/labdeeman77-king-s-college-london/triplet_segmentation' target=\"_blank\">https://wandb.ai/labdeeman77-king-s-college-london/triplet_segmentation</a>"
      ],
      "text/plain": [
       "<IPython.core.display.HTML object>"
      ]
     },
     "metadata": {},
     "output_type": "display_data"
    },
    {
     "data": {
      "text/html": [
       " View run at <a href='https://wandb.ai/labdeeman77-king-s-college-london/triplet_segmentation/runs/10fy4i5v' target=\"_blank\">https://wandb.ai/labdeeman77-king-s-college-london/triplet_segmentation/runs/10fy4i5v</a>"
      ],
      "text/plain": [
       "<IPython.core.display.HTML object>"
      ]
     },
     "metadata": {},
     "output_type": "display_data"
    },
    {
     "name": "stdout",
     "output_type": "stream",
     "text": [
      "started epoch 0\n",
      "Epoch 1/5, Train Loss: 0.0001\n",
      "Train Verb Accuracy: 1.00\n",
      "Train Target Accuracy: 0.00\n",
      "Validation\n",
      "  Verb Accuracy: 0.00\n",
      "  Target Accuracy: 0.00\n",
      "Val Verb Accuracy: 0.00\n",
      "Val Verb mean Accuracy: 0.00\n",
      "Val Target Accuracy: 0.00\n",
      "Val Target mean Accuracy: 0.00\n",
      "Checkpoint saved to ../resnet_model/work_dirs/multitask_resnet_fpn_class_imbalance\\epoch_1.pth\n",
      "started epoch 1\n",
      "Epoch 2/5, Train Loss: 0.0002\n",
      "Train Verb Accuracy: 0.00\n",
      "Train Target Accuracy: 0.00\n",
      "Validation\n",
      "  Verb Accuracy: 0.00\n",
      "  Target Accuracy: 0.00\n",
      "Val Verb Accuracy: 0.00\n",
      "Val Verb mean Accuracy: 0.00\n",
      "Val Target Accuracy: 0.00\n",
      "Val Target mean Accuracy: 0.00\n",
      "Checkpoint saved to ../resnet_model/work_dirs/multitask_resnet_fpn_class_imbalance\\epoch_2.pth\n",
      "started epoch 2\n",
      "Epoch 3/5, Train Loss: 0.0001\n",
      "Train Verb Accuracy: 1.00\n",
      "Train Target Accuracy: 0.00\n",
      "Validation\n",
      "  Verb Accuracy: 0.00\n",
      "  Target Accuracy: 0.00\n",
      "Val Verb Accuracy: 0.00\n",
      "Val Verb mean Accuracy: 0.00\n",
      "Val Target Accuracy: 0.00\n",
      "Val Target mean Accuracy: 0.00\n",
      "Checkpoint saved to ../resnet_model/work_dirs/multitask_resnet_fpn_class_imbalance\\epoch_3.pth\n",
      "started epoch 3\n",
      "Epoch 4/5, Train Loss: 0.0002\n",
      "Train Verb Accuracy: 0.50\n",
      "Train Target Accuracy: 0.00\n",
      "Validation\n",
      "  Verb Accuracy: 0.00\n",
      "  Target Accuracy: 0.00\n",
      "Val Verb Accuracy: 0.00\n",
      "Val Verb mean Accuracy: 0.00\n",
      "Val Target Accuracy: 0.00\n",
      "Val Target mean Accuracy: 0.00\n",
      "Checkpoint saved to ../resnet_model/work_dirs/multitask_resnet_fpn_class_imbalance\\epoch_4.pth\n",
      "started epoch 4\n",
      "Epoch 5/5, Train Loss: 0.0002\n",
      "Train Verb Accuracy: 0.00\n",
      "Train Target Accuracy: 0.00\n",
      "Validation\n",
      "  Verb Accuracy: 0.50\n",
      "  Target Accuracy: 0.00\n",
      "Val Verb Accuracy: 0.50\n",
      "Val Verb mean Accuracy: 0.50\n",
      "Val Target Accuracy: 0.00\n",
      "Val Target mean Accuracy: 0.00\n",
      "Checkpoint saved to ../resnet_model/work_dirs/multitask_resnet_fpn_class_imbalance\\best_model.pth\n",
      "New best model saved to ../resnet_model/work_dirs/multitask_resnet_fpn_class_imbalance\\best_model.pth with accuracy 0.50\n",
      "Checkpoint saved to ../resnet_model/work_dirs/multitask_resnet_fpn_class_imbalance\\epoch_5.pth\n",
      "Checkpoint loaded from ../resnet_model/work_dirs/multitask_resnet_fpn_class_imbalance\\best_model.pth, starting from epoch 5\n",
      "began prediction...\n",
      "Predictions saved to ../resnet_model/work_dirs/multitask_resnet_fpn_class_imbalance\\results.json\n"
     ]
    }
   ],
   "source": [
    "%run ../resnet_model/main.py --config config.triplet_segmentation_test_folder.multitask_resnet_fpn_class_imbalance"
   ]
  },
  {
   "cell_type": "code",
   "execution_count": null,
   "metadata": {},
   "outputs": [],
   "source": []
  }
 ],
 "metadata": {
  "kernelspec": {
   "display_name": ".tripletsegmentation",
   "language": "python",
   "name": "python3"
  },
  "language_info": {
   "codemirror_mode": {
    "name": "ipython",
    "version": 3
   },
   "file_extension": ".py",
   "mimetype": "text/x-python",
   "name": "python",
   "nbconvert_exporter": "python",
   "pygments_lexer": "ipython3",
   "version": "3.12.1"
  }
 },
 "nbformat": 4,
 "nbformat_minor": 2
}
