{
 "cells": [
  {
   "cell_type": "code",
   "execution_count": 1,
   "metadata": {},
   "outputs": [
    {
     "name": "stdout",
     "output_type": "stream",
     "text": [
      "class names ['dissect,cystic_plate', 'dissect,gallbladder', 'dissect,omentum', 'grasp,cystic_artery', 'grasp,cystic_duct', 'grasp,cystic_pedicle', 'grasp,cystic_plate', 'grasp,gallbladder', 'grasp,gut', 'grasp,liver', 'grasp,omentum', 'grasp,peritoneum', 'grasp,specimen_bag', 'pack,gallbladder', 'retract,cystic_duct', 'retract,cystic_pedicle', 'retract,cystic_plate', 'retract,gallbladder', 'retract,gut', 'retract,liver', 'retract,omentum', 'retract,peritoneum', 'coagulate,abdominal_wall_cavity', 'coagulate,blood_vessel', 'coagulate,cystic_artery', 'coagulate,cystic_duct', 'coagulate,cystic_pedicle', 'coagulate,cystic_plate', 'coagulate,gallbladder', 'coagulate,liver', 'coagulate,omentum', 'coagulate,peritoneum', 'dissect,adhesion', 'dissect,cystic_artery', 'dissect,cystic_duct', 'cut,blood_vessel', 'cut,peritoneum', 'dissect,blood_vessel', 'dissect,peritoneum', 'cut,adhesion', 'cut,cystic_artery', 'cut,cystic_duct', 'cut,cystic_plate', 'cut,liver', 'cut,omentum', 'clip,blood_vessel', 'clip,cystic_artery', 'clip,cystic_duct', 'clip,cystic_pedicle', 'clip,cystic_plate', 'aspirate,fluid', 'dissect,cystic_pedicle', 'irrigate,abdominal_wall_cavity', 'irrigate,cystic_pedicle', 'irrigate,liver', 'null_verb,null_target']\n"
     ]
    },
    {
     "name": "stderr",
     "output_type": "stream",
     "text": [
      "c:\\Users\\tal22\\Documents\\repositories\\triplet_segmentation\\.tripletsegmentation\\Lib\\site-packages\\torchvision\\models\\_utils.py:208: UserWarning: The parameter 'pretrained' is deprecated since 0.13 and may be removed in the future, please use 'weights' instead.\n",
      "  warnings.warn(\n",
      "c:\\Users\\tal22\\Documents\\repositories\\triplet_segmentation\\.tripletsegmentation\\Lib\\site-packages\\torchvision\\models\\_utils.py:223: UserWarning: Arguments other than a weight enum or `None` for 'weights' are deprecated since 0.13 and may be removed in the future. The current behavior is equivalent to passing `weights=ResNet50_Weights.IMAGENET1K_V1`. You can also use `weights=ResNet50_Weights.DEFAULT` to get the most up-to-date weights.\n",
      "  warnings.warn(msg)\n"
     ]
    },
    {
     "name": "stdout",
     "output_type": "stream",
     "text": [
      "Checkpoint loaded from ../resnet_model/work_dirs_v3/singletask_resnet_fpn_targetlogits_verbtarget\\epoch_1.pth, starting from epoch 0\n",
      "resuming from epoch, 1, best_val_accuracy 0.0\n",
      "config {'batch_size': 1, 'num_epochs': 1, 'learning_rate': 1e-05, 'experiment_name': 'singletask_resnet_fpn_targetlogits_verbtarget', 'model_name': 'SingleTaskResNetFPNTargetLogits', 'task_name': 'verbtarget', 'description': 'resnet_fpn predicting verbtarget only with target logits', 'architecture': 'singletaskwithtargetlogits', 'dataset_path': 'C:/Users/tal22/Documents/repositories/datasets/my_triplet_seg_datasets/triplet_segmentation_dataset_v3', 'verb_and_target_gt_present_for_test': False, 'train_image_dir': 'C:/Users/tal22/Documents/repositories/datasets/my_triplet_seg_datasets/triplet_segmentation_dataset_v3\\\\train/img_dir', 'train_ann_dir': 'C:/Users/tal22/Documents/repositories/datasets/my_triplet_seg_datasets/triplet_segmentation_dataset_v3\\\\train/ann_second_stage', 'val_image_dir': 'C:/Users/tal22/Documents/repositories/datasets/my_triplet_seg_datasets/triplet_segmentation_dataset_v3\\\\val/img_dir', 'val_ann_dir': 'C:/Users/tal22/Documents/repositories/datasets/my_triplet_seg_datasets/triplet_segmentation_dataset_v3\\\\val/ann_second_stage', 'test_image_dir': 'C:/Users/tal22/Documents/repositories/datasets/my_triplet_seg_datasets/triplet_segmentation_dataset_v3\\\\mask2former_instrument_prediction/img_dir', 'test_ann_dir': 'C:/Users/tal22/Documents/repositories/datasets/my_triplet_seg_datasets/triplet_segmentation_dataset_v3\\\\mask2former_instrument_prediction/ann_second_stage', 'work_dir': '../resnet_model/work_dirs_v3/singletask_resnet_fpn_targetlogits_verbtarget', 'save_results_path': '../resnet_model/work_dirs_v3/singletask_resnet_fpn_targetlogits_verbtarget\\\\results.json', 'save_logits_path': '../resnet_model/work_dirs_v3/singletask_resnet_fpn_targetlogits_verbtarget\\\\results_logits.json', 'vis_dir': '../resnet_model/work_dirs_v3/singletask_resnet_fpn_targetlogits_verbtarget\\\\vis_dir/', 'allow_resume': True, 'load_from_checkpoint': None, 'predict_only_mode': False, 'use_wce': False, 'image_size': (256, 448), 'model_input_size': (256, 448), 'num_target_logits': 9, 'target_logits_dir_train': 'C:/Users/tal22/Documents/repositories/datasets/my_triplet_seg_datasets/triplet_segmentation_dataset_v3\\\\target_prediction/train/logits', 'target_logits_dir_val': 'C:/Users/tal22/Documents/repositories/datasets/my_triplet_seg_datasets/triplet_segmentation_dataset_v3\\\\target_prediction/val/logits', 'target_logits_dir_test': 'C:/Users/tal22/Documents/repositories/datasets/my_triplet_seg_datasets/triplet_segmentation_dataset_v3\\\\target_prediction/test/logits'}\n"
     ]
    },
    {
     "name": "stderr",
     "output_type": "stream",
     "text": [
      "wandb: Using wandb-core as the SDK backend.  Please refer to https://wandb.me/wandb-core for more information.\n",
      "wandb: Currently logged in as: labdeeman77 (labdeeman77-king-s-college-london). Use `wandb login --relogin` to force relogin\n"
     ]
    },
    {
     "data": {
      "text/html": [
       "Tracking run with wandb version 0.18.7"
      ],
      "text/plain": [
       "<IPython.core.display.HTML object>"
      ]
     },
     "metadata": {},
     "output_type": "display_data"
    },
    {
     "data": {
      "text/html": [
       "Run data is saved locally in <code>c:\\Users\\tal22\\Documents\\repositories\\triplet_segmentation\\main\\wandb\\run-20250530_150425-0mhdscdm</code>"
      ],
      "text/plain": [
       "<IPython.core.display.HTML object>"
      ]
     },
     "metadata": {},
     "output_type": "display_data"
    },
    {
     "data": {
      "text/html": [
       "Syncing run <strong><a href='https://wandb.ai/labdeeman77-king-s-college-london/triplet_segmentation/runs/0mhdscdm' target=\"_blank\">rose-breeze-296</a></strong> to <a href='https://wandb.ai/labdeeman77-king-s-college-london/triplet_segmentation' target=\"_blank\">Weights & Biases</a> (<a href='https://wandb.me/developer-guide' target=\"_blank\">docs</a>)<br/>"
      ],
      "text/plain": [
       "<IPython.core.display.HTML object>"
      ]
     },
     "metadata": {},
     "output_type": "display_data"
    },
    {
     "data": {
      "text/html": [
       " View project at <a href='https://wandb.ai/labdeeman77-king-s-college-london/triplet_segmentation' target=\"_blank\">https://wandb.ai/labdeeman77-king-s-college-london/triplet_segmentation</a>"
      ],
      "text/plain": [
       "<IPython.core.display.HTML object>"
      ]
     },
     "metadata": {},
     "output_type": "display_data"
    },
    {
     "data": {
      "text/html": [
       " View run at <a href='https://wandb.ai/labdeeman77-king-s-college-london/triplet_segmentation/runs/0mhdscdm' target=\"_blank\">https://wandb.ai/labdeeman77-king-s-college-london/triplet_segmentation/runs/0mhdscdm</a>"
      ],
      "text/plain": [
       "<IPython.core.display.HTML object>"
      ]
     },
     "metadata": {},
     "output_type": "display_data"
    },
    {
     "name": "stdout",
     "output_type": "stream",
     "text": [
      "started epoch 1, best_val_accuracy, 0.0\n",
      "Epoch 1/1, Train Loss: 0.0001\n",
      "Train verbtarget Accuracy: 0.00\n",
      "Train verbtarget mean Accuracy: 0.00\n",
      "Validation\n",
      "  verbtarget Accuracy: 0.00\n",
      "Val verbtarget Accuracy: 0.00\n",
      "Val verbtarget mean Accuracy: 0.00\n",
      "Checkpoint saved to ../resnet_model/work_dirs_v3/singletask_resnet_fpn_targetlogits_verbtarget\\epoch_1.pth\n",
      "Checkpoint loaded from ../resnet_model/work_dirs_v3/singletask_resnet_fpn_targetlogits_verbtarget\\best_model.pth, starting from epoch 1\n",
      "began prediction...\n",
      "Predictions saved to ../resnet_model/work_dirs_v3/singletask_resnet_fpn_targetlogits_verbtarget\\results.json\n",
      "logits saved to ../resnet_model/work_dirs_v3/singletask_resnet_fpn_targetlogits_verbtarget\\results_logits.json\n"
     ]
    }
   ],
   "source": [
    "%load_ext autoreload\n",
    "%autoreload 2\n",
    "\n",
    "import sys\n",
    "sys.path.append('..')\n",
    "\n",
    "\n",
    "%run ../resnet_model/main.py --config config.triplet_segmentation_v3_target_dataset.singletask_resnet_fpn_targetlogits_verbtarget"
   ]
  },
  {
   "cell_type": "code",
   "execution_count": 3,
   "metadata": {},
   "outputs": [
    {
     "data": {
      "text/plain": [
       "torch.Size([8])"
      ]
     },
     "execution_count": 3,
     "metadata": {},
     "output_type": "execute_result"
    }
   ],
   "source": [
    "import torch\n",
    "torch.zeros((8,)).shape"
   ]
  },
  {
   "cell_type": "code",
   "execution_count": null,
   "metadata": {},
   "outputs": [],
   "source": []
  }
 ],
 "metadata": {
  "kernelspec": {
   "display_name": ".tripletsegmentation",
   "language": "python",
   "name": "python3"
  },
  "language_info": {
   "codemirror_mode": {
    "name": "ipython",
    "version": 3
   },
   "file_extension": ".py",
   "mimetype": "text/x-python",
   "name": "python",
   "nbconvert_exporter": "python",
   "pygments_lexer": "ipython3",
   "version": "3.12.1"
  }
 },
 "nbformat": 4,
 "nbformat_minor": 2
}
