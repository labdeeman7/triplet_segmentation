{
 "cells": [
  {
   "cell_type": "code",
   "execution_count": 1,
   "metadata": {},
   "outputs": [],
   "source": [
    "%load_ext autoreload\n",
    "%autoreload 2\n",
    "\n",
    "import sys\n",
    "sys.path.append('../')"
   ]
  },
  {
   "cell_type": "code",
   "execution_count": null,
   "metadata": {},
   "outputs": [
    {
     "name": "stdout",
     "output_type": "stream",
     "text": [
      "class names ['gallbladder', 'cystic_plate', 'cystic_duct', 'cystic_artery', 'cystic_pedicle', 'blood_vessel', 'fluid', 'abdominal_wall_cavity', 'liver', 'adhesion', 'omentum', 'peritoneum', 'gut', 'specimen_bag', 'null_target']\n",
      "loss_weights_tensor tensor([0.0279, 0.0556, 0.0392, 0.0525, 0.1023, 0.0878, 0.0589, 0.0790, 0.0385,\n",
      "        0.0953, 0.0491, 0.1062, 0.0953, 0.0645, 0.0480], device='cuda:0')\n"
     ]
    },
    {
     "name": "stderr",
     "output_type": "stream",
     "text": [
      "c:\\Users\\tal22\\Documents\\repositories\\triplet_segmentation\\.tripletsegmentation\\Lib\\site-packages\\torchvision\\models\\_utils.py:208: UserWarning: The parameter 'pretrained' is deprecated since 0.13 and may be removed in the future, please use 'weights' instead.\n",
      "  warnings.warn(\n",
      "c:\\Users\\tal22\\Documents\\repositories\\triplet_segmentation\\.tripletsegmentation\\Lib\\site-packages\\torchvision\\models\\_utils.py:223: UserWarning: Arguments other than a weight enum or `None` for 'weights' are deprecated since 0.13 and may be removed in the future. The current behavior is equivalent to passing `weights=ResNet50_Weights.IMAGENET1K_V1`. You can also use `weights=ResNet50_Weights.DEFAULT` to get the most up-to-date weights.\n",
      "  warnings.warn(msg)\n"
     ]
    },
    {
     "name": "stdout",
     "output_type": "stream",
     "text": [
      "config {'batch_size': 16, 'num_epochs': 20, 'learning_rate': 0.0005, 'experiment_name': 'singletask_resnet_fpn_target_wce', 'model_name': 'SingleTaskResNetFPN', 'task_name': 'target', 'description': 'resnet_fpn predicting target wce img size', 'architecture': 'singletask', 'dataset_path': 'C:/Users/tal22/Documents/repositories/triplet_segmentation/data/triplet_segmentation_dataset_v2_second_stage', 'verb_and_target_gt_present_for_test': False, 'train_image_dir': 'C:/Users/tal22/Documents/repositories/triplet_segmentation/data/triplet_segmentation_dataset_v2_second_stage\\\\train/img_dir', 'train_ann_dir': 'C:/Users/tal22/Documents/repositories/triplet_segmentation/data/triplet_segmentation_dataset_v2_second_stage\\\\train/ann_second_stage', 'val_image_dir': 'C:/Users/tal22/Documents/repositories/triplet_segmentation/data/triplet_segmentation_dataset_v2_second_stage\\\\val/img_dir', 'val_ann_dir': 'C:/Users/tal22/Documents/repositories/triplet_segmentation/data/triplet_segmentation_dataset_v2_second_stage\\\\val/ann_second_stage', 'test_image_dir': 'C:/Users/tal22/Documents/repositories/triplet_segmentation/data/triplet_segmentation_dataset_v2_second_stage\\\\mask2former_instrument_prediction/img_dir', 'test_ann_dir': 'C:/Users/tal22/Documents/repositories/triplet_segmentation/data/triplet_segmentation_dataset_v2_second_stage\\\\mask2former_instrument_prediction/ann_second_stage', 'work_dir': '../resnet_model/work_dirs/singletask_resnet_fpn_target_wce', 'save_results_path': '../resnet_model/work_dirs/singletask_resnet_fpn_target_wce\\\\results.json', 'save_logits_path': '../resnet_model/work_dirs/singletask_resnet_fpn_target_wce\\\\results_logits.json', 'allow_resume': True, 'load_from_checkpoint': None, 'predict_only_mode': False, 'image_size': (480, 854), 'model_input_size': (448, 800), 'task_class_frequencies': {'gallbladder': 10457, 'liver': 2895, 'cystic_duct': 2682, 'null_target': 1198, 'omentum': 1093, 'cystic_artery': 835, 'cystic_plate': 664, 'fluid': 528, 'specimen_bag': 368, 'abdominal_wall_cavity': 163, 'blood_vessel': 107, 'adhesion': 77, 'gut': 77, 'cystic_pedicle': 58, 'peritoneum': 50}, 'dataset_weight_scaling_factor': 0.25}\n"
     ]
    },
    {
     "name": "stderr",
     "output_type": "stream",
     "text": [
      "wandb: Using wandb-core as the SDK backend.  Please refer to https://wandb.me/wandb-core for more information.\n",
      "wandb: Currently logged in as: labdeeman77 (labdeeman77-king-s-college-london). Use `wandb login --relogin` to force relogin\n"
     ]
    },
    {
     "data": {
      "text/html": [
       "Tracking run with wandb version 0.18.7"
      ],
      "text/plain": [
       "<IPython.core.display.HTML object>"
      ]
     },
     "metadata": {},
     "output_type": "display_data"
    },
    {
     "data": {
      "text/html": [
       "Run data is saved locally in <code>c:\\Users\\tal22\\Documents\\repositories\\triplet_segmentation\\main\\wandb\\run-20250204_185238-t83e1m37</code>"
      ],
      "text/plain": [
       "<IPython.core.display.HTML object>"
      ]
     },
     "metadata": {},
     "output_type": "display_data"
    },
    {
     "data": {
      "text/html": [
       "Syncing run <strong><a href='https://wandb.ai/labdeeman77-king-s-college-london/triplet_segmentation/runs/t83e1m37' target=\"_blank\">noble-pyramid-146</a></strong> to <a href='https://wandb.ai/labdeeman77-king-s-college-london/triplet_segmentation' target=\"_blank\">Weights & Biases</a> (<a href='https://wandb.me/developer-guide' target=\"_blank\">docs</a>)<br/>"
      ],
      "text/plain": [
       "<IPython.core.display.HTML object>"
      ]
     },
     "metadata": {},
     "output_type": "display_data"
    },
    {
     "data": {
      "text/html": [
       " View project at <a href='https://wandb.ai/labdeeman77-king-s-college-london/triplet_segmentation' target=\"_blank\">https://wandb.ai/labdeeman77-king-s-college-london/triplet_segmentation</a>"
      ],
      "text/plain": [
       "<IPython.core.display.HTML object>"
      ]
     },
     "metadata": {},
     "output_type": "display_data"
    },
    {
     "data": {
      "text/html": [
       " View run at <a href='https://wandb.ai/labdeeman77-king-s-college-london/triplet_segmentation/runs/t83e1m37' target=\"_blank\">https://wandb.ai/labdeeman77-king-s-college-london/triplet_segmentation/runs/t83e1m37</a>"
      ],
      "text/plain": [
       "<IPython.core.display.HTML object>"
      ]
     },
     "metadata": {},
     "output_type": "display_data"
    },
    {
     "name": "stdout",
     "output_type": "stream",
     "text": [
      "started epoch 1, best_val_accuracy, 0.0\n"
     ]
    }
   ],
   "source": [
    "%run ../resnet_model/main.py --config config.triplet_segmentation_test_folder.singletask_resnet_fpn_target_wce"
   ]
  },
  {
   "cell_type": "code",
   "execution_count": null,
   "metadata": {},
   "outputs": [],
   "source": []
  }
 ],
 "metadata": {
  "kernelspec": {
   "display_name": ".tripletsegmentation",
   "language": "python",
   "name": "python3"
  },
  "language_info": {
   "codemirror_mode": {
    "name": "ipython",
    "version": 3
   },
   "file_extension": ".py",
   "mimetype": "text/x-python",
   "name": "python",
   "nbconvert_exporter": "python",
   "pygments_lexer": "ipython3",
   "version": "3.12.1"
  }
 },
 "nbformat": 4,
 "nbformat_minor": 2
}
