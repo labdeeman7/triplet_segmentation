{
 "cells": [
  {
   "cell_type": "code",
   "execution_count": 11,
   "metadata": {},
   "outputs": [
    {
     "name": "stdout",
     "output_type": "stream",
     "text": [
      "The autoreload extension is already loaded. To reload it, use:\n",
      "  %reload_ext autoreload\n"
     ]
    }
   ],
   "source": [
    "%load_ext autoreload\n",
    "%autoreload 2\n",
    "\n",
    "import sys\n",
    "sys.path.append('../')\n",
    "sys.path.append('../resnet_model')\n",
    "\n",
    "import pickle\n",
    "import os\n",
    "import numpy as np\n",
    "import json\n",
    "\n",
    "from utils.general.dataset_variables import TripletSegmentationVariables \n",
    "from utils.general.read_files import read_from_json\n",
    "from utils.general.save_files import save_to_json\n",
    "\n",
    "INSTRUMENT_ID_TO_CLASS_DICT = TripletSegmentationVariables.categories['instrument']\n",
    "INSTRUMENT_CLASS_TO_ID_DICT = {instrument_class: instrument_id for instrument_id, instrument_class in INSTRUMENT_ID_TO_CLASS_DICT.items()}\n",
    "TRIPLET_ID_TO_CLASS_DICT = TripletSegmentationVariables.categories['triplet']\n",
    "TRIPLET_NAME_TO_ID_DICT = {triplet_class: triplet_id for triplet_id, triplet_class in TRIPLET_ID_TO_CLASS_DICT.items()}\n",
    "VERBTARGET_ID_TO_NAME_DICT = TripletSegmentationVariables.categories['verbtarget'] \n",
    "VERBTARGET_NAME_TO_ID_DICT = {verbtarget_class: verbtarget_id for verbtarget_id, verbtarget_class in VERBTARGET_ID_TO_NAME_DICT.items()}\n",
    "\n",
    "INSTRUMENT_TO_VERBTARGET_CLASSES = TripletSegmentationVariables.instrument_to_verbtarget_classes\n",
    "INSTRUMENT_TO_TRIPLET_CLASSES = TripletSegmentationVariables.instrument_to_triplet_classes\n"
   ]
  },
  {
   "cell_type": "code",
   "execution_count": 13,
   "metadata": {},
   "outputs": [
    {
     "data": {
      "text/plain": [
       "OrderedDict([('1', 'dissect,cystic_plate'),\n",
       "             ('2', 'dissect,gallbladder'),\n",
       "             ('3', 'dissect,omentum'),\n",
       "             ('4', 'grasp,cystic_artery'),\n",
       "             ('5', 'grasp,cystic_duct'),\n",
       "             ('6', 'grasp,cystic_pedicle'),\n",
       "             ('7', 'grasp,cystic_plate'),\n",
       "             ('8', 'grasp,gallbladder'),\n",
       "             ('9', 'grasp,gut'),\n",
       "             ('10', 'grasp,liver'),\n",
       "             ('11', 'grasp,omentum'),\n",
       "             ('12', 'grasp,peritoneum'),\n",
       "             ('13', 'grasp,specimen_bag'),\n",
       "             ('14', 'pack,gallbladder'),\n",
       "             ('15', 'retract,cystic_duct'),\n",
       "             ('16', 'retract,cystic_pedicle'),\n",
       "             ('17', 'retract,cystic_plate'),\n",
       "             ('18', 'retract,gallbladder'),\n",
       "             ('19', 'retract,gut'),\n",
       "             ('20', 'retract,liver'),\n",
       "             ('21', 'retract,omentum'),\n",
       "             ('22', 'retract,peritoneum'),\n",
       "             ('23', 'coagulate,abdominal_wall_cavity'),\n",
       "             ('24', 'coagulate,blood_vessel'),\n",
       "             ('25', 'coagulate,cystic_artery'),\n",
       "             ('26', 'coagulate,cystic_duct'),\n",
       "             ('27', 'coagulate,cystic_pedicle'),\n",
       "             ('28', 'coagulate,cystic_plate'),\n",
       "             ('29', 'coagulate,gallbladder'),\n",
       "             ('30', 'coagulate,liver'),\n",
       "             ('31', 'coagulate,omentum'),\n",
       "             ('32', 'coagulate,peritoneum'),\n",
       "             ('33', 'dissect,adhesion'),\n",
       "             ('34', 'dissect,cystic_artery'),\n",
       "             ('35', 'dissect,cystic_duct'),\n",
       "             ('36', 'cut,blood_vessel'),\n",
       "             ('37', 'cut,peritoneum'),\n",
       "             ('38', 'dissect,blood_vessel'),\n",
       "             ('39', 'dissect,peritoneum'),\n",
       "             ('40', 'cut,adhesion'),\n",
       "             ('41', 'cut,cystic_artery'),\n",
       "             ('42', 'cut,cystic_duct'),\n",
       "             ('43', 'cut,cystic_plate'),\n",
       "             ('44', 'cut,liver'),\n",
       "             ('45', 'cut,omentum'),\n",
       "             ('46', 'clip,blood_vessel'),\n",
       "             ('47', 'clip,cystic_artery'),\n",
       "             ('48', 'clip,cystic_duct'),\n",
       "             ('49', 'clip,cystic_pedicle'),\n",
       "             ('50', 'clip,cystic_plate'),\n",
       "             ('51', 'aspirate,fluid'),\n",
       "             ('52', 'dissect,cystic_pedicle'),\n",
       "             ('53', 'irrigate,abdominal_wall_cavity'),\n",
       "             ('54', 'irrigate,cystic_pedicle'),\n",
       "             ('55', 'irrigate,liver'),\n",
       "             ('56', 'null_verb,null_target')])"
      ]
     },
     "execution_count": 13,
     "metadata": {},
     "output_type": "execute_result"
    }
   ],
   "source": [
    "VERBTARGET_ID_TO_NAME_DICT"
   ]
  },
  {
   "cell_type": "code",
   "execution_count": 18,
   "metadata": {},
   "outputs": [
    {
     "name": "stdout",
     "output_type": "stream",
     "text": [
      "0 grasper\n",
      "[0, 1, 2, 3, 4, 5, 6, 7, 8, 9, 10, 11, 12, 13, 14, 15, 16, 17, 18, 19, 20, 21, 55]\n",
      "['grasper,dissect,cystic_plate', 'grasper,dissect,gallbladder', 'grasper,dissect,omentum', 'grasper,grasp,cystic_artery', 'grasper,grasp,cystic_duct', 'grasper,grasp,cystic_pedicle', 'grasper,grasp,cystic_plate', 'grasper,grasp,gallbladder', 'grasper,grasp,gut', 'grasper,grasp,liver', 'grasper,grasp,omentum', 'grasper,grasp,peritoneum', 'grasper,grasp,specimen_bag', 'grasper,pack,gallbladder', 'grasper,retract,cystic_duct', 'grasper,retract,cystic_pedicle', 'grasper,retract,cystic_plate', 'grasper,retract,gallbladder', 'grasper,retract,gut', 'grasper,retract,liver', 'grasper,retract,omentum', 'grasper,retract,peritoneum', 'grasper,null_verb,null_target']\n",
      "[0, 1, 2, 3, 4, 5, 6, 7, 8, 9, 10, 11, 12, 13, 14, 15, 16, 17, 18, 19, 20, 21, 94]\n",
      "1 bipolar\n",
      "[0, 1, 2, 6, 9, 12, 14, 15, 17, 19, 20, 22, 23, 24, 25, 26, 27, 28, 29, 30, 31, 32, 33, 34, 55]\n",
      "['bipolar,dissect,cystic_plate', 'bipolar,dissect,gallbladder', 'bipolar,dissect,omentum', 'bipolar,grasp,cystic_plate', 'bipolar,grasp,liver', 'bipolar,grasp,specimen_bag', 'bipolar,retract,cystic_duct', 'bipolar,retract,cystic_pedicle', 'bipolar,retract,gallbladder', 'bipolar,retract,liver', 'bipolar,retract,omentum', 'bipolar,coagulate,abdominal_wall_cavity', 'bipolar,coagulate,blood_vessel', 'bipolar,coagulate,cystic_artery', 'bipolar,coagulate,cystic_duct', 'bipolar,coagulate,cystic_pedicle', 'bipolar,coagulate,cystic_plate', 'bipolar,coagulate,gallbladder', 'bipolar,coagulate,liver', 'bipolar,coagulate,omentum', 'bipolar,coagulate,peritoneum', 'bipolar,dissect,adhesion', 'bipolar,dissect,cystic_artery', 'bipolar,dissect,cystic_duct', 'bipolar,null_verb,null_target']\n",
      "[35, 36, 37, 38, 39, 40, 41, 42, 43, 44, 45, 22, 23, 24, 25, 26, 27, 28, 29, 30, 31, 32, 33, 34, 95]\n",
      "2 hook\n",
      "[0, 1, 2, 17, 19, 23, 24, 25, 26, 27, 28, 29, 30, 33, 34, 35, 36, 37, 38, 55]\n",
      "['hook,dissect,cystic_plate', 'hook,dissect,gallbladder', 'hook,dissect,omentum', 'hook,retract,gallbladder', 'hook,retract,liver', 'hook,coagulate,blood_vessel', 'hook,coagulate,cystic_artery', 'hook,coagulate,cystic_duct', 'hook,coagulate,cystic_pedicle', 'hook,coagulate,cystic_plate', 'hook,coagulate,gallbladder', 'hook,coagulate,liver', 'hook,coagulate,omentum', 'hook,dissect,cystic_artery', 'hook,dissect,cystic_duct', 'hook,cut,blood_vessel', 'hook,cut,peritoneum', 'hook,dissect,blood_vessel', 'hook,dissect,peritoneum', 'hook,null_verb,null_target']\n",
      "[59, 60, 61, 63, 64, 46, 47, 48, 49, 50, 51, 52, 53, 57, 58, 54, 55, 56, 62, 96]\n",
      "3 scissors\n",
      "[0, 1, 2, 30, 35, 36, 39, 40, 41, 42, 43, 44, 55]\n",
      "['scissors,dissect,cystic_plate', 'scissors,dissect,gallbladder', 'scissors,dissect,omentum', 'scissors,coagulate,omentum', 'scissors,cut,blood_vessel', 'scissors,cut,peritoneum', 'scissors,cut,adhesion', 'scissors,cut,cystic_artery', 'scissors,cut,cystic_duct', 'scissors,cut,cystic_plate', 'scissors,cut,liver', 'scissors,cut,omentum', 'scissors,null_verb,null_target']\n",
      "[74, 75, 76, 65, 67, 73, 66, 68, 69, 70, 71, 72, 97]\n",
      "4 clipper\n",
      "[45, 46, 47, 48, 49, 55]\n",
      "['clipper,clip,blood_vessel', 'clipper,clip,cystic_artery', 'clipper,clip,cystic_duct', 'clipper,clip,cystic_pedicle', 'clipper,clip,cystic_plate', 'clipper,null_verb,null_target']\n",
      "[77, 78, 79, 80, 81, 98]\n",
      "5 irrigator\n",
      "[0, 1, 2, 17, 19, 20, 34, 50, 51, 52, 53, 54, 55]\n",
      "['irrigator,dissect,cystic_plate', 'irrigator,dissect,gallbladder', 'irrigator,dissect,omentum', 'irrigator,retract,gallbladder', 'irrigator,retract,liver', 'irrigator,retract,omentum', 'irrigator,dissect,cystic_duct', 'irrigator,aspirate,fluid', 'irrigator,dissect,cystic_pedicle', 'irrigator,irrigate,abdominal_wall_cavity', 'irrigator,irrigate,cystic_pedicle', 'irrigator,irrigate,liver', 'irrigator,null_verb,null_target']\n",
      "[85, 86, 87, 91, 92, 93, 83, 82, 84, 88, 89, 90, 99]\n",
      "{0: [0, 1, 2, 3, 4, 5, 6, 7, 8, 9, 10, 11, 12, 13, 14, 15, 16, 17, 18, 19, 20, 21, 94], 1: [35, 36, 37, 38, 39, 40, 41, 42, 43, 44, 45, 22, 23, 24, 25, 26, 27, 28, 29, 30, 31, 32, 33, 34, 95], 2: [59, 60, 61, 63, 64, 46, 47, 48, 49, 50, 51, 52, 53, 57, 58, 54, 55, 56, 62, 96], 3: [74, 75, 76, 65, 67, 73, 66, 68, 69, 70, 71, 72, 97], 4: [77, 78, 79, 80, 81, 98], 5: [85, 86, 87, 91, 92, 93, 83, 82, 84, 88, 89, 90, 99]}\n"
     ]
    }
   ],
   "source": [
    "instrument_to_triplet_classes = {}\n",
    "for instrument_id, instrument_name in  INSTRUMENT_ID_TO_CLASS_DICT.items():\n",
    "    instrument_id = int(instrument_id) -1\n",
    "    print(f'{instrument_id} {instrument_name}')\n",
    "    \n",
    "    verb_target_ids_for_instrument = INSTRUMENT_TO_VERBTARGET_CLASSES[instrument_id]\n",
    "    print(verb_target_ids_for_instrument)\n",
    "    ivt_names_for_instrument = [f'{instrument_name},{VERBTARGET_ID_TO_NAME_DICT[str(verb_target_id+1)]}' for verb_target_id in verb_target_ids_for_instrument]\n",
    "    print(ivt_names_for_instrument)\n",
    "    \n",
    "    ivt_ids_for_instruments = [int(TRIPLET_NAME_TO_ID_DICT[ivt_name])-1  for ivt_name in ivt_names_for_instrument ]\n",
    "    print(ivt_ids_for_instruments)\n",
    "    \n",
    "    instrument_to_triplet_classes[instrument_id] = ivt_ids_for_instruments\n",
    "    \n",
    "\n",
    "print(instrument_to_triplet_classes)    \n",
    "    \n",
    "    \n",
    "    \n",
    "    "
   ]
  },
  {
   "cell_type": "code",
   "execution_count": null,
   "metadata": {},
   "outputs": [],
   "source": []
  }
 ],
 "metadata": {
  "kernelspec": {
   "display_name": ".tripletsegmentation",
   "language": "python",
   "name": "python3"
  },
  "language_info": {
   "codemirror_mode": {
    "name": "ipython",
    "version": 3
   },
   "file_extension": ".py",
   "mimetype": "text/x-python",
   "name": "python",
   "nbconvert_exporter": "python",
   "pygments_lexer": "ipython3",
   "version": "3.12.1"
  }
 },
 "nbformat": 4,
 "nbformat_minor": 2
}
