{
 "cells": [
  {
   "cell_type": "markdown",
   "metadata": {},
   "source": [
    "## Move dataset around. \n",
    "\n",
    "I need to write six functions, well only three, but the other three will use the other three functions. "
   ]
  },
  {
   "cell_type": "code",
   "execution_count": 1,
   "metadata": {},
   "outputs": [],
   "source": [
    "%load_ext autoreload\n",
    "%autoreload 2"
   ]
  },
  {
   "cell_type": "code",
   "execution_count": 2,
   "metadata": {},
   "outputs": [],
   "source": [
    "import sys\n",
    "sys.path.append('../')"
   ]
  },
  {
   "cell_type": "code",
   "execution_count": 3,
   "metadata": {},
   "outputs": [],
   "source": [
    "from utils.general.dataset_variables import TripletSegmentationVariables\n",
    "import shutil\n",
    "import os\n",
    "from os.path import join\n",
    "from utils.dataset_format_conversions.dataset_conversion_split_partition import dataset_seqs_to_dataset_split, dataset_split_to_dataset_seqs\n",
    "from utils.dataset_format_conversions.dataset_conversion_split_partition import standard_mmdetection_form_to_dataset_seqs, dataset_split_to_standard_mmdetection_form"
   ]
  },
  {
   "cell_type": "code",
   "execution_count": 4,
   "metadata": {},
   "outputs": [],
   "source": [
    "dataset_dir = '../../datasets/matching_and_conflict_for_current_cholecinstanceseg/final_cholecinstanceseg'\n",
    "# seq_to_split_dict = TripletSegmentationVariables.seq_to_split_dict_full\n",
    "seq_to_split_dict = TripletSegmentationVariables.seq_to_split_dict_tiny"
   ]
  },
  {
   "cell_type": "code",
   "execution_count": null,
   "metadata": {},
   "outputs": [],
   "source": [
    "dataset_seqs_to_dataset_split(dataset_dir, seq_to_split_dict)"
   ]
  },
  {
   "cell_type": "code",
   "execution_count": 21,
   "metadata": {},
   "outputs": [
    {
     "name": "stdout",
     "output_type": "stream",
     "text": [
      "all sequences can be found\n",
      "dataset_split_to_single_folder completed\n"
     ]
    }
   ],
   "source": [
    "dataset_split_to_dataset_seqs(dataset_dir, seq_to_split_dict)"
   ]
  },
  {
   "cell_type": "code",
   "execution_count": 7,
   "metadata": {},
   "outputs": [
    {
     "name": "stdout",
     "output_type": "stream",
     "text": [
      "Files have been successfully moved.\n"
     ]
    }
   ],
   "source": [
    "dataset_split_to_standard_mmdetection_form(dataset_dir, seq_to_split_dict) "
   ]
  },
  {
   "cell_type": "code",
   "execution_count": 6,
   "metadata": {},
   "outputs": [
    {
     "name": "stdout",
     "output_type": "stream",
     "text": [
      "all folders can be found\n",
      "Files have been successfully reorganized into sequence folders.\n"
     ]
    }
   ],
   "source": [
    "standard_mmdetection_form_to_dataset_seqs(dataset_dir, seq_to_split_dict) "
   ]
  },
  {
   "cell_type": "code",
   "execution_count": null,
   "metadata": {},
   "outputs": [],
   "source": []
  }
 ],
 "metadata": {
  "kernelspec": {
   "display_name": ".tripletsegmentation",
   "language": "python",
   "name": "python3"
  },
  "language_info": {
   "codemirror_mode": {
    "name": "ipython",
    "version": 3
   },
   "file_extension": ".py",
   "mimetype": "text/x-python",
   "name": "python",
   "nbconvert_exporter": "python",
   "pygments_lexer": "ipython3",
   "version": "3.12.1"
  }
 },
 "nbformat": 4,
 "nbformat_minor": 2
}
