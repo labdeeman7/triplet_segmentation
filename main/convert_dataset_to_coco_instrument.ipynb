{
 "cells": [
  {
   "cell_type": "code",
   "execution_count": 1,
   "metadata": {},
   "outputs": [],
   "source": [
    "%load_ext autoreload\n",
    "%autoreload 2"
   ]
  },
  {
   "cell_type": "code",
   "execution_count": 2,
   "metadata": {},
   "outputs": [],
   "source": [
    "import sys\n",
    "sys.path.append('../')"
   ]
  },
  {
   "cell_type": "markdown",
   "metadata": {},
   "source": [
    "## Convert from my annotation to COCO"
   ]
  },
  {
   "cell_type": "code",
   "execution_count": 3,
   "metadata": {},
   "outputs": [],
   "source": [
    "from utils.convert_to_coco.convert_dataset_to_instrument_class_coco import annotations_to_coco"
   ]
  },
  {
   "cell_type": "code",
   "execution_count": 7,
   "metadata": {},
   "outputs": [
    {
     "name": "stdout",
     "output_type": "stream",
     "text": [
      "currently on 0, t50_VID111_000000.png, mask t50_VID111_000000.json\n",
      "currently on 1, t50_VID111_000030.png, mask t50_VID111_000030.json\n",
      "currently on 2, t50_VID111_000060.png, mask t50_VID111_000060.json\n",
      "currently on 3, t50_VID111_000090.png, mask t50_VID111_000090.json\n",
      "currently on 4, t50_VID111_000120.png, mask t50_VID111_000120.json\n",
      "currently on 5, t50_VID111_000150.png, mask t50_VID111_000150.json\n",
      "currently on 6, t50_VID111_000240.png, mask t50_VID111_000240.json\n",
      "currently on 7, t50_VID111_000270.png, mask t50_VID111_000270.json\n",
      "currently on 8, t50_VID111_000300.png, mask t50_VID111_000300.json\n",
      "currently on 9, t50_VID111_000330.png, mask t50_VID111_000330.json\n",
      "currently on 10, t50_VID111_000360.png, mask t50_VID111_000360.json\n",
      "currently on 11, t50_VID111_000390.png, mask t50_VID111_000390.json\n",
      "currently on 12, t50_VID111_000450.png, mask t50_VID111_000450.json\n",
      "currently on 13, t50_VID111_000480.png, mask t50_VID111_000480.json\n",
      "currently on 14, t50_VID111_000510.png, mask t50_VID111_000510.json\n",
      "currently on 15, t50_VID111_000540.png, mask t50_VID111_000540.json\n",
      "currently on 16, t50_VID111_000570.png, mask t50_VID111_000570.json\n",
      "currently on 17, t50_VID111_000600.png, mask t50_VID111_000600.json\n",
      "currently on 18, t50_VID111_000630.png, mask t50_VID111_000630.json\n",
      "currently on 19, t50_VID111_000660.png, mask t50_VID111_000660.json\n",
      "currently on 20, t50_VID111_000720.png, mask t50_VID111_000720.json\n",
      "currently on 21, t50_VID111_000750.png, mask t50_VID111_000750.json\n",
      "currently on 22, t50_VID111_000780.png, mask t50_VID111_000780.json\n",
      "currently on 23, t50_VID111_000810.png, mask t50_VID111_000810.json\n",
      "currently on 24, t50_VID111_000840.png, mask t50_VID111_000840.json\n",
      "currently on 25, t50_VID111_000870.png, mask t50_VID111_000870.json\n",
      "currently on 26, t50_VID111_000900.png, mask t50_VID111_000900.json\n",
      "currently on 27, t50_VID111_000930.png, mask t50_VID111_000930.json\n",
      "currently on 28, t50_VID111_000960.png, mask t50_VID111_000960.json\n",
      "currently on 29, t50_VID111_000990.png, mask t50_VID111_000990.json\n",
      "currently on 30, t50_VID111_001050.png, mask t50_VID111_001050.json\n",
      "currently on 31, t50_VID111_001080.png, mask t50_VID111_001080.json\n",
      "currently on 32, t50_VID111_001140.png, mask t50_VID111_001140.json\n",
      "currently on 33, t50_VID111_001170.png, mask t50_VID111_001170.json\n",
      "currently on 34, t50_VID111_001230.png, mask t50_VID111_001230.json\n",
      "currently on 35, t50_VID111_001260.png, mask t50_VID111_001260.json\n",
      "currently on 36, t50_VID111_001290.png, mask t50_VID111_001290.json\n",
      "currently on 37, t50_VID111_001350.png, mask t50_VID111_001350.json\n",
      "currently on 38, t50_VID111_001380.png, mask t50_VID111_001380.json\n",
      "currently on 39, t50_VID111_001410.png, mask t50_VID111_001410.json\n",
      "currently on 40, t50_VID111_001440.png, mask t50_VID111_001440.json\n",
      "currently on 41, t50_VID111_001470.png, mask t50_VID111_001470.json\n",
      "currently on 42, t50_VID111_001500.png, mask t50_VID111_001500.json\n",
      "currently on 43, t50_VID111_001530.png, mask t50_VID111_001530.json\n",
      "currently on 44, t50_VID111_001560.png, mask t50_VID111_001560.json\n",
      "currently on 45, t50_VID111_001800.png, mask t50_VID111_001800.json\n",
      "currently on 46, t50_VID111_001830.png, mask t50_VID111_001830.json\n",
      "currently on 47, t50_VID111_001890.png, mask t50_VID111_001890.json\n",
      "currently on 48, t50_VID111_001920.png, mask t50_VID111_001920.json\n",
      "currently on 49, t50_VID111_001950.png, mask t50_VID111_001950.json\n",
      "currently on 50, t50_VID111_001980.png, mask t50_VID111_001980.json\n",
      "currently on 51, t50_VID111_002010.png, mask t50_VID111_002010.json\n",
      "currently on 52, t50_VID111_002040.png, mask t50_VID111_002040.json\n",
      "currently on 53, t50_VID111_002070.png, mask t50_VID111_002070.json\n",
      "currently on 54, t50_VID111_002100.png, mask t50_VID111_002100.json\n",
      "currently on 55, t50_VID111_002130.png, mask t50_VID111_002130.json\n"
     ]
    }
   ],
   "source": [
    "split = 'val'\n",
    "dataset_path = f\"../data/triplet_segmentation_dataset_tiny/{split}\" # enSure it contains img_dir and \n",
    "output_json_path = f\"../data/triplet_segmentation_dataset_tiny/coco_instrument/{split}_coco_instrument.json\"\n",
    "annotations_to_coco(dataset_path, output_json_path, False)"
   ]
  },
  {
   "cell_type": "code",
   "execution_count": null,
   "metadata": {},
   "outputs": [],
   "source": []
  }
 ],
 "metadata": {
  "kernelspec": {
   "display_name": ".tripletsegmentation",
   "language": "python",
   "name": "python3"
  },
  "language_info": {
   "codemirror_mode": {
    "name": "ipython",
    "version": 3
   },
   "file_extension": ".py",
   "mimetype": "text/x-python",
   "name": "python",
   "nbconvert_exporter": "python",
   "pygments_lexer": "ipython3",
   "version": "3.12.1"
  }
 },
 "nbformat": 4,
 "nbformat_minor": 2
}
