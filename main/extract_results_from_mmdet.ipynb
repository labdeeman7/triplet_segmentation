{
 "cells": [
  {
   "cell_type": "code",
   "execution_count": 4,
   "metadata": {},
   "outputs": [
    {
     "name": "stdout",
     "output_type": "stream",
     "text": [
      "The autoreload extension is already loaded. To reload it, use:\n",
      "  %reload_ext autoreload\n"
     ]
    }
   ],
   "source": [
    "%load_ext autoreload\n",
    "%autoreload 2\n",
    "\n",
    "import sys\n",
    "sys.path.append('..')"
   ]
  },
  {
   "cell_type": "code",
   "execution_count": 5,
   "metadata": {},
   "outputs": [],
   "source": [
    "from utils.convert_result_from_mmdet.convert_pkl_to_labelme import convert_pickle_to_labelme_json"
   ]
  },
  {
   "cell_type": "code",
   "execution_count": 6,
   "metadata": {},
   "outputs": [],
   "source": [
    "# save_ann_dir = '../results/mas2former_on_cholecinstanceseg_pretrained/mask2former_test_triplet_segmentation_v2_results/mask2former_test_triplet_segmentation_v2_dataset'\n",
    "# pickle_file_path = '../results/mas2former_on_cholecinstanceseg_pretrained/mask2former_test_triplet_segmentation_v2_results/mask2former_test_triplet_segmentation_v2_dataset.pkl'\n",
    "# class_threshold = 0.5\n",
    "\n",
    "\n",
    "# save_ann_dir = '../results/full_results_mask2former_multihead/mask2former_one_stage_multihead_full_iter_35000_results'\n",
    "# pickle_file_path = '../results/full_results_mask2former_multihead/mask2former_one_stage_multihead_full_iter_35000.pkl'\n",
    "# class_threshold = 0.5\n",
    "\n",
    "# save_ann_dir = '../results/mas2former_on_cholecinstanceseg_pretrained/mask2former_test_final_results'\n",
    "# pickle_file_path = '../results/mas2former_on_cholecinstanceseg_pretrained/mask2former_test_final_results.pkl'\n",
    "# class_threshold = 0.5\n",
    "\n",
    "# save_ann_dir = '../data/triplet_segmentation_v3_final/mask2former_prediction/ann_dir'\n",
    "# pickle_file_path = '../resnet_model/results_from_dgx/mask2former_predict_on_v3/mask2former_test_triplet_segmentation_v3_dataset.pkl'\n",
    "# class_threshold = 0.5\n",
    "\n",
    "save_ann_dir = '../results/mask2former_direct_triplet_prediction/mask2former_direct_triplet_prediction_results'\n",
    "pickle_file_path = '../results/mask2former_direct_triplet_prediction/mask2former_direct_triplet_prediction_best_coco_bbox_mAP_iter_60000.pkl'\n",
    "\n",
    "\n",
    "class_threshold = 0.5"
   ]
  },
  {
   "cell_type": "markdown",
   "metadata": {},
   "source": [
    "need to make flow for the direct prediction"
   ]
  },
  {
   "cell_type": "code",
   "execution_count": 7,
   "metadata": {},
   "outputs": [],
   "source": [
    "# convert_pickle_to_labelme_json(save_ann_dir=save_ann_dir,\n",
    "#                                 pickle_file_path=pickle_file_path, \n",
    "#                                 ivt_predicted_directly=True,\n",
    "#                                 class_threshold=class_threshold)\n",
    "\n",
    "convert_pickle_to_labelme_json(save_ann_dir=save_ann_dir,\n",
    "                                pickle_file_path=pickle_file_path, \n",
    "                                ivt_predicted_directly=True,\n",
    "                                with_pretrained_model  = True,\n",
    "                                class_threshold=class_threshold)"
   ]
  },
  {
   "cell_type": "code",
   "execution_count": 19,
   "metadata": {},
   "outputs": [],
   "source": [
    "# import pickle\n",
    "# with open(pickle_file_path, 'rb') as file:\n",
    "#         # Load the object from the file\n",
    "#         mmdet_results = pickle.load(file)"
   ]
  },
  {
   "cell_type": "code",
   "execution_count": 20,
   "metadata": {},
   "outputs": [],
   "source": [
    "# mmdet_results[0]['pred_instances'].keys()"
   ]
  }
 ],
 "metadata": {
  "kernelspec": {
   "display_name": ".tripletsegmentation",
   "language": "python",
   "name": "python3"
  },
  "language_info": {
   "codemirror_mode": {
    "name": "ipython",
    "version": 3
   },
   "file_extension": ".py",
   "mimetype": "text/x-python",
   "name": "python",
   "nbconvert_exporter": "python",
   "pygments_lexer": "ipython3",
   "version": "3.12.1"
  }
 },
 "nbformat": 4,
 "nbformat_minor": 2
}
