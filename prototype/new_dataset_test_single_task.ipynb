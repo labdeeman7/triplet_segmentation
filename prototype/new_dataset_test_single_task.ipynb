{
 "cells": [
  {
   "cell_type": "code",
   "execution_count": 1,
   "metadata": {},
   "outputs": [],
   "source": [
    "%load_ext autoreload\n",
    "%autoreload 2\n",
    "\n",
    "import sys\n",
    "sys.path.append('../')\n",
    "sys.path.append('../resnet_model')"
   ]
  },
  {
   "cell_type": "code",
   "execution_count": 2,
   "metadata": {},
   "outputs": [],
   "source": [
    "import importlib\n",
    "import types"
   ]
  },
  {
   "cell_type": "code",
   "execution_count": 3,
   "metadata": {},
   "outputs": [],
   "source": [
    "from utils.general.dataset_variables import TripletSegmentationVariables "
   ]
  },
  {
   "cell_type": "code",
   "execution_count": 4,
   "metadata": {},
   "outputs": [],
   "source": [
    "triplets= TripletSegmentationVariables.categories['triplet']"
   ]
  },
  {
   "cell_type": "code",
   "execution_count": 5,
   "metadata": {},
   "outputs": [],
   "source": [
    "# Create a new dictionary for ID to verb-target mapping\n",
    "verb_target_mapping = {}\n",
    "\n",
    "# Process each item in the original dictionary\n",
    "id = 1\n",
    "for triplet in triplets.values():\n",
    "    # Split the triplet into parts (instrument, verb, target)\n",
    "    parts = triplet.split(',')\n",
    "    verb, target = parts[1], parts[2]  # Extract verb and target\n",
    "    verb_target_class = f\"{verb},{target}\"          # Create a new key for the pair\n",
    "    # Map the ID to the new key\n",
    "    if verb_target_class not in verb_target_mapping.values():\n",
    "        verb_target_mapping[str(id)] = verb_target_class\n",
    "        id += 1\n",
    "\n",
    "# Output the new dictionary\n",
    "\n"
   ]
  },
  {
   "cell_type": "code",
   "execution_count": 6,
   "metadata": {},
   "outputs": [
    {
     "data": {
      "text/plain": [
       "{'1': 'dissect,cystic_plate',\n",
       " '2': 'dissect,gallbladder',\n",
       " '3': 'dissect,omentum',\n",
       " '4': 'grasp,cystic_artery',\n",
       " '5': 'grasp,cystic_duct',\n",
       " '6': 'grasp,cystic_pedicle',\n",
       " '7': 'grasp,cystic_plate',\n",
       " '8': 'grasp,gallbladder',\n",
       " '9': 'grasp,gut',\n",
       " '10': 'grasp,liver',\n",
       " '11': 'grasp,omentum',\n",
       " '12': 'grasp,peritoneum',\n",
       " '13': 'grasp,specimen_bag',\n",
       " '14': 'pack,gallbladder',\n",
       " '15': 'retract,cystic_duct',\n",
       " '16': 'retract,cystic_pedicle',\n",
       " '17': 'retract,cystic_plate',\n",
       " '18': 'retract,gallbladder',\n",
       " '19': 'retract,gut',\n",
       " '20': 'retract,liver',\n",
       " '21': 'retract,omentum',\n",
       " '22': 'retract,peritoneum',\n",
       " '23': 'coagulate,abdominal_wall_cavity',\n",
       " '24': 'coagulate,blood_vessel',\n",
       " '25': 'coagulate,cystic_artery',\n",
       " '26': 'coagulate,cystic_duct',\n",
       " '27': 'coagulate,cystic_pedicle',\n",
       " '28': 'coagulate,cystic_plate',\n",
       " '29': 'coagulate,gallbladder',\n",
       " '30': 'coagulate,liver',\n",
       " '31': 'coagulate,omentum',\n",
       " '32': 'coagulate,peritoneum',\n",
       " '33': 'dissect,adhesion',\n",
       " '34': 'dissect,cystic_artery',\n",
       " '35': 'dissect,cystic_duct',\n",
       " '36': 'cut,blood_vessel',\n",
       " '37': 'cut,peritoneum',\n",
       " '38': 'dissect,blood_vessel',\n",
       " '39': 'dissect,peritoneum',\n",
       " '40': 'cut,adhesion',\n",
       " '41': 'cut,cystic_artery',\n",
       " '42': 'cut,cystic_duct',\n",
       " '43': 'cut,cystic_plate',\n",
       " '44': 'cut,liver',\n",
       " '45': 'cut,omentum',\n",
       " '46': 'clip,blood_vessel',\n",
       " '47': 'clip,cystic_artery',\n",
       " '48': 'clip,cystic_duct',\n",
       " '49': 'clip,cystic_pedicle',\n",
       " '50': 'clip,cystic_plate',\n",
       " '51': 'aspirate,fluid',\n",
       " '52': 'dissect,cystic_pedicle',\n",
       " '53': 'irrigate,abdominal_wall_cavity',\n",
       " '54': 'irrigate,cystic_pedicle',\n",
       " '55': 'irrigate,liver',\n",
       " '56': 'null_verb,null_target'}"
      ]
     },
     "execution_count": 6,
     "metadata": {},
     "output_type": "execute_result"
    }
   ],
   "source": [
    "verb_target_mapping"
   ]
  },
  {
   "cell_type": "code",
   "execution_count": null,
   "metadata": {},
   "outputs": [],
   "source": []
  }
 ],
 "metadata": {
  "kernelspec": {
   "display_name": ".tripletsegmentation",
   "language": "python",
   "name": "python3"
  },
  "language_info": {
   "codemirror_mode": {
    "name": "ipython",
    "version": 3
   },
   "file_extension": ".py",
   "mimetype": "text/x-python",
   "name": "python",
   "nbconvert_exporter": "python",
   "pygments_lexer": "ipython3",
   "version": "3.12.1"
  }
 },
 "nbformat": 4,
 "nbformat_minor": 2
}
