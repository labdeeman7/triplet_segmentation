{
 "cells": [
  {
   "cell_type": "code",
   "execution_count": 1,
   "metadata": {},
   "outputs": [],
   "source": [
    "%load_ext autoreload\n",
    "%autoreload 2\n",
    "\n",
    "import sys\n",
    "sys.path.append('../')\n",
    "sys.path.append('../resnet_model')"
   ]
  },
  {
   "cell_type": "code",
   "execution_count": 2,
   "metadata": {},
   "outputs": [],
   "source": [
    "import importlib\n",
    "import types"
   ]
  },
  {
   "cell_type": "code",
   "execution_count": 3,
   "metadata": {},
   "outputs": [],
   "source": [
    "from utils.general.dataset_variables import TripletSegmentationVariables "
   ]
  },
  {
   "cell_type": "code",
   "execution_count": 4,
   "metadata": {},
   "outputs": [],
   "source": [
    "triplets= TripletSegmentationVariables.categories['triplet']"
   ]
  },
  {
   "cell_type": "code",
   "execution_count": 16,
   "metadata": {},
   "outputs": [],
   "source": [
    "# Create a new dictionary for ID to verb-target mapping\n",
    "verb_target_mapping = {}\n",
    "\n",
    "# Process each item in the original dictionary\n",
    "id = 1\n",
    "for triplet in triplets.values():\n",
    "    # Split the triplet into parts (instrument, verb, target)\n",
    "    parts = triplet.split(',')\n",
    "    verb, target = parts[1], parts[2]  # Extract verb and target\n",
    "    verb_target_class = f\"{verb},{target}\"          # Create a new key for the pair\n",
    "    # Map the ID to the new key\n",
    "    if verb_target_class not in verb_target_mapping.values():\n",
    "        verb_target_mapping[verb_target_class] = str(id)\n",
    "        id += 1\n",
    "\n",
    "# Output the new dictionary\n",
    "\n"
   ]
  },
  {
   "cell_type": "code",
   "execution_count": 18,
   "metadata": {},
   "outputs": [
    {
     "data": {
      "text/plain": [
       "{'dissect,cystic_plate': '1',\n",
       " 'dissect,gallbladder': '2',\n",
       " 'dissect,omentum': '3',\n",
       " 'grasp,cystic_artery': '4',\n",
       " 'grasp,cystic_duct': '5',\n",
       " 'grasp,cystic_pedicle': '6',\n",
       " 'grasp,cystic_plate': '7',\n",
       " 'grasp,gallbladder': '8',\n",
       " 'grasp,gut': '9',\n",
       " 'grasp,liver': '10',\n",
       " 'grasp,omentum': '11',\n",
       " 'grasp,peritoneum': '12',\n",
       " 'grasp,specimen_bag': '13',\n",
       " 'pack,gallbladder': '14',\n",
       " 'retract,cystic_duct': '15',\n",
       " 'retract,cystic_pedicle': '16',\n",
       " 'retract,cystic_plate': '17',\n",
       " 'retract,gallbladder': '18',\n",
       " 'retract,gut': '19',\n",
       " 'retract,liver': '20',\n",
       " 'retract,omentum': '21',\n",
       " 'retract,peritoneum': '22',\n",
       " 'coagulate,abdominal_wall_cavity': '23',\n",
       " 'coagulate,blood_vessel': '24',\n",
       " 'coagulate,cystic_artery': '25',\n",
       " 'coagulate,cystic_duct': '26',\n",
       " 'coagulate,cystic_pedicle': '27',\n",
       " 'coagulate,cystic_plate': '28',\n",
       " 'coagulate,gallbladder': '29',\n",
       " 'coagulate,liver': '30',\n",
       " 'coagulate,omentum': '31',\n",
       " 'coagulate,peritoneum': '32',\n",
       " 'dissect,adhesion': '33',\n",
       " 'dissect,cystic_artery': '34',\n",
       " 'dissect,cystic_duct': '35',\n",
       " 'cut,blood_vessel': '36',\n",
       " 'cut,peritoneum': '37',\n",
       " 'dissect,blood_vessel': '38',\n",
       " 'dissect,peritoneum': '39',\n",
       " 'cut,adhesion': '40',\n",
       " 'cut,cystic_artery': '41',\n",
       " 'cut,cystic_duct': '42',\n",
       " 'cut,cystic_plate': '43',\n",
       " 'cut,liver': '44',\n",
       " 'cut,omentum': '45',\n",
       " 'clip,blood_vessel': '46',\n",
       " 'clip,cystic_artery': '47',\n",
       " 'clip,cystic_duct': '48',\n",
       " 'clip,cystic_pedicle': '49',\n",
       " 'clip,cystic_plate': '50',\n",
       " 'aspirate,fluid': '51',\n",
       " 'dissect,cystic_pedicle': '52',\n",
       " 'irrigate,abdominal_wall_cavity': '53',\n",
       " 'irrigate,cystic_pedicle': '54',\n",
       " 'irrigate,liver': '55',\n",
       " 'null_verb,null_target': '56'}"
      ]
     },
     "execution_count": 18,
     "metadata": {},
     "output_type": "execute_result"
    }
   ],
   "source": [
    "verb_target_mapping"
   ]
  },
  {
   "cell_type": "code",
   "execution_count": null,
   "metadata": {},
   "outputs": [],
   "source": []
  }
 ],
 "metadata": {
  "kernelspec": {
   "display_name": ".tripletsegmentation",
   "language": "python",
   "name": "python3"
  },
  "language_info": {
   "codemirror_mode": {
    "name": "ipython",
    "version": 3
   },
   "file_extension": ".py",
   "mimetype": "text/x-python",
   "name": "python",
   "nbconvert_exporter": "python",
   "pygments_lexer": "ipython3",
   "version": "3.12.1"
  }
 },
 "nbformat": 4,
 "nbformat_minor": 2
}
