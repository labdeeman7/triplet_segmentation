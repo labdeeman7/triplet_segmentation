{
 "cells": [
  {
   "cell_type": "code",
   "execution_count": 1,
   "metadata": {},
   "outputs": [],
   "source": [
    "%load_ext autoreload\n",
    "%autoreload 2\n",
    "\n",
    "import sys\n",
    "sys.path.append('..')"
   ]
  },
  {
   "cell_type": "code",
   "execution_count": 2,
   "metadata": {},
   "outputs": [],
   "source": [
    "import pickle\n",
    "\n",
    "pickle_file_path = '../results/tiny_results_mask2former_multihead/mask2former_multihead_test_results_tiny.pkl'\n",
    "with open(pickle_file_path, 'rb') as file:\n",
    "        # Load the object from the file\n",
    "        mmdet_results = pickle.load(file)"
   ]
  },
  {
   "cell_type": "code",
   "execution_count": 9,
   "metadata": {},
   "outputs": [
    {
     "data": {
      "text/plain": [
       "tensor([3.3349e-04, 1.3957e-03, 7.5824e-04, 5.3304e-04, 3.7681e-04, 3.7693e-04,\n",
       "        6.6856e-04, 1.9466e-04, 3.0519e-04, 3.8102e-04, 2.5340e-04, 2.4021e-04,\n",
       "        4.6853e-04, 3.3285e-04, 2.9083e-04, 1.9072e-04, 4.5101e-04, 1.8649e-04,\n",
       "        4.6084e-04, 6.7622e-04, 6.7489e-04, 2.8685e-04, 2.0089e-04, 3.7424e-04,\n",
       "        2.7360e-04, 5.0487e-04, 2.3742e-04, 4.4827e-04, 7.5039e-04, 6.2860e-04,\n",
       "        2.5595e-04, 2.7828e-04, 3.8304e-04, 3.6834e-04, 2.7883e-04, 1.3125e-03,\n",
       "        2.2851e-04, 5.0507e-04, 2.1525e-04, 2.8798e-04, 3.1332e-04, 2.4994e-04,\n",
       "        3.6492e-04, 2.8002e-04, 8.5736e-04, 2.9275e-04, 2.9120e-04, 4.5809e-04,\n",
       "        6.3304e-04, 2.5460e-04, 0.0000e+00, 4.7310e-04, 3.1592e-04, 1.1791e-03,\n",
       "        4.3837e-04, 2.8039e-04, 5.1411e-04, 2.4771e-04, 3.4796e-04, 6.0089e-04,\n",
       "        2.7826e-04, 2.7482e-04, 1.8857e-03, 2.0266e-04, 2.6593e-01, 1.8301e-03,\n",
       "        3.8292e-03, 4.9014e-04, 1.9383e-04, 2.6087e-04, 2.7427e-04, 3.3151e-04,\n",
       "        5.0699e-04, 4.9610e-04, 8.9059e-04, 5.1824e-04, 3.1555e-04, 2.6741e-04,\n",
       "        5.8702e-04, 6.4060e-04, 2.3468e-04, 7.0099e-04, 1.4302e-03, 9.7459e-04,\n",
       "        4.2187e-04, 2.2095e-04, 2.0874e-04, 2.8904e-04, 3.2495e-04, 2.6177e-04,\n",
       "        3.3484e-04, 2.9607e-04, 3.1567e-04, 2.3964e-04, 4.8099e-04, 3.4453e-04,\n",
       "        2.9445e-04, 4.3141e-03, 3.3695e-04, 1.7148e-04])"
      ]
     },
     "execution_count": 9,
     "metadata": {},
     "output_type": "execute_result"
    }
   ],
   "source": [
    "mmdet_results[0]['pred_instances']['scores']"
   ]
  },
  {
   "cell_type": "code",
   "execution_count": 6,
   "metadata": {},
   "outputs": [],
   "source": [
    "from utils.convert_result_from_mmdet.convert_pkl_to_labelme import convert_pickle_to_labelme_json"
   ]
  },
  {
   "cell_type": "code",
   "execution_count": 7,
   "metadata": {},
   "outputs": [],
   "source": [
    "save_ann_dir = '../results/tiny_results_mask2former_multihead/mask2former_multihead_test_results_tiny_results'\n",
    "pickle_file_path = '../results/tiny_results_mask2former_multihead/mask2former_multihead_test_results_tiny.pkl'\n",
    "class_threshold = 0.5"
   ]
  },
  {
   "cell_type": "code",
   "execution_count": null,
   "metadata": {},
   "outputs": [],
   "source": [
    "convert_pickle_to_labelme_json(save_ann_dir=save_ann_dir,\n",
    "                                pickle_file_path=pickle_file_path, \n",
    "                                class_threshold=class_threshold)"
   ]
  },
  {
   "cell_type": "code",
   "execution_count": null,
   "metadata": {},
   "outputs": [],
   "source": []
  }
 ],
 "metadata": {
  "kernelspec": {
   "display_name": ".tripletsegmentation",
   "language": "python",
   "name": "python3"
  },
  "language_info": {
   "codemirror_mode": {
    "name": "ipython",
    "version": 3
   },
   "file_extension": ".py",
   "mimetype": "text/x-python",
   "name": "python",
   "nbconvert_exporter": "python",
   "pygments_lexer": "ipython3",
   "version": "3.12.1"
  }
 },
 "nbformat": 4,
 "nbformat_minor": 2
}
