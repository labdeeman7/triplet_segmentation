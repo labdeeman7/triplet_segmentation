{
 "cells": [
  {
   "cell_type": "code",
   "execution_count": 1,
   "metadata": {},
   "outputs": [],
   "source": [
    "%load_ext autoreload\n",
    "%autoreload 2\n",
    "\n",
    "import sys\n",
    "sys.path.append('..')"
   ]
  },
  {
   "cell_type": "markdown",
   "metadata": {},
   "source": [
    "The main aim here is to get confusion metrics and also figure out why each prediction is wrong"
   ]
  },
  {
   "cell_type": "markdown",
   "metadata": {},
   "source": [
    "## Get accuracy metrics"
   ]
  },
  {
   "cell_type": "code",
   "execution_count": 2,
   "metadata": {},
   "outputs": [],
   "source": [
    "# single stage combined\n",
    "# pred_ann_dir = f'../resnet_model/work_dirs/singletask_resnet_fpn_for_verb_and_target_best/combine_first_and_second_stage_results' \n",
    "# gt_ann_dir = f'../data/triplet_segmentation_dataset_v2_second_stage/test/ann_dir'\n",
    "       \n",
    "pred_ann_dir = f'../resnet_model/work_dirs/singletask_resnet_fpn_verb_and_target_parallel_fc_predict_on_train/combine_first_and_second_stage_results' \n",
    "gt_ann_dir = f'../data/triplet_segmentation_dataset_v2_second_stage/train/ann_dir'       "
   ]
  },
  {
   "cell_type": "code",
   "execution_count": 3,
   "metadata": {},
   "outputs": [],
   "source": [
    "from utils.general.dataset_variables import TripletSegmentationVariables\n",
    "\n",
    "VERB_ID_TO_CLASS_DICT = TripletSegmentationVariables.categories['verb']\n",
    "TARGET_ID_TO_CLASS_DICT = TripletSegmentationVariables.categories['target']\n",
    "INSTRUMENT_ID_TO_CLASS_DICT = TripletSegmentationVariables.categories['instrument']\n",
    "\n",
    "possible_verbs = list(VERB_ID_TO_CLASS_DICT.values())\n",
    "possible_targets = list(TARGET_ID_TO_CLASS_DICT.values())\n",
    "possible_instruments = list(INSTRUMENT_ID_TO_CLASS_DICT.values())"
   ]
  },
  {
   "cell_type": "code",
   "execution_count": 4,
   "metadata": {},
   "outputs": [],
   "source": [
    "import os\n",
    "import json\n",
    "from statistics import mean\n",
    "\n",
    "def load_annotations(folder):\n",
    "    \"\"\"Load annotations from a folder of JSON files.\"\"\"\n",
    "    annotations = {}\n",
    "    for file_name in os.listdir(folder):\n",
    "        if file_name.endswith('.json'):\n",
    "            with open(os.path.join(folder, file_name), 'r') as f:\n",
    "                data = json.load(f)\n",
    "                annotations[file_name] = data\n",
    "    return annotations\n",
    "\n",
    "def calculate_accuracy(ground_truth_folder, prediction_folder, task, possible_classes):\n",
    "    \"\"\"Calculate accuracy for possible classes.\"\"\"\n",
    "    ground_truth = load_annotations(ground_truth_folder)\n",
    "    predictions = load_annotations(prediction_folder)\n",
    "    \n",
    "    assert task in ['instrument', 'verb', 'target']\n",
    "    if task == 'instrument':\n",
    "        task = 'label' # annotations called labels in annotation format\n",
    "\n",
    "    total_per_class = {class_name: 0 for class_name in  possible_classes }\n",
    "    correct_per_class = {class_name: 0 for class_name in  possible_classes }    \n",
    "    false_positives_per_class = {class_name: 0 for class_name in  possible_classes }\n",
    "    false_negatives_per_class = {class_name: 0 for class_name in  possible_classes }\n",
    "    \n",
    "    missed_files = []\n",
    "\n",
    "    for file_name, gt_data in ground_truth.items():\n",
    "        if file_name not in predictions:\n",
    "            missed_files.append(file_name)\n",
    "            continue\n",
    "        \n",
    "        # i am okay with the overwritting of contours, as it essentially we just need to count one.     \n",
    "        gt_shapes = { (shape['label'],shape['group_id']): shape for shape in gt_data.get('shapes', [])} \n",
    "        pred_shapes = {(shape['label'],shape['group_id']): shape for shape in predictions[file_name].get('shapes', [])}\n",
    "        \n",
    "        found_gt_keys = []\n",
    "\n",
    "        for gt_key, gt_shape in gt_shapes.items(): \n",
    "            \n",
    "            gt_class_name = gt_shape[task]\n",
    "            \n",
    "            total_per_class[gt_class_name] += 1 \n",
    "\n",
    "            found_pred_key = None\n",
    "            \n",
    "            for pred_key, pred_shape in pred_shapes.items(): \n",
    "                # Calculate verb accuracy\n",
    "                pred_class_name = pred_shape.get(task)\n",
    "                if gt_class_name == pred_class_name:\n",
    "                    correct_per_class[pred_class_name] += 1\n",
    "                    found_pred_key = pred_key\n",
    "                    found_gt_keys.append(gt_key)\n",
    "                    break\n",
    "                    \n",
    "            # remove that pred prediction from possibilites        \n",
    "            if found_pred_key:\n",
    "                pred_shapes.pop(found_pred_key)\n",
    "        \n",
    "        #update the false positives from the pred. \n",
    "        for pred_key, pred_shape in pred_shapes.items(): \n",
    "            pred_class_name = pred_shape.get(task)\n",
    "            false_positives_per_class[pred_class_name] += 1\n",
    "        \n",
    "        \n",
    "        # delete the found groundtruth.\n",
    "        for found_gt_key in found_gt_keys: \n",
    "            gt_shapes.pop(found_gt_key)\n",
    "        \n",
    "         #update the false negatives from the gt. \n",
    "        for gt_key, gt_shape in gt_shapes.items(): \n",
    "            gt_class_name = gt_shape.get(task)\n",
    "            false_negatives_per_class[gt_class_name] += 1\n",
    "        \n",
    "                \n",
    "\n",
    "    accuracy = sum(correct_per_class.values()) / sum(total_per_class.values())  if sum(total_per_class.values()) > 0 else 0\n",
    "    acc_per_class = {\n",
    "        class_name: (\n",
    "            correct_per_class[class_name] / total_per_class[class_name] \n",
    "            if total_per_class[class_name] is not None and total_per_class[class_name] > 0 \n",
    "            else None\n",
    "        )\n",
    "        for class_name in possible_classes\n",
    "    }\n",
    "    mean_acc = mean(value for value in acc_per_class.values() if value is not None)\n",
    "\n",
    "    return {\n",
    "        \"accuracy\": accuracy,\n",
    "        \"mean_acc\":mean_acc,\n",
    "        \"acc_per_class\": acc_per_class,\n",
    "        \"missed_files\": missed_files,\n",
    "        \"total_per_class\": total_per_class,\n",
    "        \"correct_per_class\": correct_per_class,\n",
    "        \"false_positives_per_class\": false_positives_per_class,\n",
    "        \"false_negatives_per_class\": false_negatives_per_class\n",
    "    }\n",
    "\n"
   ]
  },
  {
   "cell_type": "code",
   "execution_count": 5,
   "metadata": {},
   "outputs": [],
   "source": [
    "task = 'target'\n",
    "if task == 'target': \n",
    "    possible_classes = possible_targets\n",
    "elif  task == 'verb': \n",
    "    possible_classes = possible_verbs  \n",
    "elif  task == 'instruments': \n",
    "    possible_classes = possible_instruments      \n",
    "else: \n",
    "    raise ValueError('there is an error in the task')     \n",
    "accuracy_results = calculate_accuracy(gt_ann_dir, pred_ann_dir, task = task, possible_classes=possible_classes)\n",
    "\n"
   ]
  },
  {
   "cell_type": "code",
   "execution_count": 6,
   "metadata": {},
   "outputs": [
    {
     "name": "stdout",
     "output_type": "stream",
     "text": [
      "accuracy: 0.6927348014304536\n",
      "mean_acc: 0.31684411826454434\n",
      "acc_per_class: {'gallbladder': 0.92703452232954, 'cystic_plate': 0.7756024096385542, 'cystic_duct': 0.5029828486204325, 'cystic_artery': 0.07065868263473053, 'cystic_pedicle': 0.017241379310344827, 'blood_vessel': 0.14953271028037382, 'fluid': 0.8939393939393939, 'abdominal_wall_cavity': 0.049079754601226995, 'liver': 0.7937823834196891, 'adhesion': 0.12987012987012986, 'omentum': 0.09149130832570906, 'peritoneum': 0.0, 'gut': 0.0, 'specimen_bag': 0.266304347826087, 'null_target': 0.08514190317195326}\n",
      "Missed Files: []\n",
      "total_per_class: {'gallbladder': 10457, 'cystic_plate': 664, 'cystic_duct': 2682, 'cystic_artery': 835, 'cystic_pedicle': 58, 'blood_vessel': 107, 'fluid': 528, 'abdominal_wall_cavity': 163, 'liver': 2895, 'adhesion': 77, 'omentum': 1093, 'peritoneum': 50, 'gut': 77, 'specimen_bag': 368, 'null_target': 1198}\n",
      "correct_per_class: {'gallbladder': 9694, 'cystic_plate': 515, 'cystic_duct': 1349, 'cystic_artery': 59, 'cystic_pedicle': 1, 'blood_vessel': 16, 'fluid': 472, 'abdominal_wall_cavity': 8, 'liver': 2298, 'adhesion': 10, 'omentum': 100, 'peritoneum': 0, 'gut': 0, 'specimen_bag': 98, 'null_target': 102}\n",
      "false_positives_per_class: {'gallbladder': 2891, 'cystic_plate': 1891, 'cystic_duct': 505, 'cystic_artery': 13, 'cystic_pedicle': 18, 'blood_vessel': 6, 'fluid': 255, 'abdominal_wall_cavity': 10, 'liver': 808, 'adhesion': 1, 'omentum': 24, 'peritoneum': 1, 'gut': 0, 'specimen_bag': 16, 'null_target': 91}\n",
      "false_negatives_per_class: {'gallbladder': 763, 'cystic_plate': 149, 'cystic_duct': 1333, 'cystic_artery': 776, 'cystic_pedicle': 57, 'blood_vessel': 91, 'fluid': 56, 'abdominal_wall_cavity': 155, 'liver': 597, 'adhesion': 67, 'omentum': 993, 'peritoneum': 50, 'gut': 77, 'specimen_bag': 270, 'null_target': 1096}\n"
     ]
    }
   ],
   "source": [
    "\n",
    "print(\"accuracy:\", accuracy_results[\"accuracy\"])\n",
    "print(\"mean_acc:\", accuracy_results[\"mean_acc\"])\n",
    "print(\"acc_per_class:\", accuracy_results[\"acc_per_class\"])\n",
    "print(\"Missed Files:\", accuracy_results[\"missed_files\"])\n",
    "print(\"total_per_class:\", accuracy_results[\"total_per_class\"])\n",
    "print(\"correct_per_class:\", accuracy_results[\"correct_per_class\"])\n",
    "print(\"false_positives_per_class:\", accuracy_results[\"false_positives_per_class\"])\n",
    "print(\"false_negatives_per_class:\", accuracy_results[\"false_negatives_per_class\"])"
   ]
  },
  {
   "cell_type": "code",
   "execution_count": 7,
   "metadata": {},
   "outputs": [],
   "source": [
    "total_per_class = accuracy_results['total_per_class']\n",
    "correct_per_class = accuracy_results['correct_per_class']\n"
   ]
  },
  {
   "cell_type": "code",
   "execution_count": 8,
   "metadata": {},
   "outputs": [
    {
     "data": {
      "text/plain": [
       "{'gallbladder': 0.92703452232954,\n",
       " 'cystic_plate': 0.7756024096385542,\n",
       " 'cystic_duct': 0.5029828486204325,\n",
       " 'cystic_artery': 0.07065868263473053,\n",
       " 'cystic_pedicle': 0.017241379310344827,\n",
       " 'blood_vessel': 0.14953271028037382,\n",
       " 'fluid': 0.8939393939393939,\n",
       " 'abdominal_wall_cavity': 0.049079754601226995,\n",
       " 'liver': 0.7937823834196891,\n",
       " 'adhesion': 0.12987012987012986,\n",
       " 'omentum': 0.09149130832570906,\n",
       " 'peritoneum': 0.0,\n",
       " 'gut': 0.0,\n",
       " 'specimen_bag': 0.266304347826087,\n",
       " 'null_target': 0.08514190317195326}"
      ]
     },
     "execution_count": 8,
     "metadata": {},
     "output_type": "execute_result"
    }
   ],
   "source": [
    "acc_per_class = {\n",
    "    class_name: (\n",
    "        correct_per_class[class_name] / total_per_class[class_name] \n",
    "        if total_per_class[class_name] is not None and total_per_class[class_name] > 0 \n",
    "        else None\n",
    "    )\n",
    "    for class_name in possible_targets\n",
    "}\n",
    "acc_per_class"
   ]
  },
  {
   "cell_type": "code",
   "execution_count": null,
   "metadata": {},
   "outputs": [],
   "source": []
  }
 ],
 "metadata": {
  "kernelspec": {
   "display_name": ".tripletsegmentation",
   "language": "python",
   "name": "python3"
  },
  "language_info": {
   "codemirror_mode": {
    "name": "ipython",
    "version": 3
   },
   "file_extension": ".py",
   "mimetype": "text/x-python",
   "name": "python",
   "nbconvert_exporter": "python",
   "pygments_lexer": "ipython3",
   "version": "3.12.1"
  }
 },
 "nbformat": 4,
 "nbformat_minor": 2
}
