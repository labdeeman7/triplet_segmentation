{
 "cells": [
  {
   "cell_type": "code",
   "execution_count": 1,
   "metadata": {},
   "outputs": [],
   "source": [
    "%load_ext autoreload\n",
    "%autoreload 2\n",
    "\n",
    "import sys\n",
    "sys.path.append('..')"
   ]
  },
  {
   "cell_type": "code",
   "execution_count": 54,
   "metadata": {},
   "outputs": [],
   "source": [
    "from ivtmetrics.ivtmetrics import Detection as ivtmetricsDetection\n",
    "from utils.ivt_metrics_utils.ivt_metrics_utils import run_ivt_metric_object_for_folder"
   ]
  },
  {
   "cell_type": "markdown",
   "metadata": {},
   "source": [
    "## Get IVT metrics"
   ]
  },
  {
   "cell_type": "code",
   "execution_count": 59,
   "metadata": {},
   "outputs": [
    {
     "name": "stdout",
     "output_type": "stream",
     "text": [
      "currently on 0, t50_VID49_000000.json\n",
      "currently on 1, t50_VID49_000030.json\n",
      "currently on 2, t50_VID49_000060.json\n",
      "currently on 3, t50_VID49_000120.json\n",
      "currently on 4, t50_VID49_000150.json\n",
      "currently on 5, t50_VID49_000180.json\n",
      "currently on 6, t50_VID49_000240.json\n",
      "currently on 7, t50_VID49_000270.json\n",
      "currently on 8, t50_VID49_000300.json\n",
      "currently on 9, t50_VID49_000360.json\n",
      "currently on 10, t50_VID49_000390.json\n",
      "currently on 11, t50_VID49_000420.json\n",
      "currently on 12, t50_VID49_000480.json\n",
      "currently on 13, t50_VID49_000510.json\n",
      "currently on 14, t50_VID49_000540.json\n",
      "currently on 15, t50_VID49_000570.json\n",
      "currently on 16, t50_VID49_000600.json\n",
      "currently on 17, t50_VID49_000630.json\n",
      "currently on 18, t50_VID49_000660.json\n",
      "currently on 19, t50_VID49_000690.json\n",
      "currently on 20, t50_VID49_000720.json\n",
      "currently on 21, t50_VID49_000750.json\n",
      "currently on 22, t50_VID49_000780.json\n",
      "currently on 23, t50_VID49_000810.json\n",
      "currently on 24, t50_VID49_000840.json\n",
      "currently on 25, t50_VID49_000870.json\n",
      "currently on 26, t50_VID49_000930.json\n",
      "currently on 27, t50_VID49_000960.json\n",
      "currently on 28, t50_VID49_000990.json\n",
      "currently on 29, t50_VID49_001020.json\n",
      "currently on 30, t50_VID49_001050.json\n",
      "currently on 31, t50_VID49_001080.json\n",
      "currently on 32, t50_VID49_001110.json\n",
      "currently on 33, t50_VID49_001290.json\n",
      "currently on 34, t50_VID49_001320.json\n",
      "currently on 35, t50_VID49_001350.json\n",
      "currently on 36, t50_VID49_001380.json\n",
      "currently on 37, t50_VID49_001440.json\n",
      "currently on 38, t50_VID49_001470.json\n",
      "currently on 39, t50_VID49_001500.json\n",
      "currently on 40, t50_VID49_001530.json\n",
      "currently on 41, t50_VID49_001560.json\n",
      "currently on 42, t50_VID49_001590.json\n",
      "currently on 43, t50_VID49_001620.json\n"
     ]
    }
   ],
   "source": [
    "ivt_metric_object = ivtmetricsDetection(num_class=100)\n",
    "\n",
    "pred_ann_dir = f'../results/tiny_results_mask2former_multihead/mask2former_multihead_test_results_tiny_results' \n",
    "gt_ann_dir = f'../data/triplet_segmentation_dataset_tiny/test/ann_dir'\n",
    "\n",
    "run_ivt_metric_object_for_folder(ivt_metric_object=ivt_metric_object,\n",
    "                                 pred_ann_dir=pred_ann_dir,\n",
    "                                 gt_ann_dir=gt_ann_dir)\n",
    "\n",
    "\n",
    "       "
   ]
  },
  {
   "cell_type": "code",
   "execution_count": 60,
   "metadata": {},
   "outputs": [],
   "source": [
    "results_i = ivt_metric_object.compute_video_AP('i')\n",
    "results_iv = ivt_metric_object.compute_video_AP('iv')\n",
    "results_ivt = ivt_metric_object.compute_video_AP('ivt')"
   ]
  },
  {
   "cell_type": "code",
   "execution_count": 65,
   "metadata": {},
   "outputs": [
    {
     "data": {
      "text/plain": [
       "{'AP': array([       nan,        nan,        nan,        nan,        nan,\n",
       "               nan,        nan, 0.        ,        nan,        nan,\n",
       "               nan,        nan, 0.        ,        nan,        nan,\n",
       "               nan,        nan, 0.        ,        nan, 0.18181818,\n",
       "               nan,        nan, 0.        ,        nan,        nan,\n",
       "               nan,        nan,        nan, 0.        , 0.        ,\n",
       "               nan,        nan,        nan,        nan,        nan,\n",
       "               nan,        nan,        nan,        nan,        nan,\n",
       "        0.        ,        nan,        nan,        nan,        nan,\n",
       "        0.        ,        nan,        nan,        nan,        nan,\n",
       "               nan,        nan, 0.        ,        nan,        nan,\n",
       "               nan,        nan,        nan, 0.        ,        nan,\n",
       "        0.        ,        nan,        nan, 0.        ,        nan,\n",
       "               nan,        nan,        nan,        nan,        nan,\n",
       "               nan,        nan,        nan,        nan,        nan,\n",
       "               nan,        nan,        nan, 0.        ,        nan,\n",
       "               nan,        nan, 0.        ,        nan,        nan,\n",
       "               nan,        nan,        nan, 0.        ,        nan,\n",
       "               nan,        nan, 0.        ,        nan, 0.        ,\n",
       "        0.        , 0.        ,        nan, 0.        ,        nan]),\n",
       " 'mAP': 0.008658008658008658,\n",
       " 'Rec': array([       nan,        nan,        nan,        nan,        nan,\n",
       "               nan,        nan, 0.        ,        nan,        nan,\n",
       "               nan,        nan, 0.        ,        nan,        nan,\n",
       "               nan,        nan, 0.        ,        nan, 0.11111111,\n",
       "               nan,        nan, 0.        ,        nan,        nan,\n",
       "               nan,        nan,        nan, 0.        , 0.        ,\n",
       "               nan,        nan,        nan,        nan,        nan,\n",
       "               nan,        nan,        nan,        nan,        nan,\n",
       "        0.        ,        nan,        nan,        nan,        nan,\n",
       "        0.        ,        nan,        nan,        nan,        nan,\n",
       "               nan,        nan, 0.        ,        nan,        nan,\n",
       "               nan,        nan,        nan, 0.        ,        nan,\n",
       "        0.        ,        nan,        nan, 0.        ,        nan,\n",
       "               nan,        nan,        nan,        nan,        nan,\n",
       "               nan,        nan,        nan,        nan,        nan,\n",
       "               nan,        nan,        nan, 0.        ,        nan,\n",
       "               nan,        nan, 0.        ,        nan,        nan,\n",
       "               nan,        nan,        nan, 0.        ,        nan,\n",
       "               nan,        nan, 0.        ,        nan, 0.        ,\n",
       "        0.        , 0.        ,        nan, 0.        ,        nan]),\n",
       " 'mRec': 0.005291005291005291,\n",
       " 'Pre': array([nan, nan, nan, nan, nan, nan, nan,  0., nan, nan, nan, nan,  0.,\n",
       "        nan, nan, nan, nan,  0., nan,  1., nan, nan,  0., nan, nan, nan,\n",
       "        nan, nan,  0.,  0., nan, nan, nan, nan, nan, nan, nan, nan, nan,\n",
       "        nan,  0., nan, nan, nan, nan,  0., nan, nan, nan, nan, nan, nan,\n",
       "         0., nan, nan, nan, nan, nan,  0., nan,  0., nan, nan,  0., nan,\n",
       "        nan, nan, nan, nan, nan, nan, nan, nan, nan, nan, nan, nan, nan,\n",
       "         0., nan, nan, nan,  0., nan, nan, nan, nan, nan,  0., nan, nan,\n",
       "        nan,  0., nan,  0.,  0.,  0., nan,  0., nan]),\n",
       " 'mPre': 0.047619047619047616,\n",
       " 'lm': 0.017241379310344827,\n",
       " 'plm': 0.0,\n",
       " 'ids': 0.0,\n",
       " 'idm': 0.0,\n",
       " 'mil': 0.0,\n",
       " 'fp': 0.017241379310344827,\n",
       " 'fn': 0.9655172413793104}"
      ]
     },
     "execution_count": 65,
     "metadata": {},
     "output_type": "execute_result"
    }
   ],
   "source": [
    "results_ivt"
   ]
  },
  {
   "cell_type": "code",
   "execution_count": null,
   "metadata": {},
   "outputs": [],
   "source": []
  }
 ],
 "metadata": {
  "kernelspec": {
   "display_name": ".tripletsegmentation",
   "language": "python",
   "name": "python3"
  },
  "language_info": {
   "codemirror_mode": {
    "name": "ipython",
    "version": 3
   },
   "file_extension": ".py",
   "mimetype": "text/x-python",
   "name": "python",
   "nbconvert_exporter": "python",
   "pygments_lexer": "ipython3",
   "version": "3.12.1"
  }
 },
 "nbformat": 4,
 "nbformat_minor": 2
}
