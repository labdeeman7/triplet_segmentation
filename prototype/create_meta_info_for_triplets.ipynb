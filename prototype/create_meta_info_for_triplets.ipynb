{
 "cells": [
  {
   "cell_type": "code",
   "execution_count": 1,
   "metadata": {},
   "outputs": [],
   "source": [
    "%load_ext autoreload\n",
    "%autoreload 2"
   ]
  },
  {
   "cell_type": "code",
   "execution_count": 2,
   "metadata": {},
   "outputs": [],
   "source": [
    "import sys\n",
    "sys.path.append('../')"
   ]
  },
  {
   "cell_type": "code",
   "execution_count": 3,
   "metadata": {},
   "outputs": [],
   "source": [
    "import random\n",
    "from utils.general.dataset_variables import TripletSegmentationVariables\n",
    "from utils.general.save_files import save_to_json\n",
    "\n",
    "custom_classes = TripletSegmentationVariables.categories['triplet']"
   ]
  },
  {
   "cell_type": "code",
   "execution_count": 9,
   "metadata": {},
   "outputs": [],
   "source": [
    "# # Redefining the generate_unique_colors function\n",
    "# def generate_unique_colors(num_colors):\n",
    "#     \"\"\"\n",
    "#     Generate `num_colors` unique RGB colors.\n",
    "#     \"\"\"\n",
    "#     used_colors = set()\n",
    "#     unique_colors = []\n",
    "    \n",
    "#     while len(unique_colors) < num_colors:\n",
    "#         color = tuple(random.randint(0, 255) for _ in range(3))\n",
    "#         if color not in used_colors:\n",
    "#             unique_colors.append(color)\n",
    "#             used_colors.add(color)\n",
    "    \n",
    "#     return unique_colors\n",
    "\n",
    "# # Generate unique colors for the 100 classes\n",
    "# unique_palette = generate_unique_colors(len(custom_classes))\n",
    "\n",
    "# # Create the complete metainfo with unique colors\n",
    "# complete_metainfo_unique_colors = {\n",
    "#     'classes': tuple(custom_classes.values()),\n",
    "#     'palette': unique_palette\n",
    "# }"
   ]
  },
  {
   "cell_type": "code",
   "execution_count": 10,
   "metadata": {},
   "outputs": [],
   "source": [
    "# len(complete_metainfo_unique_colors['palette'])"
   ]
  },
  {
   "cell_type": "code",
   "execution_count": 11,
   "metadata": {},
   "outputs": [],
   "source": [
    "metainfo = {\n",
    "    'classes': ('grasper,dissect,cystic_plate','grasper,dissect,gallbladder','grasper,dissect,omentum', 'grasper,grasp,cystic_artery',\n",
    "                 'grasper,grasp,cystic_duct','grasper,grasp,cystic_pedicle','grasper,grasp,cystic_plate','grasper,grasp,gallbladder',\n",
    "                 'grasper,grasp,gut','grasper,grasp,liver','grasper,grasp,omentum','grasper,grasp,peritoneum','grasper,grasp,specimen_bag',\n",
    "                 'grasper,pack,gallbladder','grasper,retract,cystic_duct','grasper,retract,cystic_pedicle','grasper,retract,cystic_plate',\n",
    "                 'grasper,retract,gallbladder','grasper,retract,gut','grasper,retract,liver','grasper,retract,omentum','grasper,retract,peritoneum',\n",
    "                 'bipolar,coagulate,abdominal_wall_cavity','bipolar,coagulate,blood_vessel','bipolar,coagulate,cystic_artery',\n",
    "                 'bipolar,coagulate,cystic_duct','bipolar,coagulate,cystic_pedicle','bipolar,coagulate,cystic_plate','bipolar,coagulate,gallbladder',\n",
    "                 'bipolar,coagulate,liver','bipolar,coagulate,omentum','bipolar,coagulate,peritoneum','bipolar,dissect,adhesion',\n",
    "                 'bipolar,dissect,cystic_artery','bipolar,dissect,cystic_duct','bipolar,dissect,cystic_plate','bipolar,dissect,gallbladder',\n",
    "                 'bipolar,dissect,omentum','bipolar,grasp,cystic_plate','bipolar,grasp,liver','bipolar,grasp,specimen_bag',\n",
    "                 'bipolar,retract,cystic_duct','bipolar,retract,cystic_pedicle','bipolar,retract,gallbladder','bipolar,retract,liver',\n",
    "                 'bipolar,retract,omentum','hook,coagulate,blood_vessel','hook,coagulate,cystic_artery','hook,coagulate,cystic_duct',\n",
    "                 'hook,coagulate,cystic_pedicle','hook,coagulate,cystic_plate','hook,coagulate,gallbladder','hook,coagulate,liver',\n",
    "                 'hook,coagulate,omentum','hook,cut,blood_vessel','hook,cut,peritoneum','hook,dissect,blood_vessel','hook,dissect,cystic_artery',\n",
    "                 'hook,dissect,cystic_duct','hook,dissect,cystic_plate','hook,dissect,gallbladder','hook,dissect,omentum','hook,dissect,peritoneum',\n",
    "                 'hook,retract,gallbladder','hook,retract,liver','scissors,coagulate,omentum','scissors,cut,adhesion','scissors,cut,blood_vessel',\n",
    "                 'scissors,cut,cystic_artery','scissors,cut,cystic_duct','scissors,cut,cystic_plate','scissors,cut,liver','scissors,cut,omentum',\n",
    "                 'scissors,cut,peritoneum','scissors,dissect,cystic_plate','scissors,dissect,gallbladder','scissors,dissect,omentum',\n",
    "                 'clipper,clip,blood_vessel','clipper,clip,cystic_artery','clipper,clip,cystic_duct','clipper,clip,cystic_pedicle',\n",
    "                 'clipper,clip,cystic_plate','irrigator,aspirate,fluid','irrigator,dissect,cystic_duct','irrigator,dissect,cystic_pedicle',\n",
    "                 'irrigator,dissect,cystic_plate','irrigator,dissect,gallbladder','irrigator,dissect,omentum','irrigator,irrigate,abdominal_wall_cavity',\n",
    "                 'irrigator,irrigate,cystic_pedicle','irrigator,irrigate,liver','irrigator,retract,gallbladder','irrigator,retract,liver',\n",
    "                 'irrigator,retract,omentum','grasper,null_verb,null_target','bipolar,null_verb,null_target','hook,null_verb,null_target',\n",
    "                 'scissors,null_verb,null_target','clipper,null_verb,null_target','irrigator,null_verb,null_target'),\n",
    "    'palette': [(212, 22, 163),(179, 182, 172),(144, 126, 102),(125, 16, 71),(56, 10, 139),(195, 250, 69),(125, 210, 174),(92, 250, 80),\n",
    "                (247, 58, 43),(43, 249, 73),(198, 145, 156),(29, 113, 147),(40, 15, 5),(7, 84, 16),(26, 8, 63),(167, 122, 165),(81, 190, 80),\n",
    "                (196, 216, 202),(30, 25, 142),(228, 146, 77),(145, 167, 116),(6, 35, 82),(148, 197, 63),(140, 183, 6),(183, 116, 72),\n",
    "                (58, 16, 11),(124, 79, 58),(146, 131, 85),(139, 75, 84),(173, 70, 182),(9, 176, 196),(121, 149, 195),(121, 104, 246),\n",
    "                (15, 218, 96),(226, 49, 69),(6, 214, 227),(87, 13, 135),(131, 151, 48),(233, 218, 250),(118, 198, 41),(12, 28, 46),\n",
    "                (21, 212, 12),(164, 198, 246),(150, 108, 18),(139, 8, 224),(236, 151, 201),(233, 194, 49),(130, 230, 240),(213, 105, 73),\n",
    "                (67, 103, 91),(24, 234, 197),(28, 114, 86),(44, 146, 23),(155, 254, 152),(132, 210, 250),(201, 132, 212),(65, 223, 3),\n",
    "                (69, 60, 78),(82, 188, 153),(186, 201, 184),(182, 72, 84),(5, 247, 190),(45, 53, 250),(45, 207, 101),(238, 183, 228),\n",
    "                (216, 144, 61),(41, 140, 8),(18, 238, 213),(53, 184, 42),(162, 221, 190),(230, 250, 146),(74, 238, 65),(26, 240, 64),\n",
    "                (71, 120, 74),(54, 41, 29),(56, 214, 57),(103, 194, 174),(30, 0, 222),(131, 127, 45),(68, 211, 102),(230, 123, 152),\n",
    "                (44, 16, 107),(73, 244, 71),(190, 72, 84),(190, 26, 20),(72, 235, 201),(140, 153, 130),(11, 2, 157),(75, 169, 107),\n",
    "                (169, 125, 33),(76, 5, 86),(6, 222, 250),(97, 184, 14),(246, 57, 84),(33, 172, 93),(48, 151, 201),(163, 69, 144),(151, 204, 108),\n",
    "                (13, 153, 139),(42, 165, 135)]\n",
    "}\n"
   ]
  },
  {
   "cell_type": "code",
   "execution_count": 13,
   "metadata": {},
   "outputs": [
    {
     "data": {
      "text/plain": [
       "100"
      ]
     },
     "execution_count": 13,
     "metadata": {},
     "output_type": "execute_result"
    }
   ],
   "source": [
    "len(metainfo['classes'])"
   ]
  },
  {
   "cell_type": "code",
   "execution_count": null,
   "metadata": {},
   "outputs": [],
   "source": []
  },
  {
   "cell_type": "markdown",
   "metadata": {},
   "source": [
    "Gt_instances"
   ]
  },
  {
   "cell_type": "code",
   "execution_count": 1,
   "metadata": {},
   "outputs": [],
   "source": [
    "import numpy as np"
   ]
  },
  {
   "cell_type": "code",
   "execution_count": 3,
   "metadata": {},
   "outputs": [],
   "source": [
    "a = {'gt_instances': \n",
    "    {'masks': dict(num_masks=0, height=480, width=854), \n",
    "     'labels': np.array([[ 2,  9, 14],[ 0,  0,  0]],), 'bboxes': np.array([])\n",
    "     }\n",
    "}"
   ]
  },
  {
   "cell_type": "code",
   "execution_count": null,
   "metadata": {},
   "outputs": [],
   "source": [
    "gt_instances = data_sample['gt_instances']\n",
    "labels = gt_instances['labels']  # (N, 3) tensor, with instrument, verb, and target labels\n",
    "bboxes = gt_instances['bboxes']  # (N, 4) tensor\n",
    "masks = gt_instances['masks']  # BitmapMasks object\n",
    "\n",
    "# Extract only the instrument labels\n",
    "filtered_anns = []\n",
    "for i in range(len(labels)):\n",
    "    ann = {\n",
    "        'bbox': bboxes[i].cpu().numpy(),\n",
    "        'mask': masks.masks[i].cpu().numpy(),  # Convert BitmapMask to numpy\n",
    "        'category_id': labels[i][0].item()  # Take only the instrument label\n",
    "    }\n",
    "    filtered_anns.append(ann)\n",
    "\n",
    "gt['anns'] = filtered_anns\n",
    "print(f'filtered_anns: {filtered_anns}')\n"
   ]
  },
  {
   "cell_type": "markdown",
   "metadata": {},
   "source": []
  }
 ],
 "metadata": {
  "kernelspec": {
   "display_name": ".tripletsegmentation",
   "language": "python",
   "name": "python3"
  },
  "language_info": {
   "codemirror_mode": {
    "name": "ipython",
    "version": 3
   },
   "file_extension": ".py",
   "mimetype": "text/x-python",
   "name": "python",
   "nbconvert_exporter": "python",
   "pygments_lexer": "ipython3",
   "version": "3.12.1"
  }
 },
 "nbformat": 4,
 "nbformat_minor": 2
}
