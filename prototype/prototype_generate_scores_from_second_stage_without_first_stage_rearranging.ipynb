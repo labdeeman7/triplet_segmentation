{
 "cells": [
  {
   "cell_type": "markdown",
   "metadata": {},
   "source": [
    "What is the aim? The aim is to take the output of the second model\n",
    "1. Arrange it properly to form 100 dim\n",
    "    1. We need to first get the grasper. \n",
    "    2. We need to get all the instruments for that image. \n",
    "    3. A max is needed\n",
    "2. Pass it through a sigmoid activation function. \n",
    "3. Run the classification algorithm on it. "
   ]
  },
  {
   "cell_type": "markdown",
   "metadata": {},
   "source": [
    "## Logits of second model and classification results"
   ]
  },
  {
   "cell_type": "markdown",
   "metadata": {},
   "source": [
    "Assuming confidence of the first model is one at all instances, Which Is exactly what I did, then we do not even need the first stage to calculate the second stage. We can just use the logits directly. "
   ]
  },
  {
   "cell_type": "code",
   "execution_count": 1,
   "metadata": {},
   "outputs": [],
   "source": [
    "%load_ext autoreload\n",
    "%autoreload 2\n",
    "\n",
    "import sys\n",
    "sys.path.append('../')\n",
    "sys.path.append('../resnet_model')\n",
    "\n",
    "import pickle\n",
    "import os\n",
    "import numpy as np\n",
    "import json\n",
    "\n",
    "from utils.general.dataset_variables import TripletSegmentationVariables \n",
    "from utils.general.read_files import read_from_json\n",
    "from utils.general.save_files import save_to_json\n",
    "\n",
    "INSTRUMENT_ID_TO_CLASS_DICT = TripletSegmentationVariables.categories['instrument']\n",
    "INSTRUMENT_CLASS_TO_ID_DICT = {instrument_class: instrument_id for instrument_id, instrument_class in INSTRUMENT_ID_TO_CLASS_DICT.items()}\n",
    "TRIPLET_ID_TO_CLASS_DICT = TripletSegmentationVariables.categories['triplet']\n",
    "TRIPLET_NAME_TO_ID_DICT = {triplet_class: triplet_id for triplet_id, triplet_class in TRIPLET_ID_TO_CLASS_DICT.items()}\n",
    "VERBTARGET_DICT = TripletSegmentationVariables.categories['verbtarget'] \n",
    "\n",
    "INSTRUMENT_TO_VERBTARGET_CLASSES = TripletSegmentationVariables.instrument_to_verbtarget_classes\n",
    "INSTRUMENT_TO_TRIPLET_CLASSES = TripletSegmentationVariables.instrument_to_triplet_classes\n"
   ]
  },
  {
   "cell_type": "markdown",
   "metadata": {},
   "source": [
    "## My three task model. "
   ]
  },
  {
   "cell_type": "code",
   "execution_count": 2,
   "metadata": {},
   "outputs": [],
   "source": [
    "second_stage_logits_file_path = '../resnet_model/work_dirs/threetask_resnet_fpn_parallel_decoders/results_logits.json'\n",
    "second_stage_logits = read_from_json(second_stage_logits_file_path)"
   ]
  },
  {
   "cell_type": "code",
   "execution_count": 3,
   "metadata": {},
   "outputs": [],
   "source": [
    "triplet_scores = {}"
   ]
  },
  {
   "cell_type": "code",
   "execution_count": 4,
   "metadata": {},
   "outputs": [],
   "source": [
    "def sigmoid(x):\n",
    "    return 1 / (1 + np.exp(-x))"
   ]
  },
  {
   "cell_type": "code",
   "execution_count": 5,
   "metadata": {},
   "outputs": [],
   "source": [
    "def generate_sigmoid_score_for_detected_objects_from_logit(logits_for_image_name_tool_instance,  tool_id):\n",
    "    amount_of_verbtargets_for_instrument = len(INSTRUMENT_TO_VERBTARGET_CLASSES[tool_id])    \n",
    "    logits_removing_inf_used_for_computation =  logits_for_image_name_tool_instance[0:amount_of_verbtargets_for_instrument]\n",
    "    assert not np.isinf(logits_removing_inf_used_for_computation).any(), \"Infinity values were not removed correctly!\"\n",
    "    \n",
    "    # get the triplet indices\n",
    "    triplet_indices_for_logits = INSTRUMENT_TO_TRIPLET_CLASSES[tool_id]\n",
    "    # Ensure the number of logits matches the expected number of triplets\n",
    "    assert len(logits_removing_inf_used_for_computation) == len(triplet_indices_for_logits), \"Mismatch in logit length!\"\n",
    "\n",
    "    triplet_logits = np.full(100, -np.inf)\n",
    "    # triplet_logits = np.full(100, -30.0)\n",
    "\n",
    "    # Assign logits to the correct positions\n",
    "    for triplet_idx, logit in zip(triplet_indices_for_logits, logits_removing_inf_used_for_computation):\n",
    "        triplet_logits[triplet_idx] = logit  # Convert 1-based indexing to 0-based\n",
    "    \n",
    "    # print(f'when using inf triplet_logits = {triplet_logits} ')    \n",
    "    triplet_sigmoid =  sigmoid(triplet_logits)\n",
    "    \n",
    "    # print(f'when using inf triplet_sigmoid = {triplet_sigmoid} ')  \n",
    "    \n",
    "    return triplet_sigmoid\n",
    "    "
   ]
  },
  {
   "cell_type": "code",
   "execution_count": 6,
   "metadata": {},
   "outputs": [],
   "source": [
    "def get_scores_from_my_second_stage_logits(second_stage_logits_file_path):\n",
    "    \n",
    "    second_stage_logits = read_from_json(second_stage_logits_file_path)        \n",
    "    \n",
    "    triplet_sigmoid_for_all_results = {} # This way to align with the way the results come from rendezvous as wel\n",
    "    \n",
    "    for image_name_toool_instance_verb_target_name,  logit_dict in second_stage_logits.items():\n",
    "        image_name, tool_name, _ , _ , _  = image_name_toool_instance_verb_target_name.split(',')\n",
    "        image_name = image_name.replace('t50_', '')\n",
    "        tool_id = int(INSTRUMENT_CLASS_TO_ID_DICT[tool_name]) - 1\n",
    "        \n",
    "        logits_for_image_name_tool_instance = second_stage_logits[image_name_toool_instance_verb_target_name]['logits_verbtarget']\n",
    "        \n",
    "        triplet_sigmoid_for_detected_instrument_instance = generate_sigmoid_score_for_detected_objects_from_logit(logits_for_image_name_tool_instance,  tool_id)\n",
    "        \n",
    "        # Convert the ndarray to a list before adding it to the results\n",
    "        triplet_sigmoid_for_detected_instrument_instance = triplet_sigmoid_for_detected_instrument_instance\n",
    "        \n",
    "        if image_name not in triplet_sigmoid_for_all_results:\n",
    "            triplet_sigmoid_for_all_results[image_name] = {'triplet_prediction': triplet_sigmoid_for_detected_instrument_instance}  # use this format to ensure similarity with rendezvous paper. \n",
    "        else: \n",
    "            # print(f'{image_name}')\n",
    "            # Take the element-wise max and convert to list\n",
    "            triplet_sigmoid_for_all_results[image_name]['triplet_prediction'] = np.maximum(triplet_sigmoid_for_all_results[image_name]['triplet_prediction'], \n",
    "                                                                     triplet_sigmoid_for_detected_instrument_instance)  \n",
    "    \n",
    "    # convert to list        \n",
    "    for triplet_name in triplet_sigmoid_for_all_results.keys():\n",
    "        triplet_sigmoid_for_all_results[triplet_name]['triplet_prediction'] = triplet_sigmoid_for_all_results[triplet_name]['triplet_prediction'].tolist()\n",
    "        \n",
    "\n",
    "    return triplet_sigmoid_for_all_results\n",
    "    "
   ]
  },
  {
   "cell_type": "code",
   "execution_count": 7,
   "metadata": {},
   "outputs": [],
   "source": [
    "second_stage_logits_file_path = '../resnet_model/work_dirs/threetask_resnet_fpn_parallel_decoders/results_logits.json'\n",
    "triplet_sigmoid_for_all_results = get_scores_from_my_second_stage_logits(second_stage_logits_file_path)"
   ]
  },
  {
   "cell_type": "code",
   "execution_count": 8,
   "metadata": {},
   "outputs": [],
   "source": [
    "save_path_for_sigmoid_scores = '../resnet_model/work_dirs/threetask_resnet_fpn_parallel_decoders/results_triplet_sigmoid_scores.json'\n",
    "save_to_json(data=triplet_sigmoid_for_all_results,\n",
    "             json_file_path=save_path_for_sigmoid_scores)"
   ]
  },
  {
   "cell_type": "code",
   "execution_count": null,
   "metadata": {},
   "outputs": [],
   "source": []
  }
 ],
 "metadata": {
  "kernelspec": {
   "display_name": ".tripletsegmentation",
   "language": "python",
   "name": "python3"
  },
  "language_info": {
   "codemirror_mode": {
    "name": "ipython",
    "version": 3
   },
   "file_extension": ".py",
   "mimetype": "text/x-python",
   "name": "python",
   "nbconvert_exporter": "python",
   "pygments_lexer": "ipython3",
   "version": "3.12.1"
  }
 },
 "nbformat": 4,
 "nbformat_minor": 2
}
