{
 "cells": [
  {
   "cell_type": "code",
   "execution_count": 1,
   "metadata": {},
   "outputs": [],
   "source": [
    "%load_ext autoreload\n",
    "%autoreload 2\n",
    "\n",
    "import sys\n",
    "sys.path.append('../')\n",
    "sys.path.append('../resnet_model')"
   ]
  },
  {
   "cell_type": "code",
   "execution_count": 9,
   "metadata": {},
   "outputs": [],
   "source": [
    "import importlib\n",
    "import types"
   ]
  },
  {
   "cell_type": "code",
   "execution_count": 3,
   "metadata": {},
   "outputs": [],
   "source": [
    "config_args = 'config.triplet_segmentation_test_folder.multitask_resnet_fpn_learnable_embeddings'\n",
    "\n",
    "config = importlib.import_module(config_args)"
   ]
  },
  {
   "cell_type": "code",
   "execution_count": 6,
   "metadata": {},
   "outputs": [
    {
     "data": {
      "text/plain": [
       "<module 'config.triplet_segmentation_test_folder.multitask_resnet_fpn_learnable_embeddings' from 'c:\\\\Users\\\\tal22\\\\Documents\\\\repositories\\\\triplet_segmentation\\\\prototype\\\\../resnet_model\\\\config\\\\triplet_segmentation_test_folder\\\\multitask_resnet_fpn_learnable_embeddings.py'>"
      ]
     },
     "execution_count": 6,
     "metadata": {},
     "output_type": "execute_result"
    }
   ],
   "source": [
    "config"
   ]
  },
  {
   "cell_type": "code",
   "execution_count": 11,
   "metadata": {},
   "outputs": [
    {
     "data": {
      "text/plain": [
       "{'batch_size': 32,\n",
       " 'num_epochs': 50,\n",
       " 'learning_rate': 0.005,\n",
       " 'experiment_name': 'multitask_resnet_fpn_learnable_embeddings',\n",
       " 'model_name': 'MultiTaskResNetFPNLearnableEmbeddings',\n",
       " 'dataset_path': 'C:/User/talabi/data/triplet_segmentation_dataset_v2_second_stage',\n",
       " 'verb_and_target_gt_present_for_test': False,\n",
       " 'train_image_dir': 'C:/User/talabi/data/triplet_segmentation_dataset_v2_second_stage\\\\train/img_dir',\n",
       " 'train_ann_dir': 'C:/User/talabi/data/triplet_segmentation_dataset_v2_second_stage\\\\train/ann_second_stage',\n",
       " 'val_image_dir': 'C:/User/talabi/data/triplet_segmentation_dataset_v2_second_stage\\\\val/img_dir',\n",
       " 'val_ann_dir': 'C:/User/talabi/data/triplet_segmentation_dataset_v2_second_stage\\\\val/ann_second_stage',\n",
       " 'test_image_dir': 'C:/User/talabi/data/triplet_segmentation_dataset_v2_second_stage\\\\mask2former_instrument_prediction/img_dir',\n",
       " 'test_ann_dir': 'C:/User/talabi/data/triplet_segmentation_dataset_v2_second_stage\\\\mask2former_instrument_prediction/ann_second_stage',\n",
       " 'work_dir': '../resnet_model/work_dirs/multitask_resnet_fpn_learnable_embeddings',\n",
       " 'save_results_path': '../resnet_model/work_dirs/multitask_resnet_fpn_learnable_embeddings\\\\results.json',\n",
       " 'load_from_checkpoint': None,\n",
       " 'predict_only_mode': False,\n",
       " 'image_size': (224, 224)}"
      ]
     },
     "execution_count": 11,
     "metadata": {},
     "output_type": "execute_result"
    }
   ],
   "source": [
    "wandb_config = {\n",
    "    key: value\n",
    "    for key, value in vars(config).items()\n",
    "    if not key.startswith(\"__\") and not callable(value) and not isinstance(value, types.ModuleType)\n",
    "}\n",
    "wandb_config"
   ]
  },
  {
   "cell_type": "code",
   "execution_count": null,
   "metadata": {},
   "outputs": [],
   "source": []
  }
 ],
 "metadata": {
  "kernelspec": {
   "display_name": ".tripletsegmentation",
   "language": "python",
   "name": "python3"
  },
  "language_info": {
   "codemirror_mode": {
    "name": "ipython",
    "version": 3
   },
   "file_extension": ".py",
   "mimetype": "text/x-python",
   "name": "python",
   "nbconvert_exporter": "python",
   "pygments_lexer": "ipython3",
   "version": "3.12.1"
  }
 },
 "nbformat": 4,
 "nbformat_minor": 2
}
