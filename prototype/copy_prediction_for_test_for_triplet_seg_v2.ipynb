{
 "cells": [
  {
   "cell_type": "code",
   "execution_count": 1,
   "metadata": {},
   "outputs": [],
   "source": [
    "%load_ext autoreload\n",
    "%autoreload 2\n",
    "\n",
    "import sys\n",
    "sys.path.append('../')"
   ]
  },
  {
   "cell_type": "code",
   "execution_count": 2,
   "metadata": {},
   "outputs": [
    {
     "name": "stdout",
     "output_type": "stream",
     "text": [
      "Files copied successfully!\n"
     ]
    }
   ],
   "source": [
    "import os\n",
    "import shutil\n",
    "\n",
    "# Define folder paths\n",
    "folder_test_triplet_segmentation_dataset_v2  = \"../data/triplet_segmentation_dataset_v2/test/ann_dir\"  # Replace with the actual path to folder A\n",
    "folder_prediciton_cholecinstanceseg = \"../results/mas2former_on_cholecinstanceseg_pretrained/mask2former_test_final_results\"  # Replace with the actual path to folder B\n",
    "folder_store_prediction_triplet_segmentation_dataset_v2 = \"../results/mas2former_on_cholecinstanceseg_pretrained/mask2former_test_triplet_seg_v_2_results\"  # Replace with the actual path to folder C\n",
    "\n",
    "# Ensure folder C exists\n",
    "os.makedirs(folder_store_prediction_triplet_segmentation_dataset_v2, exist_ok=True)\n",
    "\n",
    "# Get the filenames in folder A (without paths)\n",
    "files_in_folder_test_triplet_segmentation_dataset_v2 = set(os.listdir(folder_test_triplet_segmentation_dataset_v2))\n",
    "\n",
    "# Iterate over files in folder B\n",
    "for file_name in os.listdir(folder_prediciton_cholecinstanceseg):\n",
    "    # Check if the file exists in folder A\n",
    "    if file_name in files_in_folder_test_triplet_segmentation_dataset_v2:\n",
    "        # Copy the file to folder C\n",
    "        source_path = os.path.join(folder_prediciton_cholecinstanceseg, file_name)\n",
    "        destination_path = os.path.join(folder_store_prediction_triplet_segmentation_dataset_v2, file_name)\n",
    "        shutil.copy(source_path, destination_path)\n",
    "\n",
    "print(\"Files copied successfully!\")\n"
   ]
  },
  {
   "cell_type": "code",
   "execution_count": null,
   "metadata": {},
   "outputs": [],
   "source": []
  }
 ],
 "metadata": {
  "kernelspec": {
   "display_name": ".tripletsegmentation",
   "language": "python",
   "name": "python3"
  },
  "language_info": {
   "codemirror_mode": {
    "name": "ipython",
    "version": 3
   },
   "file_extension": ".py",
   "mimetype": "text/x-python",
   "name": "python",
   "nbconvert_exporter": "python",
   "pygments_lexer": "ipython3",
   "version": "3.12.1"
  }
 },
 "nbformat": 4,
 "nbformat_minor": 2
}
