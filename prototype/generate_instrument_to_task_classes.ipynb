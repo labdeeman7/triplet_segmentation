{
 "cells": [
  {
   "cell_type": "code",
   "execution_count": 3,
   "metadata": {},
   "outputs": [
    {
     "name": "stdout",
     "output_type": "stream",
     "text": [
      "The autoreload extension is already loaded. To reload it, use:\n",
      "  %reload_ext autoreload\n"
     ]
    }
   ],
   "source": [
    "%load_ext autoreload\n",
    "%autoreload 2\n",
    "\n",
    "import sys\n",
    "sys.path.append('../')"
   ]
  },
  {
   "cell_type": "code",
   "execution_count": 16,
   "metadata": {},
   "outputs": [],
   "source": [
    "from utils.general.dataset_variables import TripletSegmentationVariables\n",
    "\n",
    "INSTRUMENT_ID_TO_CLASS_DICT = TripletSegmentationVariables.categories['instrument']\n",
    "VERB_ID_TO_CLASS_DICT = TripletSegmentationVariables.categories['verb']\n",
    "TARGET_ID_TO_CLASS_DICT = TripletSegmentationVariables.categories['target']\n",
    "VERBTARGET_ID_TO_CLASS_DICT = TripletSegmentationVariables.categories['verbtarget']\n",
    "TRIPLET_ID_TO_CLASS_DICT = TripletSegmentationVariables.categories['triplet']\n",
    "\n",
    "INSTRUMENT_CLASS_TO_ID_DICT = {instrument_class: instrument_id for instrument_id, instrument_class in INSTRUMENT_ID_TO_CLASS_DICT.items()}\n",
    "VERB_CLASS_TO_ID_DICT = {verb_class: verb_id for verb_id, verb_class in VERB_ID_TO_CLASS_DICT.items()}\n",
    "TARGET_CLASS_TO_ID_DICT = {target_class: target_id for target_id, target_class in TARGET_ID_TO_CLASS_DICT.items()}\n",
    "VERBTARGET_CLASS_TO_ID_DICT = {verbtarget_class: verbtarget_id for verbtarget_id, verbtarget_class in VERBTARGET_ID_TO_CLASS_DICT.items()}\n",
    "TRIPLET_CLASS_TO_ID_DICT = {triplet_class: triplet_id for triplet_id, triplet_class in TRIPLET_ID_TO_CLASS_DICT.items()}"
   ]
  },
  {
   "cell_type": "code",
   "execution_count": 23,
   "metadata": {},
   "outputs": [],
   "source": [
    "from collections import defaultdict\n",
    "\n",
    "def generate_instrument_to_task_classes(instrument_dict, verb_dict, target_dict, verbtarget_dict, triplet_dict):\n",
    "    \"\"\"\n",
    "    Generates instrument-to-task mappings for verbs, targets, and verbtargets.\n",
    "\n",
    "    Args:\n",
    "        instrument_dict (dict): Mapping of instrument names to IDs.\n",
    "        verb_dict (dict): Mapping of verb names to IDs.\n",
    "        target_dict (dict): Mapping of target names to IDs.\n",
    "        verbtarget_dict (dict): Mapping of verbtarget names to IDs.\n",
    "        triplet_dict (dict): Mapping of triplets (instrument, verb, target) to IDs.\n",
    "\n",
    "    Returns:\n",
    "        instrument_to_verb_classes (dict): Mapping of instruments to valid verb class IDs.\n",
    "        instrument_to_target_classes (dict): Mapping of instruments to valid target class IDs.\n",
    "        instrument_to_verbtarget_classes (dict): Mapping of instruments to valid verbtarget class IDs.\n",
    "    \"\"\"\n",
    "\n",
    "    # Initialize dictionaries using defaultdict(set) to prevent duplicates\n",
    "    instrument_to_verb_classes = defaultdict(set)\n",
    "    instrument_to_target_classes = defaultdict(set)\n",
    "    instrument_to_verbtarget_classes = defaultdict(set)\n",
    "\n",
    "    # Iterate over all known triplets\n",
    "    for triplet_str, triplet_id in triplet_dict.items():\n",
    "        instrument_name, verb_name, target_name = triplet_str.split(',')\n",
    "\n",
    "        # Get class IDs\n",
    "        instrument_id = int(instrument_dict[instrument_name])  -1\n",
    "        verb_id = int(verb_dict[verb_name]) -1\n",
    "        target_id = int(target_dict[target_name]) -1\n",
    "        verbtarget_id = int(verbtarget_dict[f\"{verb_name},{target_name}\"]) - 1\n",
    "        \n",
    "\n",
    "        # Only add valid IDs (skip if -1)\n",
    "        if instrument_id >= 0:\n",
    "            if verb_id >= 0:\n",
    "                instrument_to_verb_classes[instrument_id].add(verb_id)\n",
    "            if target_id >= 0:\n",
    "                instrument_to_target_classes[instrument_id].add(target_id)\n",
    "            if verbtarget_id >= 0:\n",
    "                instrument_to_verbtarget_classes[instrument_id].add(verbtarget_id)\n",
    "\n",
    "    # Convert sets to lists (for JSON serialization)\n",
    "    instrument_to_verb_classes = {k: sorted(list(v)) for k, v in instrument_to_verb_classes.items()}\n",
    "    instrument_to_target_classes = {k: sorted(list(v)) for k, v in instrument_to_target_classes.items()}\n",
    "    instrument_to_verbtarget_classes = {k: sorted(list(v)) for k, v in instrument_to_verbtarget_classes.items()}\n",
    "\n",
    "    return instrument_to_verb_classes, instrument_to_target_classes, instrument_to_verbtarget_classes\n",
    "\n"
   ]
  },
  {
   "cell_type": "code",
   "execution_count": 29,
   "metadata": {},
   "outputs": [],
   "source": [
    "from IPython.display import display\n"
   ]
  },
  {
   "cell_type": "code",
   "execution_count": 32,
   "metadata": {},
   "outputs": [
    {
     "data": {
      "text/plain": [
       "'Instrument to Verb:'"
      ]
     },
     "metadata": {},
     "output_type": "display_data"
    },
    {
     "data": {
      "text/plain": [
       "{0: [0, 1, 2, 8, 9],\n",
       " 1: [0, 1, 2, 3, 9],\n",
       " 2: [1, 2, 3, 5, 9],\n",
       " 3: [2, 3, 5, 9],\n",
       " 4: [4, 9],\n",
       " 5: [1, 2, 6, 7, 9]}"
      ]
     },
     "metadata": {},
     "output_type": "display_data"
    },
    {
     "data": {
      "text/plain": [
       "'Instrument to Target:'"
      ]
     },
     "metadata": {},
     "output_type": "display_data"
    },
    {
     "data": {
      "text/plain": [
       "{0: [0, 1, 2, 3, 4, 8, 10, 11, 12, 13, 14],\n",
       " 1: [0, 1, 2, 3, 4, 5, 7, 8, 9, 10, 11, 13, 14],\n",
       " 2: [0, 1, 2, 3, 4, 5, 8, 10, 11, 14],\n",
       " 3: [0, 1, 2, 3, 5, 8, 9, 10, 11, 14],\n",
       " 4: [1, 2, 3, 4, 5, 14],\n",
       " 5: [0, 1, 2, 4, 6, 7, 8, 10, 14]}"
      ]
     },
     "metadata": {},
     "output_type": "display_data"
    },
    {
     "data": {
      "text/plain": [
       "'Instrument to VerbTarget:'"
      ]
     },
     "metadata": {},
     "output_type": "display_data"
    },
    {
     "data": {
      "text/plain": [
       "{0: [0,\n",
       "  1,\n",
       "  2,\n",
       "  3,\n",
       "  4,\n",
       "  5,\n",
       "  6,\n",
       "  7,\n",
       "  8,\n",
       "  9,\n",
       "  10,\n",
       "  11,\n",
       "  12,\n",
       "  13,\n",
       "  14,\n",
       "  15,\n",
       "  16,\n",
       "  17,\n",
       "  18,\n",
       "  19,\n",
       "  20,\n",
       "  21,\n",
       "  55],\n",
       " 1: [0,\n",
       "  1,\n",
       "  2,\n",
       "  6,\n",
       "  9,\n",
       "  12,\n",
       "  14,\n",
       "  15,\n",
       "  17,\n",
       "  19,\n",
       "  20,\n",
       "  22,\n",
       "  23,\n",
       "  24,\n",
       "  25,\n",
       "  26,\n",
       "  27,\n",
       "  28,\n",
       "  29,\n",
       "  30,\n",
       "  31,\n",
       "  32,\n",
       "  33,\n",
       "  34,\n",
       "  55],\n",
       " 2: [0,\n",
       "  1,\n",
       "  2,\n",
       "  17,\n",
       "  19,\n",
       "  23,\n",
       "  24,\n",
       "  25,\n",
       "  26,\n",
       "  27,\n",
       "  28,\n",
       "  29,\n",
       "  30,\n",
       "  33,\n",
       "  34,\n",
       "  35,\n",
       "  36,\n",
       "  37,\n",
       "  38,\n",
       "  55],\n",
       " 3: [0, 1, 2, 30, 35, 36, 39, 40, 41, 42, 43, 44, 55],\n",
       " 4: [45, 46, 47, 48, 49, 55],\n",
       " 5: [0, 1, 2, 17, 19, 20, 34, 50, 51, 52, 53, 54, 55]}"
      ]
     },
     "metadata": {},
     "output_type": "display_data"
    }
   ],
   "source": [
    "# Generate mappings\n",
    "inst_to_verb, inst_to_target, inst_to_verbtarget = generate_instrument_to_task_classes(\n",
    "    INSTRUMENT_CLASS_TO_ID_DICT,\n",
    "    VERB_CLASS_TO_ID_DICT,\n",
    "    TARGET_CLASS_TO_ID_DICT,\n",
    "    VERBTARGET_CLASS_TO_ID_DICT,\n",
    "    TRIPLET_CLASS_TO_ID_DICT\n",
    ")\n",
    "\n",
    "display(\"Instrument to Verb:\", inst_to_verb)\n",
    "display(\"Instrument to Target:\", inst_to_target)\n",
    "display(\"Instrument to VerbTarget:\", inst_to_verbtarget)\n"
   ]
  },
  {
   "cell_type": "code",
   "execution_count": null,
   "metadata": {},
   "outputs": [],
   "source": []
  }
 ],
 "metadata": {
  "kernelspec": {
   "display_name": ".tripletsegmentation",
   "language": "python",
   "name": "python3"
  },
  "language_info": {
   "codemirror_mode": {
    "name": "ipython",
    "version": 3
   },
   "file_extension": ".py",
   "mimetype": "text/x-python",
   "name": "python",
   "nbconvert_exporter": "python",
   "pygments_lexer": "ipython3",
   "version": "3.12.1"
  }
 },
 "nbformat": 4,
 "nbformat_minor": 2
}
