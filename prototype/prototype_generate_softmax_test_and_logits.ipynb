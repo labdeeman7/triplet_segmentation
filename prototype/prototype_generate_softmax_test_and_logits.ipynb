{
 "cells": [
  {
   "cell_type": "code",
   "execution_count": 1,
   "metadata": {},
   "outputs": [],
   "source": [
    "%load_ext autoreload\n",
    "%autoreload 2\n",
    "\n",
    "import sys\n",
    "sys.path.append('../')\n",
    "sys.path.append('../resnet_model')\n",
    "\n",
    "import pickle\n",
    "import os\n",
    "import numpy as np\n",
    "import torch\n",
    "import torch.nn.functional as F\n",
    "import pickle\n",
    "import json\n",
    "import os\n",
    "from PIL import Image\n",
    "from pycocotools import mask as coco_mask\n",
    "\n",
    "from utils.general.dataset_variables import TripletSegmentationVariables \n",
    "\n",
    "INSTRUMENT_ID_TO_INSTRUMENT_CLASS_DICT = TripletSegmentationVariables.categories['instrument_direct_pred']\n",
    "\n",
    "num_used_classes = 6"
   ]
  },
  {
   "cell_type": "code",
   "execution_count": 2,
   "metadata": {},
   "outputs": [],
   "source": [
    "pickle_file_path = '../results/mask2former_cholec_final_predict_on_triplet_segmentation/mask2former_test_triplet_segmentation_v2_results/mask2former_test_triplet_segmentation_v2_dataset.pkl'\n",
    "output_json_path  = '../../datasets/my_triplet_seg_datasets/triplet_segmentation_dataset_v2_second_stage/test_soft_labels/logits_from_first_stage.json'\n",
    "output_mask_dir = '../../datasets/my_triplet_seg_datasets/triplet_segmentation_dataset_v2_second_stage/test_soft_labels/predicted_instance_masks'\n",
    "\n",
    "temperature = 2"
   ]
  },
  {
   "cell_type": "code",
   "execution_count": 3,
   "metadata": {},
   "outputs": [],
   "source": [
    "os.makedirs(output_mask_dir, exist_ok=True)"
   ]
  },
  {
   "cell_type": "code",
   "execution_count": 4,
   "metadata": {},
   "outputs": [],
   "source": [
    "with open(pickle_file_path, 'rb') as file:\n",
    "        # Load the object from the file\n",
    "        mmdet_results = pickle.load(file)"
   ]
  },
  {
   "cell_type": "code",
   "execution_count": 5,
   "metadata": {},
   "outputs": [
    {
     "name": "stdout",
     "output_type": "stream",
     "text": [
      "✅ Saved softmax JSON to: ../../datasets/my_triplet_seg_datasets/triplet_segmentation_dataset_v2_second_stage/test_soft_labels/logits_from_first_stage.json\n",
      "✅ Masks saved to: ../../datasets/my_triplet_seg_datasets/triplet_segmentation_dataset_v2_second_stage/test_soft_labels/predicted_instance_masks\n"
     ]
    }
   ],
   "source": [
    "# Initialize output dictionary\n",
    "final_json = {}\n",
    "\n",
    "for result  in mmdet_results:\n",
    "    img_filename = os.path.basename(result ['img_path'])\n",
    "    img_id = os.path.splitext(img_filename)[0]\n",
    "\n",
    "    pred_instances = result['pred_instances']\n",
    "    masks = pred_instances['masks']\n",
    "    scores = pred_instances['scores']\n",
    "    logits = pred_instances['logits']\n",
    "    labels = pred_instances['labels']\n",
    "    \n",
    "    # Convert to numpy if needed\n",
    "    if isinstance(masks, torch.Tensor):\n",
    "        masks = masks.cpu().numpy()\n",
    "    if isinstance(logits, torch.Tensor):\n",
    "        logits = logits.cpu().numpy()\n",
    "    if isinstance(scores, torch.Tensor):\n",
    "        scores = scores.cpu().numpy()\n",
    "    if isinstance(labels, torch.Tensor):\n",
    "        labels = labels.cpu().numpy()\n",
    "\n",
    "    image_instances = []\n",
    "    \n",
    "    if isinstance(masks, torch.Tensor):\n",
    "        masks = masks.cpu().numpy()\n",
    "\n",
    "    for i, (score, logit, label) in enumerate(zip(scores, logits, labels)):\n",
    "        if score < 0.5:\n",
    "            continue\n",
    "        \n",
    "        rle = masks[i]\n",
    "        instance_mask = coco_mask.decode(rle).astype(np.uint8) * 255  # Binary mask\n",
    "        \n",
    "        # Remove snare class from logits\n",
    "        logit = logit[:num_used_classes]\n",
    "        softmax = torch.nn.functional.softmax(torch.tensor(logit)/temperature, dim=0).numpy()\n",
    "        predicted_class = np.argmax(softmax)\n",
    "        predicted_class_name = INSTRUMENT_ID_TO_INSTRUMENT_CLASS_DICT[str(predicted_class + 1)]\n",
    "\n",
    "        \n",
    "        # Save binary mask\n",
    "        mask_filename = f\"{img_id}_instance_{i}.png\"\n",
    "        mask_path = os.path.join(output_mask_dir, mask_filename)\n",
    "        Image.fromarray(instance_mask).save(mask_path)\n",
    "        \n",
    "        image_instances.append({\n",
    "            \"instance_id\": i,\n",
    "            \"predicted_class_name\": predicted_class_name,\n",
    "            \"softmax\": softmax.tolist(),\n",
    "            \"mask_path\": mask_filename\n",
    "        })\n",
    "    # Save None if no valid detections\n",
    "    final_json[img_id] = image_instances if image_instances else None\n",
    "        \n",
    "\n",
    "\n",
    "# Save\n",
    "with open(output_json_path, 'w') as f:\n",
    "    json.dump(final_json, f, indent=4)\n",
    "\n",
    "print(f\"✅ Saved softmax JSON to: {output_json_path}\")\n",
    "print(f\"✅ Masks saved to: {output_mask_dir}\")\n",
    "            \n",
    "        "
   ]
  },
  {
   "cell_type": "code",
   "execution_count": null,
   "metadata": {},
   "outputs": [],
   "source": []
  }
 ],
 "metadata": {
  "kernelspec": {
   "display_name": ".tripletsegmentation",
   "language": "python",
   "name": "python3"
  },
  "language_info": {
   "codemirror_mode": {
    "name": "ipython",
    "version": 3
   },
   "file_extension": ".py",
   "mimetype": "text/x-python",
   "name": "python",
   "nbconvert_exporter": "python",
   "pygments_lexer": "ipython3",
   "version": "3.12.1"
  }
 },
 "nbformat": 4,
 "nbformat_minor": 2
}
