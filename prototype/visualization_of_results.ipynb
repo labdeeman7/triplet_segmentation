{
 "cells": [
  {
   "cell_type": "code",
   "execution_count": 1,
   "metadata": {},
   "outputs": [],
   "source": [
    "%load_ext autoreload\n",
    "%autoreload 2\n",
    "\n",
    "import sys\n",
    "sys.path.append('..')"
   ]
  },
  {
   "cell_type": "markdown",
   "metadata": {},
   "source": [
    "## Visualize from annotation directly"
   ]
  },
  {
   "cell_type": "code",
   "execution_count": 6,
   "metadata": {},
   "outputs": [],
   "source": [
    "from utils.visualization.vis_utils import VisFromLabelMeToImg"
   ]
  },
  {
   "cell_type": "markdown",
   "metadata": {},
   "source": [
    "predictions"
   ]
  },
  {
   "cell_type": "code",
   "execution_count": 7,
   "metadata": {},
   "outputs": [],
   "source": [
    "# dataset_name = 'triplet_segmentation_v3'\n",
    "# VID_name = 'VID02'\n",
    "# img_dir = f'../data/{dataset_name}/{VID_name}/img_dir' \n",
    "# ann_dir = f'../data/{dataset_name}/{VID_name}/ann_dir' \n",
    "# vis_dir = f'../data/{dataset_name}/{VID_name}/ann_vis_dir' \n",
    "\n",
    "experiment_name = 'singletask_resnet_fpn_verb_and_target_parallel_fc'\n",
    "img_dir = \"../data/triplet_segmentation_dataset_v2_second_stage/mask2former_instrument_prediction/img_dir\"\n",
    "pred_ann_dir = f'../resnet_model/work_dirs/{experiment_name}/combine_first_and_second_stage_results' \n",
    "pred_store_vis_dir = f'../resnet_model/work_dirs/{experiment_name}/vis_dir_pred'\n",
    "\n",
    "\n",
    "vis_for_reannotation_generator = VisFromLabelMeToImg(img_dir=img_dir,\n",
    "                                                    ann_dir=pred_ann_dir,\n",
    "                                                    vis_dir=pred_store_vis_dir)"
   ]
  },
  {
   "cell_type": "code",
   "execution_count": null,
   "metadata": {},
   "outputs": [],
   "source": [
    "vis_for_reannotation_generator.run(make_video=True,\n",
    "                                   show_img_name=False,\n",
    "                                   vid_shape = (864, 480), )"
   ]
  },
  {
   "cell_type": "markdown",
   "metadata": {},
   "source": [
    "gt"
   ]
  }
 ],
 "metadata": {
  "kernelspec": {
   "display_name": ".tripletsegmentation",
   "language": "python",
   "name": "python3"
  },
  "language_info": {
   "codemirror_mode": {
    "name": "ipython",
    "version": 3
   },
   "file_extension": ".py",
   "mimetype": "text/x-python",
   "name": "python",
   "nbconvert_exporter": "python",
   "pygments_lexer": "ipython3",
   "version": "3.12.1"
  }
 },
 "nbformat": 4,
 "nbformat_minor": 2
}
