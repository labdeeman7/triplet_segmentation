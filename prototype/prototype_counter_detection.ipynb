{
 "cells": [
  {
   "cell_type": "markdown",
   "metadata": {},
   "source": [
    "I need to count all the frequencies of all the triplets in each of the video sequence."
   ]
  },
  {
   "cell_type": "code",
   "execution_count": 3,
   "metadata": {},
   "outputs": [
    {
     "name": "stdout",
     "output_type": "stream",
     "text": [
      "The autoreload extension is already loaded. To reload it, use:\n",
      "  %reload_ext autoreload\n"
     ]
    }
   ],
   "source": [
    "%load_ext autoreload\n",
    "%autoreload 2\n",
    "\n",
    "import sys\n",
    "sys.path.append('../')\n",
    "import numpy as np"
   ]
  },
  {
   "cell_type": "markdown",
   "metadata": {},
   "source": [
    "## Counting for the detection task"
   ]
  },
  {
   "cell_type": "markdown",
   "metadata": {},
   "source": [
    "1.  I need to get the AP for the detection results. \n",
    "2.  I need to check how many ground truth were available and how this is related to NaNs\n",
    "3. I need to check how many predictions were available and how this is related to "
   ]
  },
  {
   "cell_type": "code",
   "execution_count": 17,
   "metadata": {},
   "outputs": [],
   "source": [
    "results_triplet_detection = [np.nan, np.nan, np.nan, np.nan, 0.0, np.nan, 0.0, 0.0, np.nan, np.nan, np.nan, 0.0, 0.3323326024624726, np.nan, 0.0, np.nan, np.nan, 0.5142305155955997, 0.0,\n",
    " 0.4156828953037484, 0.2181818181818182, 0.0, 0.0, np.nan, 0.0, 0.0, np.nan, 0.14545454545454548, 0.0, 0.41837732160312807, np.nan, \n",
    " np.nan, 0.0, np.nan, 0.0, np.nan, 0.07575757575757576, np.nan, np.nan, 0.0, 0.0, np.nan, np.nan, 0.0, np.nan, 0.0, np.nan, np.nan, np.nan, np.nan, np.nan, 0.0, 0.0, \n",
    " np.nan, np.nan, np.nan, np.nan, 0.0, 0.2380308367112467, 0.0, 0.4610338956727119, 0.09090909090909091, 0.0, 0.0, 0.0, np.nan, np.nan, np.nan, 0.0, \n",
    " 0.153170359052712, 0.0, np.nan, np.nan, np.nan, 0.0, 0.0, np.nan, np.nan, 0.0, 0.5622358288858232, np.nan, 0.0, 0.4610540358595872, np.nan, np.nan, \n",
    " np.nan, np.nan, np.nan, 0.0, 0.0, 0.0, 0.0, 0.0, np.nan, 0.0, 0.0, 0.0, 0.0, 0.0, 0.3636363636363637]\n",
    "results_triplet_detection = np.array(results_triplet_detection)"
   ]
  },
  {
   "cell_type": "code",
   "execution_count": 18,
   "metadata": {},
   "outputs": [
    {
     "name": "stdout",
     "output_type": "stream",
     "text": [
      "Number of NaNs: 46\n",
      "0.08240903120530413\n"
     ]
    }
   ],
   "source": [
    "# Count NaNs\n",
    "nan_count = np.sum(np.isnan(results_triplet_detection))\n",
    "print(\"Number of NaNs:\", nan_count)\n",
    "print(np.nanmean(results_triplet_detection))"
   ]
  },
  {
   "cell_type": "code",
   "execution_count": 19,
   "metadata": {},
   "outputs": [
    {
     "data": {
      "text/plain": [
       "array([False, False, False, False,  True, False,  True,  True, False,\n",
       "       False, False,  True, False, False,  True, False, False, False,\n",
       "        True, False, False,  True,  True, False,  True,  True, False,\n",
       "       False,  True, False, False, False,  True, False,  True, False,\n",
       "       False, False, False,  True,  True, False, False,  True, False,\n",
       "        True, False, False, False, False, False,  True,  True, False,\n",
       "       False, False, False,  True, False,  True, False, False,  True,\n",
       "        True,  True, False, False, False,  True, False,  True, False,\n",
       "       False, False,  True,  True, False, False,  True, False, False,\n",
       "        True, False, False, False, False, False, False,  True,  True,\n",
       "        True,  True,  True, False,  True,  True,  True,  True,  True,\n",
       "       False])"
      ]
     },
     "execution_count": 19,
     "metadata": {},
     "output_type": "execute_result"
    }
   ],
   "source": [
    "results_triplet_detection == 0.0"
   ]
  },
  {
   "cell_type": "code",
   "execution_count": 20,
   "metadata": {},
   "outputs": [
    {
     "name": "stdout",
     "output_type": "stream",
     "text": [
      "Number of zeros: 40\n"
     ]
    }
   ],
   "source": [
    "zero_count = np.sum(results_triplet_detection == 0.0)\n",
    "print(\"Number of zeros:\", zero_count)"
   ]
  },
  {
   "cell_type": "code",
   "execution_count": 22,
   "metadata": {},
   "outputs": [
    {
     "name": "stdout",
     "output_type": "stream",
     "text": [
      "Number of values predicted: 14\n"
     ]
    }
   ],
   "source": [
    "non_zero_count = 100 - np.sum(np.isnan(results_triplet_detection)) - np.sum(results_triplet_detection == 0.0)\n",
    "print(\"Number of values predicted:\", non_zero_count)"
   ]
  },
  {
   "cell_type": "markdown",
   "metadata": {},
   "source": [
    "This is daming. That means, there are only 14 predictions which have some value, while the other 40 predictions, I just got 0. \n",
    "\n",
    "For this to be correct, the 14 have to have ground-truth which I got correctly. \n",
    "\n",
    "The 40 has to be a mix of 0 ground truths and some predictions or 0 predictions and some ground-truths "
   ]
  },
  {
   "cell_type": "code",
   "execution_count": 23,
   "metadata": {},
   "outputs": [
    {
     "name": "stdout",
     "output_type": "stream",
     "text": [
      "Indices of NaNs: [ 0  1  2  3  5  8  9 10 13 15 16 23 26 30 31 33 35 37 38 41 42 44 46 47\n",
      " 48 49 50 53 54 55 56 65 66 67 71 72 73 76 77 80 83 84 85 86 87 93]\n"
     ]
    }
   ],
   "source": [
    "nan_indices = np.where(np.isnan(results_triplet_detection))[0]  # [0] extracts the indices from the tuple\n",
    "\n",
    "print(\"Indices of NaNs:\", nan_indices)"
   ]
  },
  {
   "cell_type": "code",
   "execution_count": 29,
   "metadata": {},
   "outputs": [
    {
     "name": "stdout",
     "output_type": "stream",
     "text": [
      "Indices of zeros: [ 4  6  7 11 14 18 21 22 24 25 28 32 34 39 40 43 45 51 52 57 59 62 63 64\n",
      " 68 70 74 75 78 81 88 89 90 91 92 94 95 96 97 98]\n"
     ]
    }
   ],
   "source": [
    "zero_indices = np.where(results_triplet_detection == 0.0)[0]  # [0] extracts the indices from the tuple\n",
    "\n",
    "print(\"Indices of zeros:\", zero_indices)"
   ]
  },
  {
   "cell_type": "code",
   "execution_count": 28,
   "metadata": {},
   "outputs": [
    {
     "name": "stdout",
     "output_type": "stream",
     "text": [
      "Indices of non_zeros: [12 17 19 20 27 29 36 58 60 61 69 79 82 99]\n"
     ]
    }
   ],
   "source": [
    "non_zero_indices = np.where( (results_triplet_detection > 0.0) )[0]  # [0] extracts the indices from the tuple\n",
    "\n",
    "print(\"Indices of non_zeros:\", non_zero_indices)"
   ]
  },
  {
   "cell_type": "code",
   "execution_count": 30,
   "metadata": {},
   "outputs": [],
   "source": [
    "from utils.general.dataset_variables import TripletSegmentationVariables\n",
    "from os.path import join"
   ]
  },
  {
   "cell_type": "code",
   "execution_count": 40,
   "metadata": {},
   "outputs": [],
   "source": [
    "import json\n",
    "import os\n",
    "from collections import Counter\n",
    "from typing import Dict, List, Tuple\n",
    "\n",
    "def count_triplets_in_detections(test_ann_dir: str, triplet_mapping: Dict[str, str]) -> Tuple[Dict[str, int], List[str]]:\n",
    "    \"\"\"\n",
    "    Counts the frequency of triplets in detected LabelMe-style annotations.\n",
    "\n",
    "    Args:\n",
    "        test_ann_dir (str): Directory containing LabelMe JSON annotation files.\n",
    "        triplet_mapping (Dict[str, str]): Dictionary mapping triplet names to a standard format.\n",
    "\n",
    "    Returns:\n",
    "        Tuple[Dict[str, int], List[str]]:\n",
    "            - Dictionary with triplet names as keys and their counts as values.\n",
    "            - List of triplets in triplet_mapping but missing from the dataset.\n",
    "    \"\"\"\n",
    "    triplet_counter = Counter()\n",
    "\n",
    "    # Iterate through all JSON files in the test directory\n",
    "    for file_name in os.listdir(test_ann_dir):\n",
    "        if file_name.endswith(\".json\"):\n",
    "            file_path = os.path.join(test_ann_dir, file_name)\n",
    "            \n",
    "            with open(file_path, \"r\") as f:\n",
    "                data = json.load(f)\n",
    "\n",
    "            # Iterate through shapes in the LabelMe JSON file\n",
    "            triplet_name_with_group_id_list = []\n",
    "            for annotation in data.get(\"shapes\", []):\n",
    "                label = annotation.get(\"label\", \"\").strip().lower()\n",
    "                verb = annotation.get(\"verb\", \"\").strip().lower()\n",
    "                target = annotation.get(\"target\", \"\").strip().lower()\n",
    "                group_id = annotation.get(\"group_id\", None)  # Group ID helps determine instance uniqueness\n",
    "                \n",
    "                # Construct triplet name\n",
    "                triplet_name = f\"{label},{verb},{target}\"\n",
    "                \n",
    "                triplet_name_with_group_id = f\"{label},{verb},{target},{group_id}\"\n",
    "\n",
    "                \n",
    "                # Check if the triplet exists in the mapping\n",
    "                if triplet_name in triplet_mapping.values(): \n",
    "                    if triplet_name_with_group_id not in triplet_name_with_group_id_list:\n",
    "                        triplet_counter[triplet_name] += 1 # add to the counter\n",
    "                        triplet_name_with_group_id_list.append(triplet_name_with_group_id)  # ensure multiple contours with same group_id not aded\n",
    "                    else: \n",
    "                        print(f\"{file_name} - Same group id: {triplet_name_with_group_id} already exists\")\n",
    "                else:\n",
    "                    print(f\"{file_name} - Warning: Triplet {triplet_name} in {file_name} not found in triplet_mapping.\")\n",
    "\n",
    "    # Identify missing triplets\n",
    "    present_triplets = set(triplet_counter.keys())\n",
    "    all_triplets = set(triplet_mapping.values())\n",
    "    triplets_not_in_test_dataset = sorted(all_triplets - present_triplets)\n",
    "\n",
    "    return dict(triplet_counter), triplets_not_in_test_dataset\n",
    "\n"
   ]
  },
  {
   "cell_type": "code",
   "execution_count": 41,
   "metadata": {},
   "outputs": [
    {
     "name": "stdout",
     "output_type": "stream",
     "text": [
      "t50_VID14_000190.json - Same group id: bipolar,coagulate,gallbladder,1 already exists\n",
      "t50_VID14_000265.json - Same group id: grasper,retract,gallbladder,1 already exists\n",
      "t50_VID14_000502.json - Same group id: hook,dissect,cystic_duct,1 already exists\n",
      "t50_VID14_000566.json - Same group id: hook,dissect,gallbladder,1 already exists\n",
      "t50_VID14_000572.json - Same group id: hook,dissect,gallbladder,1 already exists\n",
      "t50_VID14_000582.json - Same group id: hook,retract,gallbladder,1 already exists\n",
      "t50_VID14_000606.json - Same group id: clipper,clip,cystic_artery,1 already exists\n",
      "t50_VID14_000607.json - Same group id: clipper,null_verb,null_target,1 already exists\n",
      "t50_VID14_000610.json - Same group id: clipper,clip,cystic_artery,1 already exists\n",
      "t50_VID14_000707.json - Same group id: grasper,retract,gallbladder,1 already exists\n",
      "t50_VID14_000838.json - Same group id: grasper,retract,gallbladder,1 already exists\n",
      "t50_VID14_000839.json - Same group id: grasper,retract,gallbladder,1 already exists\n",
      "t50_VID14_000878.json - Same group id: grasper,retract,gallbladder,1 already exists\n",
      "t50_VID14_000942.json - Same group id: hook,dissect,gallbladder,1 already exists\n",
      "t50_VID14_001021.json - Same group id: grasper,retract,liver,1 already exists\n",
      "t50_VID14_001023.json - Same group id: grasper,retract,liver,1 already exists\n",
      "t50_VID14_001024.json - Same group id: grasper,retract,liver,1 already exists\n",
      "t50_VID14_001033.json - Same group id: grasper,retract,liver,1 already exists\n",
      "t50_VID14_001034.json - Same group id: grasper,retract,liver,1 already exists\n",
      "t50_VID14_001039.json - Same group id: grasper,retract,liver,1 already exists\n",
      "t50_VID14_001040.json - Same group id: grasper,retract,liver,1 already exists\n",
      "t50_VID14_001041.json - Same group id: grasper,retract,liver,1 already exists\n",
      "t50_VID14_001042.json - Same group id: grasper,retract,liver,1 already exists\n",
      "t50_VID14_001043.json - Same group id: grasper,retract,liver,1 already exists\n",
      "t50_VID14_001048.json - Same group id: grasper,retract,liver,1 already exists\n",
      "t50_VID14_001049.json - Same group id: grasper,retract,liver,1 already exists\n",
      "t50_VID14_001050.json - Same group id: grasper,retract,liver,1 already exists\n",
      "t50_VID14_001053.json - Same group id: grasper,retract,liver,1 already exists\n",
      "t50_VID14_001080.json - Same group id: grasper,retract,liver,1 already exists\n",
      "t50_VID14_001081.json - Same group id: grasper,retract,liver,1 already exists\n",
      "t50_VID14_001087.json - Same group id: grasper,retract,liver,1 already exists\n",
      "t50_VID14_001140.json - Same group id: grasper,retract,liver,1 already exists\n",
      "t50_VID14_001144.json - Same group id: grasper,retract,liver,1 already exists\n",
      "t50_VID14_001158.json - Same group id: bipolar,coagulate,cystic_plate,1 already exists\n",
      "t50_VID14_001162.json - Same group id: bipolar,coagulate,cystic_plate,1 already exists\n",
      "t50_VID14_001163.json - Same group id: bipolar,coagulate,cystic_plate,1 already exists\n",
      "t50_VID14_001164.json - Same group id: bipolar,coagulate,cystic_plate,1 already exists\n",
      "t50_VID14_001165.json - Same group id: bipolar,coagulate,cystic_plate,1 already exists\n",
      "t50_VID14_001165.json - Same group id: grasper,retract,liver,1 already exists\n",
      "t50_VID14_001177.json - Same group id: grasper,retract,liver,1 already exists\n",
      "t50_VID14_001179.json - Same group id: grasper,retract,liver,1 already exists\n",
      "t50_VID14_001251.json - Same group id: grasper,grasp,gallbladder,1 already exists\n",
      "t50_VID14_001252.json - Same group id: grasper,grasp,gallbladder,1 already exists\n",
      "t50_VID14_001271.json - Same group id: grasper,retract,liver,1 already exists\n",
      "t50_VID14_001272.json - Same group id: grasper,retract,liver,1 already exists\n",
      "t50_VID14_001273.json - Same group id: grasper,retract,liver,1 already exists\n",
      "t50_VID14_001274.json - Same group id: grasper,retract,liver,1 already exists\n",
      "t50_VID14_001276.json - Same group id: grasper,retract,liver,1 already exists\n",
      "t50_VID14_001285.json - Same group id: bipolar,coagulate,liver,1 already exists\n",
      "t50_VID14_001286.json - Same group id: bipolar,coagulate,liver,1 already exists\n",
      "t50_VID14_001291.json - Same group id: grasper,retract,liver,1 already exists\n",
      "t50_VID14_001292.json - Same group id: grasper,retract,liver,1 already exists\n",
      "t50_VID14_001293.json - Same group id: grasper,retract,liver,1 already exists\n",
      "t50_VID14_001432.json - Same group id: bipolar,grasp,liver,1 already exists\n",
      "t50_VID14_001461.json - Same group id: bipolar,coagulate,liver,1 already exists\n",
      "t50_VID14_001597.json - Same group id: irrigator,aspirate,fluid,1 already exists\n",
      "t50_VID14_001598.json - Same group id: irrigator,aspirate,fluid,1 already exists\n",
      "t50_VID14_001668.json - Same group id: grasper,retract,liver,1 already exists\n",
      "t50_VID14_001669.json - Same group id: grasper,retract,liver,1 already exists\n",
      "t50_VID14_001670.json - Same group id: grasper,retract,liver,1 already exists\n",
      "t50_VID14_001671.json - Same group id: grasper,retract,liver,1 already exists\n",
      "t50_VID14_001672.json - Same group id: grasper,retract,liver,1 already exists\n",
      "t50_VID14_001673.json - Same group id: grasper,retract,liver,1 already exists\n",
      "t50_VID14_001674.json - Same group id: grasper,retract,liver,1 already exists\n",
      "t50_VID14_001675.json - Same group id: grasper,retract,liver,1 already exists\n",
      "t50_VID14_001676.json - Same group id: grasper,retract,liver,1 already exists\n",
      "t50_VID14_001677.json - Same group id: grasper,retract,liver,1 already exists\n",
      "t50_VID14_001678.json - Same group id: bipolar,coagulate,liver,1 already exists\n",
      "t50_VID14_001679.json - Same group id: grasper,retract,liver,1 already exists\n",
      "t50_VID14_001679.json - Same group id: bipolar,coagulate,liver,1 already exists\n",
      "t50_VID14_001680.json - Same group id: grasper,retract,liver,1 already exists\n",
      "t50_VID14_001680.json - Same group id: bipolar,coagulate,liver,1 already exists\n",
      "t50_VID14_001681.json - Same group id: grasper,retract,liver,1 already exists\n",
      "t50_VID14_001682.json - Same group id: grasper,retract,liver,1 already exists\n",
      "t50_VID14_001683.json - Same group id: grasper,retract,liver,1 already exists\n",
      "t50_VID14_001684.json - Same group id: grasper,retract,liver,1 already exists\n",
      "t50_VID14_001685.json - Same group id: grasper,retract,liver,1 already exists\n",
      "t50_VID14_001688.json - Same group id: grasper,retract,liver,1 already exists\n",
      "t50_VID14_001689.json - Same group id: grasper,retract,liver,1 already exists\n",
      "t50_VID15_000097.json - Same group id: grasper,retract,gut,1 already exists\n",
      "t50_VID15_000160.json - Same group id: hook,dissect,omentum,1 already exists\n",
      "t50_VID15_000161.json - Same group id: hook,dissect,omentum,1 already exists\n",
      "t50_VID15_000204.json - Same group id: hook,dissect,omentum,1 already exists\n",
      "t50_VID15_000238.json - Same group id: grasper,retract,gallbladder,1 already exists\n",
      "t50_VID15_000258.json - Same group id: grasper,grasp,gallbladder,1 already exists\n",
      "t50_VID15_000261.json - Same group id: grasper,grasp,gallbladder,1 already exists\n",
      "t50_VID15_000400.json - Same group id: hook,dissect,cystic_artery,1 already exists\n",
      "t50_VID15_000412.json - Same group id: bipolar,coagulate,cystic_artery,1 already exists\n",
      "t50_VID15_000586.json - Same group id: hook,dissect,cystic_plate,1 already exists\n",
      "t50_VID15_001010.json - Same group id: bipolar,coagulate,cystic_plate,1 already exists\n",
      "t50_VID15_001011.json - Same group id: bipolar,coagulate,cystic_plate,1 already exists\n",
      "t50_VID15_001017.json - Same group id: bipolar,coagulate,cystic_plate,1 already exists\n",
      "t50_VID15_001020.json - Same group id: bipolar,coagulate,cystic_plate,1 already exists\n",
      "t50_VID15_001023.json - Same group id: bipolar,retract,gallbladder,1 already exists\n",
      "t50_VID15_001285.json - Same group id: grasper,retract,gallbladder,1 already exists\n",
      "t50_VID15_001327.json - Same group id: grasper,retract,gallbladder,1 already exists\n",
      "t50_VID15_001328.json - Same group id: grasper,retract,gallbladder,1 already exists\n",
      "t50_VID15_001372.json - Same group id: bipolar,coagulate,cystic_plate,1 already exists\n",
      "t50_VID15_001375.json - Same group id: bipolar,coagulate,cystic_plate,1 already exists\n",
      "t50_VID15_001378.json - Same group id: bipolar,coagulate,cystic_plate,1 already exists\n",
      "t50_VID15_001380.json - Same group id: bipolar,coagulate,cystic_plate,1 already exists\n",
      "t50_VID15_001383.json - Same group id: bipolar,coagulate,cystic_plate,1 already exists\n",
      "t50_VID15_001562.json - Same group id: grasper,retract,gallbladder,1 already exists\n",
      "t50_VID15_001627.json - Same group id: bipolar,coagulate,liver,1 already exists\n",
      "t50_VID15_001719.json - Same group id: grasper,retract,liver,1 already exists\n",
      "t50_VID15_001723.json - Same group id: bipolar,coagulate,liver,1 already exists\n",
      "t50_VID15_001726.json - Same group id: bipolar,coagulate,liver,1 already exists\n",
      "t50_VID15_001964.json - Same group id: grasper,null_verb,null_target,1 already exists\n",
      "t50_VID15_001965.json - Same group id: grasper,null_verb,null_target,1 already exists\n",
      "t50_VID15_002006.json - Same group id: grasper,grasp,specimen_bag,1 already exists\n",
      "t50_VID15_002020.json - Same group id: grasper,null_verb,null_target,1 already exists\n",
      "t50_VID22_000272.json - Same group id: grasper,retract,gallbladder,1 already exists\n",
      "t50_VID22_000293.json - Same group id: hook,dissect,cystic_duct,1 already exists\n",
      "t50_VID22_000781.json - Same group id: grasper,retract,gallbladder,1 already exists\n",
      "t50_VID22_000819.json - Same group id: grasper,null_verb,null_target,1 already exists\n",
      "t50_VID22_000948.json - Same group id: grasper,retract,liver,1 already exists\n",
      "t50_VID22_000951.json - Same group id: grasper,retract,liver,1 already exists\n",
      "t50_VID22_000953.json - Same group id: grasper,retract,liver,1 already exists\n",
      "t50_VID22_000954.json - Same group id: grasper,retract,liver,1 already exists\n",
      "t50_VID22_000955.json - Same group id: grasper,retract,liver,1 already exists\n",
      "t50_VID22_000956.json - Same group id: grasper,retract,liver,1 already exists\n",
      "t50_VID22_000957.json - Same group id: grasper,retract,liver,1 already exists\n",
      "t50_VID22_000958.json - Same group id: grasper,retract,liver,1 already exists\n",
      "t50_VID22_000959.json - Same group id: grasper,retract,liver,1 already exists\n",
      "t50_VID22_000960.json - Same group id: grasper,retract,liver,1 already exists\n",
      "t50_VID22_000963.json - Same group id: grasper,retract,liver,1 already exists\n",
      "t50_VID22_000966.json - Same group id: grasper,retract,liver,1 already exists\n",
      "t50_VID22_000967.json - Same group id: grasper,retract,liver,1 already exists\n",
      "t50_VID22_000968.json - Same group id: grasper,retract,liver,1 already exists\n",
      "t50_VID22_000969.json - Same group id: grasper,retract,liver,1 already exists\n",
      "t50_VID22_000970.json - Same group id: grasper,retract,liver,1 already exists\n",
      "t50_VID22_000971.json - Same group id: grasper,retract,liver,1 already exists\n",
      "t50_VID22_000972.json - Same group id: grasper,retract,liver,1 already exists\n",
      "t50_VID22_000973.json - Same group id: grasper,retract,liver,1 already exists\n",
      "t50_VID22_000975.json - Same group id: grasper,retract,liver,1 already exists\n",
      "t50_VID22_000976.json - Same group id: grasper,retract,liver,1 already exists\n",
      "t50_VID22_000977.json - Same group id: grasper,retract,liver,1 already exists\n",
      "t50_VID22_000978.json - Same group id: grasper,retract,liver,1 already exists\n",
      "t50_VID22_000979.json - Same group id: grasper,retract,liver,1 already exists\n",
      "t50_VID22_000985.json - Same group id: grasper,retract,liver,1 already exists\n",
      "t50_VID22_000986.json - Same group id: grasper,retract,liver,1 already exists\n",
      "t50_VID22_000987.json - Same group id: grasper,retract,liver,1 already exists\n",
      "t50_VID22_000988.json - Same group id: grasper,retract,liver,1 already exists\n",
      "t50_VID22_001179.json - Same group id: grasper,retract,liver,1 already exists\n",
      "t50_VID22_001180.json - Same group id: grasper,retract,liver,1 already exists\n",
      "t50_VID22_001184.json - Same group id: grasper,retract,liver,1 already exists\n",
      "t50_VID22_001185.json - Same group id: grasper,retract,liver,1 already exists\n",
      "t50_VID22_001232.json - Same group id: grasper,retract,liver,1 already exists\n",
      "t50_VID22_001245.json - Same group id: bipolar,coagulate,cystic_plate,1 already exists\n",
      "t50_VID22_001254.json - Same group id: bipolar,coagulate,cystic_plate,1 already exists\n",
      "t50_VID22_001266.json - Same group id: bipolar,coagulate,cystic_plate,1 already exists\n",
      "t50_VID22_001266.json - Same group id: grasper,retract,liver,1 already exists\n",
      "t50_VID22_001266.json - Same group id: grasper,retract,liver,1 already exists\n",
      "t50_VID22_001271.json - Same group id: bipolar,coagulate,cystic_plate,1 already exists\n",
      "t50_VID22_001272.json - Same group id: grasper,retract,liver,1 already exists\n",
      "t50_VID22_001272.json - Same group id: grasper,retract,liver,1 already exists\n",
      "t50_VID22_001273.json - Same group id: grasper,retract,liver,1 already exists\n",
      "t50_VID22_001279.json - Same group id: bipolar,coagulate,cystic_plate,1 already exists\n",
      "t50_VID22_001279.json - Same group id: grasper,retract,liver,1 already exists\n",
      "t50_VID22_001283.json - Same group id: bipolar,coagulate,cystic_plate,1 already exists\n",
      "t50_VID22_001284.json - Same group id: bipolar,coagulate,cystic_plate,1 already exists\n",
      "t50_VID22_001288.json - Same group id: bipolar,coagulate,cystic_plate,1 already exists\n",
      "t50_VID22_001289.json - Same group id: bipolar,coagulate,cystic_plate,1 already exists\n",
      "t50_VID22_001290.json - Same group id: bipolar,coagulate,cystic_plate,1 already exists\n",
      "t50_VID22_001292.json - Same group id: bipolar,coagulate,cystic_plate,1 already exists\n",
      "t50_VID22_001305.json - Same group id: grasper,retract,liver,1 already exists\n",
      "t50_VID22_001307.json - Same group id: grasper,retract,liver,1 already exists\n",
      "t50_VID22_001307.json - Same group id: bipolar,coagulate,cystic_plate,1 already exists\n",
      "t50_VID22_001309.json - Same group id: grasper,retract,liver,1 already exists\n",
      "t50_VID22_001309.json - Same group id: bipolar,coagulate,cystic_plate,1 already exists\n",
      "t50_VID22_001310.json - Same group id: grasper,retract,liver,1 already exists\n",
      "t50_VID22_001313.json - Same group id: grasper,retract,liver,1 already exists\n",
      "t50_VID22_001314.json - Same group id: grasper,retract,liver,1 already exists\n",
      "t50_VID22_001326.json - Same group id: grasper,retract,liver,1 already exists\n",
      "t50_VID22_001360.json - Same group id: grasper,retract,liver,1 already exists\n",
      "t50_VID22_001361.json - Same group id: grasper,retract,liver,1 already exists\n",
      "t50_VID22_001361.json - Same group id: grasper,retract,liver,1 already exists\n",
      "t50_VID22_001362.json - Same group id: grasper,retract,liver,1 already exists\n",
      "t50_VID22_001362.json - Same group id: grasper,retract,liver,1 already exists\n",
      "t50_VID22_001363.json - Same group id: grasper,retract,liver,1 already exists\n",
      "t50_VID22_001363.json - Same group id: grasper,retract,liver,1 already exists\n",
      "t50_VID22_001399.json - Same group id: grasper,retract,liver,1 already exists\n",
      "t50_VID49_000390.json - Same group id: bipolar,coagulate,gallbladder,1 already exists\n",
      "t50_VID49_001020.json - Same group id: grasper,retract,liver,1 already exists\n",
      "t50_VID49_001320.json - Same group id: grasper,retract,liver,1 already exists\n",
      "t50_VID49_001470.json - Same group id: bipolar,grasp,specimen_bag,1 already exists\n",
      "t50_VID51_000660.json - Same group id: grasper,retract,gallbladder,1 already exists\n",
      "t50_VID51_001470.json - Same group id: clipper,null_verb,null_target,1 already exists\n",
      "t50_VID51_002580.json - Same group id: grasper,retract,liver,1 already exists\n",
      "t50_VID65_001230.json - Same group id: grasper,retract,gallbladder,1 already exists\n",
      "t50_VID66_000360.json - Same group id: hook,dissect,gallbladder,1 already exists\n",
      "t50_VID66_000990.json - Same group id: grasper,retract,liver,1 already exists\n",
      "t50_VID66_001020.json - Same group id: bipolar,coagulate,liver,1 already exists\n",
      "t50_VID66_001590.json - Same group id: bipolar,coagulate,liver,1 already exists\n"
     ]
    }
   ],
   "source": [
    "                \n",
    "# Example Usage:\n",
    "test_ann_dir = \"../data/triplet_segmentation_dataset_v2_second_stage/test/ann_dir\"  # Replace with actual directory\n",
    "triplet_mapping = TripletSegmentationVariables.categories['triplet']\n",
    "\n",
    "triplet_counts, triplets_not_in_test_dataset = count_triplets_in_detections(test_ann_dir, triplet_mapping)\n"
   ]
  },
  {
   "cell_type": "code",
   "execution_count": 42,
   "metadata": {},
   "outputs": [
    {
     "name": "stdout",
     "output_type": "stream",
     "text": [
      "Triplet Counts: {'grasper,retract,gallbladder': 1528, 'hook,dissect,omentum': 120, 'grasper,retract,omentum': 76, 'grasper,retract,gut': 28, 'hook,coagulate,gallbladder': 11, 'bipolar,coagulate,gallbladder': 12, 'bipolar,dissect,gallbladder': 37, 'hook,dissect,gallbladder': 1367, 'hook,null_verb,null_target': 55, 'hook,dissect,peritoneum': 18, 'grasper,retract,peritoneum': 25, 'hook,dissect,cystic_plate': 147, 'hook,retract,gallbladder': 20, 'hook,dissect,cystic_artery': 80, 'hook,dissect,cystic_duct': 187, 'clipper,clip,cystic_duct': 49, 'clipper,clip,cystic_artery': 32, 'clipper,null_verb,null_target': 17, 'scissors,cut,cystic_duct': 24, 'scissors,cut,cystic_artery': 14, 'bipolar,coagulate,liver': 148, 'irrigator,aspirate,fluid': 361, 'grasper,null_verb,null_target': 127, 'irrigator,irrigate,abdominal_wall_cavity': 26, 'irrigator,null_verb,null_target': 55, 'hook,coagulate,liver': 11, 'grasper,retract,liver': 829, 'hook,retract,liver': 13, 'bipolar,coagulate,cystic_plate': 139, 'irrigator,irrigate,cystic_pedicle': 4, 'irrigator,retract,liver': 15, 'grasper,grasp,gallbladder': 23, 'grasper,grasp,specimen_bag': 57, 'bipolar,grasp,liver': 4, 'bipolar,coagulate,cystic_artery': 7, 'scissors,null_verb,null_target': 1, 'scissors,dissect,cystic_plate': 12, 'bipolar,retract,gallbladder': 1, 'irrigator,retract,gallbladder': 2, 'scissors,cut,cystic_plate': 3, 'grasper,grasp,cystic_plate': 19, 'clipper,clip,cystic_plate': 10, 'irrigator,irrigate,liver': 5, 'bipolar,null_verb,null_target': 2, 'bipolar,grasp,specimen_bag': 1, 'bipolar,retract,omentum': 1, 'bipolar,coagulate,abdominal_wall_cavity': 2, 'bipolar,coagulate,cystic_duct': 1, 'grasper,grasp,cystic_duct': 3}\n",
      "triplets_not_in_test_dataset: ['bipolar,coagulate,blood_vessel', 'bipolar,coagulate,cystic_pedicle', 'bipolar,coagulate,omentum', 'bipolar,coagulate,peritoneum', 'bipolar,dissect,adhesion', 'bipolar,dissect,cystic_artery', 'bipolar,dissect,cystic_duct', 'bipolar,dissect,cystic_plate', 'bipolar,dissect,omentum', 'bipolar,grasp,cystic_plate', 'bipolar,retract,cystic_duct', 'bipolar,retract,cystic_pedicle', 'bipolar,retract,liver', 'clipper,clip,blood_vessel', 'clipper,clip,cystic_pedicle', 'grasper,dissect,cystic_plate', 'grasper,dissect,gallbladder', 'grasper,dissect,omentum', 'grasper,grasp,cystic_artery', 'grasper,grasp,cystic_pedicle', 'grasper,grasp,gut', 'grasper,grasp,liver', 'grasper,grasp,omentum', 'grasper,grasp,peritoneum', 'grasper,pack,gallbladder', 'grasper,retract,cystic_duct', 'grasper,retract,cystic_pedicle', 'grasper,retract,cystic_plate', 'hook,coagulate,blood_vessel', 'hook,coagulate,cystic_artery', 'hook,coagulate,cystic_duct', 'hook,coagulate,cystic_pedicle', 'hook,coagulate,cystic_plate', 'hook,coagulate,omentum', 'hook,cut,blood_vessel', 'hook,cut,peritoneum', 'hook,dissect,blood_vessel', 'irrigator,dissect,cystic_duct', 'irrigator,dissect,cystic_pedicle', 'irrigator,dissect,cystic_plate', 'irrigator,dissect,gallbladder', 'irrigator,dissect,omentum', 'irrigator,retract,omentum', 'scissors,coagulate,omentum', 'scissors,cut,adhesion', 'scissors,cut,blood_vessel', 'scissors,cut,liver', 'scissors,cut,omentum', 'scissors,cut,peritoneum', 'scissors,dissect,gallbladder', 'scissors,dissect,omentum']\n"
     ]
    }
   ],
   "source": [
    "print(\"Triplet Counts:\", triplet_counts)\n",
    "print(\"triplets_not_in_test_dataset:\", triplets_not_in_test_dataset)"
   ]
  },
  {
   "cell_type": "code",
   "execution_count": 43,
   "metadata": {},
   "outputs": [
    {
     "data": {
      "text/plain": [
       "51"
      ]
     },
     "execution_count": 43,
     "metadata": {},
     "output_type": "execute_result"
    }
   ],
   "source": [
    "len(triplets_not_in_test_dataset)"
   ]
  },
  {
   "cell_type": "code",
   "execution_count": null,
   "metadata": {},
   "outputs": [],
   "source": [
    "all_triplets_set = set(triplet_mapping.values())\n",
    "triplets_not_in_test_dataset = set(triplets_not_in_test_dataset)\n",
    "triplets_in_test_dataset = set(triplet_counts.keys())"
   ]
  },
  {
   "cell_type": "code",
   "execution_count": 65,
   "metadata": {},
   "outputs": [],
   "source": [
    "nan_triplet_names = set([triplet_mapping[str(int(id)+1)] for id in nan_indices])\n",
    "non_zero_indices_names = set([triplet_mapping[str(int(id)+1)] for id in non_zero_indices])\n",
    "zero_indices_names  = set([triplet_mapping[str(int(id)+1)] for id in zero_indices])"
   ]
  },
  {
   "cell_type": "code",
   "execution_count": 57,
   "metadata": {},
   "outputs": [],
   "source": [
    "all_nans_that_do_not_have_gt = triplets_not_in_test_dataset & nan_triplet_names"
   ]
  },
  {
   "cell_type": "code",
   "execution_count": 60,
   "metadata": {},
   "outputs": [
    {
     "data": {
      "text/plain": [
       "True"
      ]
     },
     "execution_count": 60,
     "metadata": {},
     "output_type": "execute_result"
    }
   ],
   "source": [
    "all_nans_that_do_not_have_gt == nan_triplet_names"
   ]
  },
  {
   "cell_type": "code",
   "execution_count": 62,
   "metadata": {},
   "outputs": [
    {
     "name": "stdout",
     "output_type": "stream",
     "text": [
      "46\n",
      "51\n",
      "46\n"
     ]
    }
   ],
   "source": [
    "print(len(all_nans_that_do_not_have_gt))\n",
    "print(len(triplets_not_in_test_dataset))\n",
    "print(len(nan_triplet_names))"
   ]
  },
  {
   "cell_type": "markdown",
   "metadata": {},
   "source": [
    "ohh okay. For all NaNs, they are things that do not have ground-truth. So for me to have a NaN, I must have no groundtruth. \n",
    "\n",
    "But there are 5 things which there is no ground_truth, but they are not nans.  \n",
    "\n",
    "I suspect that they are zeros. The ones we cannot find are zeros. "
   ]
  },
  {
   "cell_type": "code",
   "execution_count": 64,
   "metadata": {},
   "outputs": [
    {
     "data": {
      "text/plain": [
       "{'bipolar,dissect,adhesion',\n",
       " 'bipolar,dissect,cystic_duct',\n",
       " 'grasper,grasp,peritoneum',\n",
       " 'grasper,retract,cystic_duct',\n",
       " 'scissors,dissect,gallbladder'}"
      ]
     },
     "execution_count": 64,
     "metadata": {},
     "output_type": "execute_result"
    }
   ],
   "source": [
    "triplets_which_have_no_gt_but_are_not_nans =  triplets_not_in_test_dataset - nan_triplet_names\n",
    "triplets_which_have_no_gt_but_are_not_nans"
   ]
  },
  {
   "cell_type": "markdown",
   "metadata": {},
   "source": [
    "if I am right, these are the triplets which are not in test, but were predicted anyway, they should give zeros"
   ]
  },
  {
   "cell_type": "code",
   "execution_count": 66,
   "metadata": {},
   "outputs": [
    {
     "data": {
      "text/plain": [
       "{'bipolar,dissect,adhesion',\n",
       " 'bipolar,dissect,cystic_duct',\n",
       " 'grasper,grasp,peritoneum',\n",
       " 'grasper,retract,cystic_duct',\n",
       " 'scissors,dissect,gallbladder'}"
      ]
     },
     "execution_count": 66,
     "metadata": {},
     "output_type": "execute_result"
    }
   ],
   "source": [
    "zero_scores_which_do_not_exist_in_test = zero_indices_names & triplets_not_in_test_dataset\n",
    "zero_scores_which_do_not_exist_in_test"
   ]
  },
  {
   "cell_type": "markdown",
   "metadata": {},
   "source": [
    "So I am correct, and the metric is correct. "
   ]
  },
  {
   "cell_type": "markdown",
   "metadata": {},
   "source": [
    "It also follows that the 0.0 which are not in zero_scores_which_do_not_exist_in_test are things which we predicted wrongly entirely. \n",
    "\n",
    "While the other ones, are things we at least got correctly done."
   ]
  },
  {
   "cell_type": "code",
   "execution_count": null,
   "metadata": {},
   "outputs": [],
   "source": []
  }
 ],
 "metadata": {
  "kernelspec": {
   "display_name": ".evaluate",
   "language": "python",
   "name": "python3"
  },
  "language_info": {
   "codemirror_mode": {
    "name": "ipython",
    "version": 3
   },
   "file_extension": ".py",
   "mimetype": "text/x-python",
   "name": "python",
   "nbconvert_exporter": "python",
   "pygments_lexer": "ipython3",
   "version": "3.7.0"
  }
 },
 "nbformat": 4,
 "nbformat_minor": 2
}
