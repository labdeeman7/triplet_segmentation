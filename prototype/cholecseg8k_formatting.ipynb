{
 "cells": [
  {
   "cell_type": "code",
   "execution_count": 1,
   "id": "9a42d647",
   "metadata": {},
   "outputs": [],
   "source": [
    "%load_ext autoreload\n",
    "%autoreload 2\n",
    "\n",
    "import sys\n",
    "sys.path.append('../')\n",
    "sys.path.append('../resnet_model')"
   ]
  },
  {
   "cell_type": "code",
   "execution_count": 2,
   "id": "2a78b715",
   "metadata": {},
   "outputs": [],
   "source": [
    "import cv2\n",
    "import matplotlib.pyplot as plt\n",
    "import numpy as np\n",
    "\n",
    "from utils.general.read_files import read_from_json\n",
    "from utils.general.dataset_variables import CholecSeg8kVariables\n",
    "\n",
    "seq_to_split_dict = CholecSeg8kVariables.seq_to_split_dict"
   ]
  },
  {
   "cell_type": "code",
   "execution_count": 3,
   "id": "72389c27",
   "metadata": {},
   "outputs": [
    {
     "name": "stdout",
     "output_type": "stream",
     "text": [
      "✅ All images and masks converted for tissue segmentation.\n"
     ]
    }
   ],
   "source": [
    "import os\n",
    "import cv2\n",
    "import numpy as np\n",
    "from shutil import copyfile\n",
    "\n",
    "\n",
    "def convert_cholecseg8k_tissue_instrument(input_dir, output_dir):\n",
    "    os.makedirs(output_dir, exist_ok=True)\n",
    "    img_dir = os.path.join(output_dir, \"img_dir\")\n",
    "    ann_dir = os.path.join(output_dir, \"ann_dir\")\n",
    "    vis_dir = os.path.join(output_dir, \"vis_dir\")\n",
    "    os.makedirs(img_dir, exist_ok=True)\n",
    "    os.makedirs(ann_dir, exist_ok=True)\n",
    "    os.makedirs(vis_dir, exist_ok=True)\n",
    "\n",
    "    id_map = CholecSeg8kVariables.conversion_from_cholecseg8k_to_tissue_segmentation\n",
    "    old_to_new_id = {k: v['id'] for k, v in id_map.items()}\n",
    "    new_id_to_color = {v['id']: v['color'] for k, v in id_map.items()}\n",
    "\n",
    "    all_clip_dirs = []\n",
    "    for video_dir in sorted(os.listdir(input_dir)):\n",
    "        video_path = os.path.join(input_dir, video_dir)\n",
    "        if not os.path.isdir(video_path):\n",
    "            continue\n",
    "        for clip in os.listdir(video_path):\n",
    "            clip_path = os.path.join(video_path, clip)\n",
    "            if os.path.isdir(clip_path):\n",
    "                all_clip_dirs.append(clip_path)\n",
    "    \n",
    "    for clip_path in all_clip_dirs:\n",
    "        for fname in os.listdir(clip_path):\n",
    "            if fname.endswith(\"_endo.png\") and \"color\" not in fname and \"mask\" not in fname:\n",
    "                frame_id = fname.replace(\"_endo.png\", \"\")\n",
    "                frame_id = frame_id.replace(\"frame_\", \"\")\n",
    "                \n",
    "                # video_tag = clip_path.split('/')\n",
    "                video_tag = os.path.basename(clip_path)\n",
    "                video_tag = video_tag.split('_')[0].replace('video', '')\n",
    "                new_base = f\"VID_{video_tag}_{frame_id}.png\"\n",
    "\n",
    "                img_path = os.path.join(clip_path, fname)\n",
    "                mask_path = os.path.join(clip_path, f\"frame_{frame_id}_endo_watershed_mask.png\")\n",
    "                \n",
    "                \n",
    "                \n",
    "                if not os.path.exists(mask_path):\n",
    "                    continue\n",
    "                                       \n",
    "                # Copy image\n",
    "                copyfile(img_path, os.path.join(img_dir, new_base))\n",
    "                \n",
    "                # Convert mask\n",
    "                raw_mask = cv2.imread(mask_path, 0)\n",
    "                converted_mask = np.zeros_like(raw_mask, dtype=np.uint8)\n",
    "                color_mask = np.zeros((*raw_mask.shape, 3), dtype=np.uint8)\n",
    "\n",
    "                unique_ids = np.unique(raw_mask)\n",
    "                for old_id in unique_ids:\n",
    "                    new_id = old_to_new_id.get(old_id, 0)\n",
    "                    color = new_id_to_color.get(new_id, (0, 0, 0))\n",
    "                    converted_mask[raw_mask == old_id] = new_id\n",
    "                    color_mask[raw_mask == old_id] = color\n",
    "\n",
    "                cv2.imwrite(os.path.join(ann_dir, f\"{new_base}\"), converted_mask)\n",
    "                cv2.imwrite(os.path.join(vis_dir, f\"{new_base}\"), color_mask)\n",
    "\n",
    "    print(\"✅ All images and masks converted for tissue segmentation.\")\n",
    "\n",
    "# Example usage:\n",
    "convert_cholecseg8k_tissue_instrument( \n",
    "    input_dir='../../datasets/cholecseg8k/archive',  # The folder containing video_01, video_02, etc.\n",
    "    output_dir='../../datasets/cholecseg8k/tissue_instrument'\n",
    ")\n"
   ]
  },
  {
   "cell_type": "code",
   "execution_count": 5,
   "id": "0dc3f6be",
   "metadata": {},
   "outputs": [],
   "source": [
    "import os\n",
    "from shutil import copyfile\n",
    "from tqdm import tqdm\n",
    "\n",
    "def split_tissue_instrument_dataset(input_dir, output_dir):\n",
    "    \n",
    "\n",
    "    for split in ['train', 'val', 'test']:\n",
    "        for subfolder in ['img_dir', 'ann_dir', 'vis_dir']:\n",
    "            os.makedirs(os.path.join(output_dir, split, subfolder), exist_ok=True)\n",
    "\n",
    "    image_dir = os.path.join(input_dir, 'img_dir')\n",
    "    ann_dir = os.path.join(input_dir, 'ann_dir')\n",
    "    vis_dir = os.path.join(input_dir, 'vis_dir')\n",
    "\n",
    "    all_images = sorted(os.listdir(image_dir))\n",
    "\n",
    "    for filename in tqdm(all_images, desc=\"Splitting into train/val/test\"):\n",
    "        seq_id = filename.split('_')[1]  # e.g., VID_01_16396.png -> '01'\n",
    "        vid_key = f\"VID{seq_id.lstrip('0')}\"  # handles zero-padding, e.g., VID01 -> VID1\n",
    "\n",
    "        # Fix if some keys are still like VID01\n",
    "        if f\"VID{seq_id}\" in seq_to_split_dict:\n",
    "            split = seq_to_split_dict[f\"VID{seq_id}\"]\n",
    "        elif vid_key in seq_to_split_dict:\n",
    "            split = seq_to_split_dict[vid_key]\n",
    "        else:\n",
    "            raise ValueError(f'{seq_id} cannot be found')\n",
    "\n",
    "        for subfolder in ['img_dir', 'ann_dir', 'vis_dir']:\n",
    "            src = os.path.join(input_dir, subfolder, filename)\n",
    "            dst = os.path.join(output_dir, split, subfolder, filename)\n",
    "            if os.path.exists(src):\n",
    "                copyfile(src, dst)\n",
    "\n",
    "    print(\"✅ Dataset successfully split.\")\n"
   ]
  },
  {
   "cell_type": "code",
   "execution_count": 6,
   "id": "73a853e5",
   "metadata": {},
   "outputs": [
    {
     "name": "stderr",
     "output_type": "stream",
     "text": [
      "Splitting into train/val/test: 100%|██████████| 8080/8080 [03:10<00:00, 42.31it/s]"
     ]
    },
    {
     "name": "stdout",
     "output_type": "stream",
     "text": [
      "✅ Dataset successfully split.\n"
     ]
    },
    {
     "name": "stderr",
     "output_type": "stream",
     "text": [
      "\n"
     ]
    }
   ],
   "source": [
    "# Example usage:\n",
    "split_tissue_instrument_dataset(\n",
    "    input_dir='../../datasets/cholecseg8k/tissue_instrument',\n",
    "    output_dir='../../datasets/cholecseg8k/tissue_instrument_mmseg_formatted'\n",
    ")"
   ]
  },
  {
   "cell_type": "markdown",
   "id": "d266006a",
   "metadata": {},
   "source": [
    "## Generate the mmdetection version"
   ]
  },
  {
   "cell_type": "markdown",
   "id": "1b10c327",
   "metadata": {},
   "source": []
  }
 ],
 "metadata": {
  "kernelspec": {
   "display_name": ".tripletsegmentation",
   "language": "python",
   "name": "python3"
  },
  "language_info": {
   "codemirror_mode": {
    "name": "ipython",
    "version": 3
   },
   "file_extension": ".py",
   "mimetype": "text/x-python",
   "name": "python",
   "nbconvert_exporter": "python",
   "pygments_lexer": "ipython3",
   "version": "3.12.1"
  }
 },
 "nbformat": 4,
 "nbformat_minor": 5
}
