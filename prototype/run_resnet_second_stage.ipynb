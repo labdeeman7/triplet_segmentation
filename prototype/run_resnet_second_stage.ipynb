{
 "cells": [
  {
   "cell_type": "code",
   "execution_count": 1,
   "metadata": {},
   "outputs": [],
   "source": [
    "%load_ext autoreload\n",
    "%autoreload 2\n",
    "\n",
    "import sys\n",
    "sys.path.append('../')"
   ]
  },
  {
   "cell_type": "code",
   "execution_count": 2,
   "metadata": {},
   "outputs": [
    {
     "name": "stderr",
     "output_type": "stream",
     "text": [
      "c:\\Users\\tal22\\Documents\\repositories\\triplet_segmentation\\.tripletsegmentation\\Lib\\site-packages\\torchvision\\models\\_utils.py:208: UserWarning: The parameter 'pretrained' is deprecated since 0.13 and may be removed in the future, please use 'weights' instead.\n",
      "  warnings.warn(\n",
      "c:\\Users\\tal22\\Documents\\repositories\\triplet_segmentation\\.tripletsegmentation\\Lib\\site-packages\\torchvision\\models\\_utils.py:223: UserWarning: Arguments other than a weight enum or `None` for 'weights' are deprecated since 0.13 and may be removed in the future. The current behavior is equivalent to passing `weights=ResNet50_Weights.IMAGENET1K_V1`. You can also use `weights=ResNet50_Weights.DEFAULT` to get the most up-to-date weights.\n",
      "  warnings.warn(msg)\n"
     ]
    },
    {
     "name": "stdout",
     "output_type": "stream",
     "text": [
      "Epoch 1/20, Loss: 1.6164509531250573\n",
      "Epoch 2/20, Loss: 1.1635952788188044\n",
      "Epoch 3/20, Loss: 0.9849706634991151\n",
      "Epoch 4/20, Loss: 0.8644452977673451\n",
      "Epoch 5/20, Loss: 0.7767342293396928\n",
      "Epoch 6/20, Loss: 0.6899980493057939\n",
      "Epoch 7/20, Loss: 0.6370679959990925\n",
      "Epoch 8/20, Loss: 0.5873459968799936\n",
      "Epoch 9/20, Loss: 0.5533960148131937\n",
      "Epoch 10/20, Loss: 0.487190257494611\n",
      "Epoch 11/20, Loss: 0.44568375979823277\n",
      "Epoch 12/20, Loss: 0.4088947540611253\n",
      "Epoch 13/20, Loss: 0.3765804901270938\n",
      "Epoch 14/20, Loss: 0.3902046704426744\n",
      "Epoch 15/20, Loss: 0.3073591993995627\n",
      "Epoch 16/20, Loss: 0.2798581135536271\n",
      "Epoch 17/20, Loss: 0.2695734145231825\n",
      "Epoch 18/20, Loss: 0.23267553292663026\n",
      "Epoch 19/20, Loss: 0.23206946978387527\n",
      "Epoch 20/20, Loss: 0.19795631008936945\n",
      "Model saved to ../resnet_model/results/model/triplet_segmentation_dataset_v2_second_stage_results.pth\n",
      "verb Accuracy: 0.83\n",
      "Target Accuracy: 0.56\n",
      "began prediction...\n",
      "Predictions saved to ../resnet_model/results/verb_target_prediction/predict_mask2former_test_triplet_segmentation_v2_results_full.json\n"
     ]
    }
   ],
   "source": [
    "%run ../resnet_model/main.py"
   ]
  },
  {
   "cell_type": "code",
   "execution_count": null,
   "metadata": {},
   "outputs": [],
   "source": []
  }
 ],
 "metadata": {
  "kernelspec": {
   "display_name": ".tripletsegmentation",
   "language": "python",
   "name": "python3"
  },
  "language_info": {
   "codemirror_mode": {
    "name": "ipython",
    "version": 3
   },
   "file_extension": ".py",
   "mimetype": "text/x-python",
   "name": "python",
   "nbconvert_exporter": "python",
   "pygments_lexer": "ipython3",
   "version": "3.12.1"
  }
 },
 "nbformat": 4,
 "nbformat_minor": 2
}
