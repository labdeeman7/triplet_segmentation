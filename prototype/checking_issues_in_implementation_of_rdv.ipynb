{
 "cells": [
  {
   "cell_type": "code",
   "execution_count": 1,
   "metadata": {},
   "outputs": [],
   "source": [
    "%load_ext autoreload\n",
    "%autoreload 2\n",
    "\n",
    "import sys\n",
    "sys.path.append('../')\n",
    "sys.path.append('../resnet_model')"
   ]
  },
  {
   "cell_type": "code",
   "execution_count": 4,
   "metadata": {},
   "outputs": [],
   "source": [
    "def split_selector(case='cholect50'):\n",
    "        switcher = {\n",
    "            'cholect50': {\n",
    "                'train': [1, 15, 26, 40, 52, 65, 79, 2, 18, 27, 43, 56, 66, 92, 4, 22, 31, 47, 57, 68, 96, 5, 23, 35, 48, 60, 70, 103, 13, 25, 36, 49, 62, 75, 110],\n",
    "                'val'  : [8, 12, 29, 50, 78],\n",
    "                'test' : [6, 51, 10, 73, 14, 74, 32, 80, 42, 111]\n",
    "            },\n",
    "            'cholect50-challenge': {\n",
    "                'train': [1, 15, 26, 40, 52, 79, 2, 27, 43, 56, 66, 4, 22, 31, 47, 57, 68, 23, 35, 48, 60, 70, 13, 25, 49, 62, 75, 8, 12, 29, 50, 78, 6, 51, 10, 73, 14, 32, 80, 42],\n",
    "                'val':   [5, 18, 36, 65, 74],\n",
    "                'test':  [92, 96, 103, 110, 111]\n",
    "            },\n",
    "            'cholect45-crossval': {\n",
    "                1: [79,  2, 51,  6, 25, 14, 66, 23, 50,],\n",
    "                2: [80, 32,  5, 15, 40, 47, 26, 48, 70,],\n",
    "                3: [31, 57, 36, 18, 52, 68, 10,  8, 73,],\n",
    "                4: [42, 29, 60, 27, 65, 75, 22, 49, 12,],\n",
    "                5: [78, 43, 62, 35, 74,  1, 56,  4, 13,],\n",
    "            },\n",
    "            'cholect50-crossval': {\n",
    "                1: [79,  2, 51,  6, 25, 14, 66, 23, 50, 111],\n",
    "                2: [80, 32,  5, 15, 40, 47, 26, 48, 70,  96],\n",
    "                3: [31, 57, 36, 18, 52, 68, 10,  8, 73, 103],\n",
    "                4: [42, 29, 60, 27, 65, 75, 22, 49, 12, 110],\n",
    "                5: [78, 43, 62, 35, 74,  1, 56,  4, 13,  92],\n",
    "            },\n",
    "            'cholect50-tripletseg': {\n",
    "                'train': [1, 2, 4, 5, 6, 8, 10, 12, 13, 18, 23, 25, 26, 27, 31, 32, 35,\n",
    "                          36, 40, 42, 43, 47, 48, 52, 56, 57, 60, 62, 68, 70, 73, 74,\n",
    "                          75, 78, 79, 80, 92, 96, 103],\n",
    "                'val': [29, 110, 111],\n",
    "                'test': [14, 15, 22, 49, 50, 51, 65, 66]\n",
    "            }\n",
    "\n",
    "        }\n",
    "        return switcher.get(case)"
   ]
  },
  {
   "cell_type": "code",
   "execution_count": 8,
   "metadata": {},
   "outputs": [],
   "source": [
    "dataset_variant = 'cholect45-crossval'\n",
    "video_split  = split_selector(case=dataset_variant)"
   ]
  },
  {
   "cell_type": "code",
   "execution_count": 20,
   "metadata": {},
   "outputs": [
    {
     "name": "stdout",
     "output_type": "stream",
     "text": [
      "[]\n"
     ]
    }
   ],
   "source": [
    "test_fold=1\n",
    "\n",
    "train_videos_1 = sum([v for k,v in video_split.items() if k!=test_fold], []) if 'crossval' in dataset_variant else video_split['train']\n",
    "test_videos_1  = sum([v for k,v in video_split.items() if k==test_fold], []) if 'crossval' in dataset_variant else video_split['test']\n",
    "\n",
    "intersection = list(set(train_videos_1).intersection(set(test_videos_1)))\n",
    "print(intersection)  "
   ]
  },
  {
   "cell_type": "code",
   "execution_count": 21,
   "metadata": {},
   "outputs": [
    {
     "name": "stdout",
     "output_type": "stream",
     "text": [
      "[]\n"
     ]
    }
   ],
   "source": [
    "test_fold=5\n",
    "\n",
    "train_videos_5 = sum([v for k,v in video_split.items() if k!=test_fold], []) if 'crossval' in dataset_variant else video_split['train']\n",
    "test_videos_5  = sum([v for k,v in video_split.items() if k==test_fold], []) if 'crossval' in dataset_variant else video_split['test']\n",
    "\n",
    "intersection = list(set(train_videos_5).intersection(set(test_videos_5)))\n",
    "print(intersection)  "
   ]
  },
  {
   "cell_type": "code",
   "execution_count": null,
   "metadata": {},
   "outputs": [
    {
     "name": "stdout",
     "output_type": "stream",
     "text": [
      "[]\n"
     ]
    }
   ],
   "source": []
  },
  {
   "cell_type": "code",
   "execution_count": null,
   "metadata": {},
   "outputs": [
    {
     "name": "stdout",
     "output_type": "stream",
     "text": [
      "[]\n"
     ]
    }
   ],
   "source": [
    "\n",
    "\n"
   ]
  },
  {
   "cell_type": "code",
   "execution_count": null,
   "metadata": {},
   "outputs": [],
   "source": []
  }
 ],
 "metadata": {
  "kernelspec": {
   "display_name": ".tripletsegmentation",
   "language": "python",
   "name": "python3"
  },
  "language_info": {
   "codemirror_mode": {
    "name": "ipython",
    "version": 3
   },
   "file_extension": ".py",
   "mimetype": "text/x-python",
   "name": "python",
   "nbconvert_exporter": "python",
   "pygments_lexer": "ipython3",
   "version": "3.12.1"
  }
 },
 "nbformat": 4,
 "nbformat_minor": 2
}
