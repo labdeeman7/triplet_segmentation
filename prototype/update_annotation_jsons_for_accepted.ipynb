{
 "cells": [
  {
   "cell_type": "markdown",
   "metadata": {},
   "source": [
    "All possible triplets. "
   ]
  },
  {
   "cell_type": "code",
   "execution_count": 2,
   "metadata": {},
   "outputs": [],
   "source": [
    "%load_ext autoreload\n",
    "%autoreload 2\n",
    "\n",
    "import sys\n",
    "sys.path.append('../')\n",
    "sys.path.append('../resnet_model')"
   ]
  },
  {
   "cell_type": "code",
   "execution_count": 5,
   "metadata": {},
   "outputs": [],
   "source": [
    "import os\n",
    "import json\n",
    "\n",
    "def combine_triplets_in_labelme_jsons(json_dir, backup=False):\n",
    "    \"\"\"\n",
    "    Combines label, verb, and target into a single label field for all LabelMe JSONs in a directory.\n",
    "    \n",
    "    Args:\n",
    "        json_dir (str): Path to the directory containing JSON files.\n",
    "        backup (bool): Whether to create backups of the original files.\n",
    "    \"\"\"\n",
    "    json_files = [f for f in os.listdir(json_dir) if f.endswith('.json')]\n",
    "\n",
    "    for file_name in json_files:\n",
    "        json_path = os.path.join(json_dir, file_name)\n",
    "\n",
    "        with open(json_path, 'r') as f:\n",
    "            data = json.load(f)\n",
    "\n",
    "        for shape in data.get('shapes', []):\n",
    "            label = shape.get('label', '')\n",
    "            verb = shape.get('verb', '')\n",
    "            target = shape.get('target', '')\n",
    "\n",
    "            combined_label = f\"{label},{verb},{target}\"\n",
    "            shape['label'] = combined_label\n",
    "\n",
    "            # Optional: remove the old fields if no longer needed\n",
    "            shape.pop('verb', None)\n",
    "            shape.pop('target', None)\n",
    "\n",
    "        # Backup original file\n",
    "        if backup:\n",
    "            os.rename(json_path, json_path + '.bak')\n",
    "\n",
    "        # Write the modified JSON back\n",
    "        with open(json_path, 'w') as f:\n",
    "            json.dump(data, f, indent=2)\n",
    "\n",
    "    print(\"Done updating all JSONs.\")\n",
    "\n",
    "# Example usage:\n",
    "# combine_triplets_in_labelme_jsons(\"/path/to/json/folder\")\n"
   ]
  },
  {
   "cell_type": "code",
   "execution_count": 6,
   "metadata": {},
   "outputs": [
    {
     "name": "stdout",
     "output_type": "stream",
     "text": [
      "Done updating all JSONs.\n"
     ]
    }
   ],
   "source": [
    "json_dir = '../../datasets/matching_and_conflict_for_current_cholecinstanceseg/3_accepted_annotations/ann_dir'\n",
    "\n",
    "combine_triplets_in_labelme_jsons(json_dir)\n"
   ]
  },
  {
   "cell_type": "code",
   "execution_count": null,
   "metadata": {},
   "outputs": [],
   "source": []
  }
 ],
 "metadata": {
  "kernelspec": {
   "display_name": ".tripletsegmentation",
   "language": "python",
   "name": "python3"
  },
  "language_info": {
   "codemirror_mode": {
    "name": "ipython",
    "version": 3
   },
   "file_extension": ".py",
   "mimetype": "text/x-python",
   "name": "python",
   "nbconvert_exporter": "python",
   "pygments_lexer": "ipython3",
   "version": "3.12.1"
  }
 },
 "nbformat": 4,
 "nbformat_minor": 2
}
