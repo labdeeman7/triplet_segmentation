{
 "cells": [
  {
   "cell_type": "code",
   "execution_count": 1,
   "metadata": {},
   "outputs": [],
   "source": [
    "%load_ext autoreload\n",
    "%autoreload 2\n",
    "\n",
    "import sys\n",
    "import pickle\n",
    "sys.path.append('..')"
   ]
  },
  {
   "cell_type": "code",
   "execution_count": 2,
   "metadata": {},
   "outputs": [],
   "source": [
    "from utils.convert_result_from_mmdet.convert_pkl_to_labelme import convert_pickle_to_labelme_json"
   ]
  },
  {
   "cell_type": "code",
   "execution_count": 12,
   "metadata": {},
   "outputs": [],
   "source": [
    "pickle_file_path = '../results/full_results_mask2former_multihead/mask2former_one_stage_multihead_full_iter_35000.pkl'\n",
    "class_threshold = 0.5\n"
   ]
  },
  {
   "cell_type": "markdown",
   "metadata": {},
   "source": [
    "need to make flow for the direct prediction"
   ]
  },
  {
   "cell_type": "code",
   "execution_count": 13,
   "metadata": {},
   "outputs": [],
   "source": [
    "with open(pickle_file_path, 'rb') as file:\n",
    "        # Load the object from the file\n",
    "        mmdet_results = pickle.load(file)"
   ]
  },
  {
   "cell_type": "code",
   "execution_count": 14,
   "metadata": {},
   "outputs": [
    {
     "data": {
      "text/plain": [
       "dict_keys(['batch_input_shape', 'pad_shape', 'img_id', 'scale_factor', 'ori_shape', 'img_path', 'img_shape', 'pred_instances'])"
      ]
     },
     "execution_count": 14,
     "metadata": {},
     "output_type": "execute_result"
    }
   ],
   "source": [
    "mmdet_results[0].keys()"
   ]
  },
  {
   "cell_type": "code",
   "execution_count": 15,
   "metadata": {},
   "outputs": [
    {
     "data": {
      "text/plain": [
       "dict_keys(['scores', 'masks', 'target_labels', 'target_scores', 'labels', 'verb_scores', 'verb_labels', 'bboxes'])"
      ]
     },
     "execution_count": 15,
     "metadata": {},
     "output_type": "execute_result"
    }
   ],
   "source": [
    "mmdet_results[0]['pred_instances'].keys()"
   ]
  },
  {
   "cell_type": "code",
   "execution_count": 16,
   "metadata": {},
   "outputs": [
    {
     "data": {
      "text/plain": [
       "tensor([6.7152e-05, 8.9318e-05, 7.7386e-03, 1.5046e-03, 5.1430e-01, 8.9500e-04,\n",
       "        2.8326e-04, 1.4137e-03, 0.0000e+00, 7.0404e-05, 5.8706e-04, 5.2970e-04,\n",
       "        5.8230e-05, 6.5875e-05, 1.1106e-03, 1.2592e-03, 1.4321e-04, 1.0970e-04,\n",
       "        3.6570e-04, 7.6287e-04, 4.3943e-04, 0.0000e+00, 0.0000e+00, 6.3906e-05,\n",
       "        1.5990e-03, 0.0000e+00, 4.9722e-05, 6.1264e-04, 8.7209e-04, 0.0000e+00,\n",
       "        7.1232e-04, 0.0000e+00, 4.4027e-04, 0.0000e+00, 0.0000e+00, 0.0000e+00,\n",
       "        0.0000e+00, 0.0000e+00, 5.4914e-05, 1.5327e-04, 5.3348e-05, 6.9142e-04,\n",
       "        8.0681e-05, 0.0000e+00, 3.4378e-04, 7.5401e-04, 1.4128e-03, 1.2335e-02,\n",
       "        8.0074e-05, 1.2588e-04, 1.0854e-04, 0.0000e+00, 0.0000e+00, 0.0000e+00,\n",
       "        0.0000e+00, 0.0000e+00, 0.0000e+00, 3.3183e-04, 0.0000e+00, 0.0000e+00,\n",
       "        0.0000e+00, 0.0000e+00, 1.1959e-04, 1.0359e-04, 0.0000e+00, 0.0000e+00,\n",
       "        0.0000e+00, 0.0000e+00, 0.0000e+00, 0.0000e+00, 0.0000e+00, 2.4009e-04,\n",
       "        4.3170e-04, 1.2950e-04, 7.0712e-04, 2.9454e-03, 5.6287e-04, 2.4192e-03,\n",
       "        1.9588e-04, 1.7327e-04, 1.7764e-04, 0.0000e+00, 0.0000e+00, 4.9720e-04,\n",
       "        8.7723e-05, 0.0000e+00, 0.0000e+00, 5.9043e-05, 3.3388e-04, 0.0000e+00,\n",
       "        1.6720e-04, 0.0000e+00, 0.0000e+00, 3.5566e-04, 1.4125e-04, 6.5854e-04,\n",
       "        3.9353e-04, 1.4492e-04, 1.1266e-03, 5.5603e-05])"
      ]
     },
     "execution_count": 16,
     "metadata": {},
     "output_type": "execute_result"
    }
   ],
   "source": [
    "mmdet_results[0]['pred_instances']['scores']"
   ]
  },
  {
   "cell_type": "code",
   "execution_count": 17,
   "metadata": {},
   "outputs": [
    {
     "data": {
      "text/plain": [
       "tensor(0.5649)"
      ]
     },
     "execution_count": 17,
     "metadata": {},
     "output_type": "execute_result"
    }
   ],
   "source": [
    "mmdet_results[0]['pred_instances']['scores'].sum() "
   ]
  },
  {
   "cell_type": "code",
   "execution_count": 18,
   "metadata": {},
   "outputs": [
    {
     "data": {
      "text/plain": [
       "tensor(782.1370)"
      ]
     },
     "execution_count": 18,
     "metadata": {},
     "output_type": "execute_result"
    }
   ],
   "source": [
    "mmdet_results[0]['pred_instances']['verb_scores'].sum()"
   ]
  },
  {
   "cell_type": "code",
   "execution_count": 19,
   "metadata": {},
   "outputs": [
    {
     "data": {
      "text/plain": [
       "tensor(839.4328)"
      ]
     },
     "execution_count": 19,
     "metadata": {},
     "output_type": "execute_result"
    }
   ],
   "source": [
    "mmdet_results[0]['pred_instances']['target_scores'].sum()"
   ]
  },
  {
   "cell_type": "code",
   "execution_count": null,
   "metadata": {},
   "outputs": [],
   "source": []
  }
 ],
 "metadata": {
  "kernelspec": {
   "display_name": ".tripletsegmentation",
   "language": "python",
   "name": "python3"
  },
  "language_info": {
   "codemirror_mode": {
    "name": "ipython",
    "version": 3
   },
   "file_extension": ".py",
   "mimetype": "text/x-python",
   "name": "python",
   "nbconvert_exporter": "python",
   "pygments_lexer": "ipython3",
   "version": "3.12.1"
  }
 },
 "nbformat": 4,
 "nbformat_minor": 2
}
